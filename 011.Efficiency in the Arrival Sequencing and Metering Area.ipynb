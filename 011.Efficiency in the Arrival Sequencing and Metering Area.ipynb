{
 "cells": [
  {
   "cell_type": "markdown",
   "metadata": {},
   "source": [
    "# Modules"
   ]
  },
  {
   "cell_type": "code",
   "execution_count": 1,
   "metadata": {},
   "outputs": [],
   "source": [
    "import pandas as pd"
   ]
  },
  {
   "cell_type": "markdown",
   "metadata": {},
   "source": [
    "# Variables"
   ]
  },
  {
   "cell_type": "code",
   "execution_count": 2,
   "metadata": {},
   "outputs": [],
   "source": [
    "dir_ASMA = '01.Data/Efficiency in the Arrival Sequencing and Metering Area/ASMA_Additional_Time.xlsx'"
   ]
  },
  {
   "cell_type": "markdown",
   "metadata": {},
   "source": [
    "# Load data"
   ]
  },
  {
   "cell_type": "code",
   "execution_count": 4,
   "metadata": {},
   "outputs": [],
   "source": [
    "df_ASMA = pd.read_excel(dir_ASMA, engine='openpyxl', sheet_name='DATA')"
   ]
  },
  {
   "cell_type": "code",
   "execution_count": 5,
   "metadata": {},
   "outputs": [
    {
     "data": {
      "text/html": [
       "<div>\n",
       "<style scoped>\n",
       "    .dataframe tbody tr th:only-of-type {\n",
       "        vertical-align: middle;\n",
       "    }\n",
       "\n",
       "    .dataframe tbody tr th {\n",
       "        vertical-align: top;\n",
       "    }\n",
       "\n",
       "    .dataframe thead th {\n",
       "        text-align: right;\n",
       "    }\n",
       "</style>\n",
       "<table border=\"1\" class=\"dataframe\">\n",
       "  <thead>\n",
       "    <tr style=\"text-align: right;\">\n",
       "      <th></th>\n",
       "      <th>YEAR</th>\n",
       "      <th>MONTH_NUM</th>\n",
       "      <th>MONTH_MON</th>\n",
       "      <th>APT_ICAO</th>\n",
       "      <th>APT_NAME</th>\n",
       "      <th>STATE_NAME</th>\n",
       "      <th>TF</th>\n",
       "      <th>VALID_FL</th>\n",
       "      <th>NO_REF</th>\n",
       "      <th>TOTAL_REF_NB_FL</th>\n",
       "      <th>TOTAL_REF_TIME_MIN</th>\n",
       "      <th>TOTAL_ADD_TIME_MIN</th>\n",
       "      <th>COMMENT</th>\n",
       "      <th>PIVOT_LABEL</th>\n",
       "    </tr>\n",
       "  </thead>\n",
       "  <tbody>\n",
       "    <tr>\n",
       "      <th>0</th>\n",
       "      <td>2018</td>\n",
       "      <td>1</td>\n",
       "      <td>JAN</td>\n",
       "      <td>EBBR</td>\n",
       "      <td>Brussels</td>\n",
       "      <td>Belgium</td>\n",
       "      <td>8528.0</td>\n",
       "      <td>6877.0</td>\n",
       "      <td>110.0</td>\n",
       "      <td>6767.0</td>\n",
       "      <td>74294.406667</td>\n",
       "      <td>19771.226667</td>\n",
       "      <td>NaN</td>\n",
       "      <td>Brussels (EBBR)</td>\n",
       "    </tr>\n",
       "    <tr>\n",
       "      <th>1</th>\n",
       "      <td>2018</td>\n",
       "      <td>2</td>\n",
       "      <td>FEB</td>\n",
       "      <td>EBBR</td>\n",
       "      <td>Brussels</td>\n",
       "      <td>Belgium</td>\n",
       "      <td>8236.0</td>\n",
       "      <td>6640.0</td>\n",
       "      <td>228.0</td>\n",
       "      <td>6412.0</td>\n",
       "      <td>72888.764167</td>\n",
       "      <td>21676.735833</td>\n",
       "      <td>NaN</td>\n",
       "      <td>Brussels (EBBR)</td>\n",
       "    </tr>\n",
       "    <tr>\n",
       "      <th>2</th>\n",
       "      <td>2018</td>\n",
       "      <td>3</td>\n",
       "      <td>MAR</td>\n",
       "      <td>EBBR</td>\n",
       "      <td>Brussels</td>\n",
       "      <td>Belgium</td>\n",
       "      <td>9399.0</td>\n",
       "      <td>7591.0</td>\n",
       "      <td>654.0</td>\n",
       "      <td>6937.0</td>\n",
       "      <td>77754.036667</td>\n",
       "      <td>19104.530000</td>\n",
       "      <td>NaN</td>\n",
       "      <td>Brussels (EBBR)</td>\n",
       "    </tr>\n",
       "    <tr>\n",
       "      <th>3</th>\n",
       "      <td>2018</td>\n",
       "      <td>4</td>\n",
       "      <td>APR</td>\n",
       "      <td>EBBR</td>\n",
       "      <td>Brussels</td>\n",
       "      <td>Belgium</td>\n",
       "      <td>9941.0</td>\n",
       "      <td>7773.0</td>\n",
       "      <td>119.0</td>\n",
       "      <td>7654.0</td>\n",
       "      <td>84399.544167</td>\n",
       "      <td>16280.505833</td>\n",
       "      <td>NaN</td>\n",
       "      <td>Brussels (EBBR)</td>\n",
       "    </tr>\n",
       "    <tr>\n",
       "      <th>4</th>\n",
       "      <td>2018</td>\n",
       "      <td>5</td>\n",
       "      <td>MAY</td>\n",
       "      <td>EBBR</td>\n",
       "      <td>Brussels</td>\n",
       "      <td>Belgium</td>\n",
       "      <td>10436.0</td>\n",
       "      <td>8271.0</td>\n",
       "      <td>66.0</td>\n",
       "      <td>8205.0</td>\n",
       "      <td>91931.490000</td>\n",
       "      <td>18441.676667</td>\n",
       "      <td>NaN</td>\n",
       "      <td>Brussels (EBBR)</td>\n",
       "    </tr>\n",
       "  </tbody>\n",
       "</table>\n",
       "</div>"
      ],
      "text/plain": [
       "   YEAR  MONTH_NUM MONTH_MON APT_ICAO  APT_NAME STATE_NAME       TF  VALID_FL  \\\n",
       "0  2018          1       JAN     EBBR  Brussels    Belgium   8528.0    6877.0   \n",
       "1  2018          2       FEB     EBBR  Brussels    Belgium   8236.0    6640.0   \n",
       "2  2018          3       MAR     EBBR  Brussels    Belgium   9399.0    7591.0   \n",
       "3  2018          4       APR     EBBR  Brussels    Belgium   9941.0    7773.0   \n",
       "4  2018          5       MAY     EBBR  Brussels    Belgium  10436.0    8271.0   \n",
       "\n",
       "   NO_REF  TOTAL_REF_NB_FL  TOTAL_REF_TIME_MIN  TOTAL_ADD_TIME_MIN COMMENT  \\\n",
       "0   110.0           6767.0        74294.406667        19771.226667     NaN   \n",
       "1   228.0           6412.0        72888.764167        21676.735833     NaN   \n",
       "2   654.0           6937.0        77754.036667        19104.530000     NaN   \n",
       "3   119.0           7654.0        84399.544167        16280.505833     NaN   \n",
       "4    66.0           8205.0        91931.490000        18441.676667     NaN   \n",
       "\n",
       "       PIVOT_LABEL  \n",
       "0  Brussels (EBBR)  \n",
       "1  Brussels (EBBR)  \n",
       "2  Brussels (EBBR)  \n",
       "3  Brussels (EBBR)  \n",
       "4  Brussels (EBBR)  "
      ]
     },
     "execution_count": 5,
     "metadata": {},
     "output_type": "execute_result"
    }
   ],
   "source": [
    "df_ASMA.head()"
   ]
  }
 ],
 "metadata": {
  "kernelspec": {
   "display_name": "Python 3.10.6 ('dabs_venv': venv)",
   "language": "python",
   "name": "python3"
  },
  "language_info": {
   "codemirror_mode": {
    "name": "ipython",
    "version": 3
   },
   "file_extension": ".py",
   "mimetype": "text/x-python",
   "name": "python",
   "nbconvert_exporter": "python",
   "pygments_lexer": "ipython3",
   "version": "3.10.6"
  },
  "orig_nbformat": 4,
  "vscode": {
   "interpreter": {
    "hash": "7e6d6e820f3581dac8fa172373a8b5335c82ce34cb10cbc3340c5ea72ba4335f"
   }
  }
 },
 "nbformat": 4,
 "nbformat_minor": 2
}
