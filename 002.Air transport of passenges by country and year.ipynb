{
 "cells": [
  {
   "cell_type": "markdown",
   "id": "2c1c0e04",
   "metadata": {},
   "source": [
    "# 1.Modules"
   ]
  },
  {
   "cell_type": "code",
   "execution_count": 3,
   "id": "e60cacdf",
   "metadata": {},
   "outputs": [],
   "source": [
    "import pandas as pd\n",
    "import numpy as np\n",
    "import matplotlib.pyplot as plt\n",
    "import seaborn as sns\n",
    "\n",
    "from pandasql import sqldf"
   ]
  },
  {
   "cell_type": "markdown",
   "id": "be3ca084",
   "metadata": {},
   "source": [
    "# 2.Variables"
   ]
  },
  {
   "cell_type": "markdown",
   "id": "cf9cff39",
   "metadata": {},
   "source": [
    "## 2.1. Filenames"
   ]
  },
  {
   "cell_type": "code",
   "execution_count": 1,
   "id": "abc6fe3a",
   "metadata": {},
   "outputs": [],
   "source": [
    "# National emissions reported to the Convention on Long-range Transboundary Air Pollution (LRTAP Convention), 2023\n",
    "# Air transport of passengers by country (yearly data)\n",
    "ds_AirPassengers='01.Data/Air transport of passengers by country (yearly data)/ttr00012_page_spreadsheet.xlsx'"
   ]
  },
  {
   "cell_type": "markdown",
   "id": "55862317",
   "metadata": {},
   "source": [
    "# 3.Load data"
   ]
  },
  {
   "cell_type": "code",
   "execution_count": 20,
   "id": "2ef5273d",
   "metadata": {},
   "outputs": [
    {
     "name": "stderr",
     "output_type": "stream",
     "text": [
      "/Library/Frameworks/Python.framework/Versions/3.8/lib/python3.8/site-packages/openpyxl/styles/stylesheet.py:226: UserWarning: Workbook contains no default style, apply openpyxl's default\n",
      "  warn(\"Workbook contains no default style, apply openpyxl's default\")\n"
     ]
    }
   ],
   "source": [
    "df_AirPassengers = pd.read_excel(ds_AirPassengers, sheet_name='Sheet 1', skiprows=10)\n"
   ]
  },
  {
   "cell_type": "code",
   "execution_count": 22,
   "id": "84c11b5d",
   "metadata": {},
   "outputs": [],
   "source": [
    "# Drop first row \n",
    "df_AirPassengers = df_AirPassengers.iloc[1:]"
   ]
  },
  {
   "cell_type": "code",
   "execution_count": 24,
   "id": "09330441",
   "metadata": {},
   "outputs": [],
   "source": [
    "# Rename first column\n",
    "df_AirPassengers = df_AirPassengers.rename(columns={'TIME': 'Geo'})"
   ]
  },
  {
   "cell_type": "code",
   "execution_count": 26,
   "id": "18dfe37e",
   "metadata": {},
   "outputs": [
    {
     "data": {
      "text/html": [
       "<div>\n",
       "<style scoped>\n",
       "    .dataframe tbody tr th:only-of-type {\n",
       "        vertical-align: middle;\n",
       "    }\n",
       "\n",
       "    .dataframe tbody tr th {\n",
       "        vertical-align: top;\n",
       "    }\n",
       "\n",
       "    .dataframe thead th {\n",
       "        text-align: right;\n",
       "    }\n",
       "</style>\n",
       "<table border=\"1\" class=\"dataframe\">\n",
       "  <thead>\n",
       "    <tr style=\"text-align: right;\">\n",
       "      <th></th>\n",
       "      <th>Geo</th>\n",
       "      <th>2013</th>\n",
       "      <th>2014</th>\n",
       "      <th>2015</th>\n",
       "      <th>2016</th>\n",
       "      <th>2017</th>\n",
       "      <th>2018</th>\n",
       "      <th>2019</th>\n",
       "      <th>2020</th>\n",
       "      <th>2021</th>\n",
       "      <th>2022</th>\n",
       "    </tr>\n",
       "  </thead>\n",
       "  <tbody>\n",
       "    <tr>\n",
       "      <th>1</th>\n",
       "      <td>European Union - 27 countries (from 2020)</td>\n",
       "      <td>746100398</td>\n",
       "      <td>781202599</td>\n",
       "      <td>819698948</td>\n",
       "      <td>871695782</td>\n",
       "      <td>938854476</td>\n",
       "      <td>996295411</td>\n",
       "      <td>1035119832</td>\n",
       "      <td>276758108</td>\n",
       "      <td>373809763</td>\n",
       "      <td>819849662</td>\n",
       "    </tr>\n",
       "    <tr>\n",
       "      <th>2</th>\n",
       "      <td>Euro area – 20 countries (from 2023)</td>\n",
       "      <td>:</td>\n",
       "      <td>:</td>\n",
       "      <td>:</td>\n",
       "      <td>:</td>\n",
       "      <td>:</td>\n",
       "      <td>:</td>\n",
       "      <td>:</td>\n",
       "      <td>:</td>\n",
       "      <td>:</td>\n",
       "      <td>:</td>\n",
       "    </tr>\n",
       "    <tr>\n",
       "      <th>3</th>\n",
       "      <td>Euro area - 19 countries  (2015-2022)</td>\n",
       "      <td>:</td>\n",
       "      <td>:</td>\n",
       "      <td>:</td>\n",
       "      <td>:</td>\n",
       "      <td>:</td>\n",
       "      <td>:</td>\n",
       "      <td>:</td>\n",
       "      <td>:</td>\n",
       "      <td>:</td>\n",
       "      <td>:</td>\n",
       "    </tr>\n",
       "    <tr>\n",
       "      <th>4</th>\n",
       "      <td>Belgium</td>\n",
       "      <td>26389927</td>\n",
       "      <td>28776258</td>\n",
       "      <td>30958841</td>\n",
       "      <td>30115832</td>\n",
       "      <td>33260493</td>\n",
       "      <td>34506309</td>\n",
       "      <td>35385188</td>\n",
       "      <td>9465828</td>\n",
       "      <td>13500020</td>\n",
       "      <td>27873892</td>\n",
       "    </tr>\n",
       "    <tr>\n",
       "      <th>5</th>\n",
       "      <td>Bulgaria</td>\n",
       "      <td>7079292</td>\n",
       "      <td>7520697</td>\n",
       "      <td>7610949</td>\n",
       "      <td>9324217</td>\n",
       "      <td>11092651</td>\n",
       "      <td>12137714</td>\n",
       "      <td>11713068</td>\n",
       "      <td>3729017</td>\n",
       "      <td>5047877</td>\n",
       "      <td>8807502</td>\n",
       "    </tr>\n",
       "  </tbody>\n",
       "</table>\n",
       "</div>"
      ],
      "text/plain": [
       "                                         Geo       2013       2014       2015  \\\n",
       "1  European Union - 27 countries (from 2020)  746100398  781202599  819698948   \n",
       "2       Euro area – 20 countries (from 2023)          :          :          :   \n",
       "3      Euro area - 19 countries  (2015-2022)          :          :          :   \n",
       "4                                    Belgium   26389927   28776258   30958841   \n",
       "5                                   Bulgaria    7079292    7520697    7610949   \n",
       "\n",
       "        2016       2017       2018        2019       2020       2021  \\\n",
       "1  871695782  938854476  996295411  1035119832  276758108  373809763   \n",
       "2          :          :          :           :          :          :   \n",
       "3          :          :          :           :          :          :   \n",
       "4   30115832   33260493   34506309    35385188    9465828   13500020   \n",
       "5    9324217   11092651   12137714    11713068    3729017    5047877   \n",
       "\n",
       "        2022  \n",
       "1  819849662  \n",
       "2          :  \n",
       "3          :  \n",
       "4   27873892  \n",
       "5    8807502  "
      ]
     },
     "execution_count": 26,
     "metadata": {},
     "output_type": "execute_result"
    }
   ],
   "source": [
    "df_AirPassengers.head()"
   ]
  },
  {
   "cell_type": "markdown",
   "id": "1e25d6cf",
   "metadata": {},
   "source": [
    "# 4. Filter the dataset"
   ]
  },
  {
   "cell_type": "code",
   "execution_count": 28,
   "id": "3ce92803",
   "metadata": {},
   "outputs": [],
   "source": [
    "df_AirPassengersEU27 = df_AirPassengers[(df_AirPassengers.Geo == 'European Union - 27 countries (from 2020)')]"
   ]
  },
  {
   "cell_type": "code",
   "execution_count": 31,
   "id": "997020e8",
   "metadata": {},
   "outputs": [
    {
     "data": {
      "text/html": [
       "<div>\n",
       "<style scoped>\n",
       "    .dataframe tbody tr th:only-of-type {\n",
       "        vertical-align: middle;\n",
       "    }\n",
       "\n",
       "    .dataframe tbody tr th {\n",
       "        vertical-align: top;\n",
       "    }\n",
       "\n",
       "    .dataframe thead th {\n",
       "        text-align: right;\n",
       "    }\n",
       "</style>\n",
       "<table border=\"1\" class=\"dataframe\">\n",
       "  <thead>\n",
       "    <tr style=\"text-align: right;\">\n",
       "      <th></th>\n",
       "      <th>1</th>\n",
       "    </tr>\n",
       "  </thead>\n",
       "  <tbody>\n",
       "    <tr>\n",
       "      <th>Geo</th>\n",
       "      <td>European Union - 27 countries (from 2020)</td>\n",
       "    </tr>\n",
       "    <tr>\n",
       "      <th>2013</th>\n",
       "      <td>746100398</td>\n",
       "    </tr>\n",
       "    <tr>\n",
       "      <th>2014</th>\n",
       "      <td>781202599</td>\n",
       "    </tr>\n",
       "    <tr>\n",
       "      <th>2015</th>\n",
       "      <td>819698948</td>\n",
       "    </tr>\n",
       "    <tr>\n",
       "      <th>2016</th>\n",
       "      <td>871695782</td>\n",
       "    </tr>\n",
       "  </tbody>\n",
       "</table>\n",
       "</div>"
      ],
      "text/plain": [
       "                                              1\n",
       "Geo   European Union - 27 countries (from 2020)\n",
       "2013                                  746100398\n",
       "2014                                  781202599\n",
       "2015                                  819698948\n",
       "2016                                  871695782"
      ]
     },
     "execution_count": 31,
     "metadata": {},
     "output_type": "execute_result"
    }
   ],
   "source": [
    "df_AirPassengersEU27.head()"
   ]
  },
  {
   "cell_type": "code",
   "execution_count": 30,
   "id": "a425d00f",
   "metadata": {},
   "outputs": [],
   "source": [
    "df_AirPassengersEU27 = df_AirPassengersEU27.transpose()"
   ]
  }
 ],
 "metadata": {
  "kernelspec": {
   "display_name": "DABSvenv",
   "language": "python",
   "name": "dabsvenv"
  },
  "language_info": {
   "codemirror_mode": {
    "name": "ipython",
    "version": 3
   },
   "file_extension": ".py",
   "mimetype": "text/x-python",
   "name": "python",
   "nbconvert_exporter": "python",
   "pygments_lexer": "ipython3",
   "version": "3.8.0"
  },
  "vscode": {
   "interpreter": {
    "hash": "7e6d6e820f3581dac8fa172373a8b5335c82ce34cb10cbc3340c5ea72ba4335f"
   }
  }
 },
 "nbformat": 4,
 "nbformat_minor": 5
}
