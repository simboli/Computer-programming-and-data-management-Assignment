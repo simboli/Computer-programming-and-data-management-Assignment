{
 "cells": [
  {
   "cell_type": "markdown",
   "metadata": {},
   "source": [
    "# Modules"
   ]
  },
  {
   "cell_type": "code",
   "execution_count": null,
   "metadata": {},
   "outputs": [],
   "source": [
    "import pandas as pd\n",
    "import numpy as np\n",
    "import matplotlib.pyplot as plt\n",
    "import seaborn as sns\n",
    "\n",
    "from pandasql import sqldf"
   ]
  },
  {
   "cell_type": "markdown",
   "metadata": {},
   "source": [
    "# Variables"
   ]
  },
  {
   "cell_type": "code",
   "execution_count": null,
   "metadata": {},
   "outputs": [],
   "source": [
    "# National emissions reported to the Convention on Long-range Transboundary Air Pollution (LRTAP Convention), 2023\n",
    "# https://sdi.eea.europa.eu/catalogue/srv/eng/catalog.search#/metadata/2999364f-be52-4012-b4fd-f98e2cc8fab6\n",
    "ds_LRTAPemissions = '01.Data/eea_t_lrtap-convention_p_1990-2021_v01_r00/CLRTAP_NVFR19_V23_1_GF_csv.csv'"
   ]
  },
  {
   "cell_type": "code",
   "execution_count": null,
   "metadata": {},
   "outputs": [],
   "source": [
    "out_EU27_emissions = '02.Transformed data/01.EU27_emissions.csv'\n",
    "out_EU27_emissions_Country_Year = '02.Transformed data/01.EU27_emissions_Country_Year.csv'"
   ]
  },
  {
   "cell_type": "markdown",
   "metadata": {},
   "source": [
    "# Parameters"
   ]
  },
  {
   "cell_type": "code",
   "execution_count": null,
   "metadata": {},
   "outputs": [],
   "source": [
    "# European 27 Countries\n",
    "countryEU27 = ['BE','BG','CZ','DK','DE','EE','IE','GR','ES','FR','HR','IT','CY','LV','LT','LU','HU','MT','NL','AT','PL','PT','RO','SI','SK','FI','SE']"
   ]
  },
  {
   "cell_type": "markdown",
   "metadata": {},
   "source": [
    "# Load data"
   ]
  },
  {
   "cell_type": "code",
   "execution_count": null,
   "metadata": {},
   "outputs": [],
   "source": [
    "df_LRTAPemissions=pd.read_csv(ds_LRTAPemissions,header=0,delimiter=\"\\t\", dtype='unicode')"
   ]
  },
  {
   "cell_type": "markdown",
   "metadata": {},
   "source": [
    "# Manipulate data"
   ]
  },
  {
   "cell_type": "markdown",
   "metadata": {},
   "source": [
    "## National emissions"
   ]
  },
  {
   "cell_type": "markdown",
   "metadata": {},
   "source": [
    "### Perimeter of analysis"
   ]
  },
  {
   "cell_type": "code",
   "execution_count": null,
   "metadata": {},
   "outputs": [],
   "source": [
    "# Define the sectors of interest\n",
    "sectors_of_interest = [\n",
    "    'International aviation LTO (civil)',\n",
    "    'Domestic aviation LTO (civil)',\n",
    "    'International aviation cruise (civil)',\n",
    "    'Domestic aviation cruise (civil)'\n",
    "]\n",
    "\n",
    "# Filter the DataFrame for these sectors\n",
    "df_emissions = df_LRTAPemissions[df_LRTAPemissions['Sector_name'].isin(sectors_of_interest)]\n",
    "\n",
    "# Filter the DataFrame\n",
    "df_emissions_Country = df_emissions[(df_emissions.Country_Code != 'EU27')]\n",
    "df_emissions_Country = df_emissions_Country[(df_emissions_Country.Country_Code != 'EEA32')]\n",
    "\n",
    "df_emissions = df_emissions[(df_emissions.Country_Code == 'EU27')]"
   ]
  },
  {
   "cell_type": "markdown",
   "metadata": {},
   "source": [
    "### Management of Nan values"
   ]
  },
  {
   "cell_type": "code",
   "execution_count": null,
   "metadata": {},
   "outputs": [],
   "source": [
    "df_emissionsPCB = df_emissions[(df_emissions.Pollutant_name == 'PCB')]"
   ]
  },
  {
   "cell_type": "markdown",
   "metadata": {},
   "source": [
    "For `Domestic aviation cruise (civil)` and `International aviation cruise (civil)\t` we don't have any information so we can't fill the rows with Nan values, we proceed with the analysis of only `nternational aviation LTO (civil)\t` rows."
   ]
  },
  {
   "cell_type": "code",
   "execution_count": null,
   "metadata": {},
   "outputs": [],
   "source": [
    "df_emissionsPCB_LTO = df_emissionsPCB[(df_emissionsPCB.Sector_name == 'International aviation LTO (civil)')]\n",
    "df_emissionsPCB_LTO = df_emissionsPCB_LTO.ffill()"
   ]
  },
  {
   "cell_type": "code",
   "execution_count": null,
   "metadata": {},
   "outputs": [],
   "source": [
    "# Delete rows from Pollutant_name == 'PCB' AND Sector_name == 'International aviation LTO (civil)'\n",
    "df_emissions = df_emissions[~((df_emissions.Pollutant_name == 'PCB') & (df_emissionsPCB.Sector_name == 'International aviation LTO (civil)'))]\n",
    "\n",
    "# Add df_emissionsPCB_LTO to df_emissions\n",
    "df_emissions = pd.concat([df_emissions, df_emissionsPCB_LTO], axis=0)\n",
    "\n",
    "df_emissionsPCB = df_emissions[(df_emissions.Pollutant_name == 'PCB')]\n",
    "df_emissionsPCB.groupby(['Sector_name']).agg({'Emissions': lambda x: x.isnull().sum()})"
   ]
  },
  {
   "cell_type": "markdown",
   "metadata": {},
   "source": [
    "### Pivot data"
   ]
  },
  {
   "cell_type": "code",
   "execution_count": null,
   "metadata": {},
   "outputs": [],
   "source": [
    "def transform_df(df):\n",
    "    # Group by Year and Pollutant_name, then sum the Emissions\n",
    "    grouped = df.groupby(['Year', 'Pollutant_name'])['Emissions'].sum()\n",
    "\n",
    "    # Pivot the table\n",
    "    pivoted_df = grouped.unstack(level='Pollutant_name')\n",
    "\n",
    "    # Reset index to make 'Year' a column\n",
    "    pivoted_df.reset_index(inplace=True)\n",
    "\n",
    "    return pivoted_df"
   ]
  },
  {
   "cell_type": "code",
   "execution_count": null,
   "metadata": {},
   "outputs": [],
   "source": [
    "# Use the function on your DataFrame\n",
    "df_emissionsPV = transform_df(df_emissions)"
   ]
  },
  {
   "cell_type": "markdown",
   "metadata": {},
   "source": [
    "### Moving average"
   ]
  },
  {
   "cell_type": "code",
   "execution_count": null,
   "metadata": {},
   "outputs": [],
   "source": [
    "pollutants = []\n",
    "\n",
    "# Iterate over column names\n",
    "for column in df_emissionsPV:\n",
    "    if column != 'Year':\n",
    "        df_emissionsPV['rolling_'+column] = df_emissionsPV[column].rolling(5).mean()\n",
    "        pollutants.append(column)"
   ]
  }
 ],
 "metadata": {
  "kernelspec": {
   "display_name": "Python 3.8.10 64-bit",
   "language": "python",
   "name": "python3"
  },
  "language_info": {
   "name": "python",
   "version": "3.8.10"
  },
  "orig_nbformat": 4,
  "vscode": {
   "interpreter": {
    "hash": "aee8b7b246df8f9039afb4144a1f6fd8d2ca17a180786b69acc140d282b71a49"
   }
  }
 },
 "nbformat": 4,
 "nbformat_minor": 2
}
