{
 "cells": [
  {
   "cell_type": "markdown",
   "metadata": {},
   "source": [
    "# Modules"
   ]
  },
  {
   "cell_type": "code",
   "execution_count": 1,
   "metadata": {},
   "outputs": [],
   "source": [
    "import pandas as pd\n",
    "import os \n",
    "import glob "
   ]
  },
  {
   "cell_type": "markdown",
   "metadata": {},
   "source": [
    "# Variables"
   ]
  },
  {
   "cell_type": "code",
   "execution_count": 2,
   "metadata": {},
   "outputs": [],
   "source": [
    "dir_HFE = '01.Data/Horizontal Flight Efficiency'"
   ]
  },
  {
   "cell_type": "markdown",
   "metadata": {},
   "source": [
    "# Load data"
   ]
  },
  {
   "cell_type": "code",
   "execution_count": 20,
   "metadata": {},
   "outputs": [
    {
     "name": "stdout",
     "output_type": "stream",
     "text": [
      "Location: 01.Data/Horizontal Flight Efficiency/hfe_2021.csv\n",
      "File Name: 01.Data/Horizontal Flight Efficiency/hfe_2021.csv\n",
      "\n",
      "Location: 01.Data/Horizontal Flight Efficiency/hfe_2020.csv\n",
      "File Name: 01.Data/Horizontal Flight Efficiency/hfe_2020.csv\n",
      "\n",
      "Location: 01.Data/Horizontal Flight Efficiency/hfe_2022.csv\n",
      "File Name: 01.Data/Horizontal Flight Efficiency/hfe_2022.csv\n",
      "\n",
      "Location: 01.Data/Horizontal Flight Efficiency/hfe_2023.csv\n",
      "File Name: 01.Data/Horizontal Flight Efficiency/hfe_2023.csv\n",
      "\n",
      "Location: 01.Data/Horizontal Flight Efficiency/hfe_2018.csv\n",
      "File Name: 01.Data/Horizontal Flight Efficiency/hfe_2018.csv\n",
      "\n",
      "Location: 01.Data/Horizontal Flight Efficiency/hfe_2019.csv\n",
      "File Name: 01.Data/Horizontal Flight Efficiency/hfe_2019.csv\n",
      "\n",
      "Location: 01.Data/Horizontal Flight Efficiency/hfe_2014.csv\n",
      "File Name: 01.Data/Horizontal Flight Efficiency/hfe_2014.csv\n",
      "\n",
      "Location: 01.Data/Horizontal Flight Efficiency/hfe_2015.csv\n",
      "File Name: 01.Data/Horizontal Flight Efficiency/hfe_2015.csv\n",
      "\n",
      "Location: 01.Data/Horizontal Flight Efficiency/hfe_2017.csv\n",
      "File Name: 01.Data/Horizontal Flight Efficiency/hfe_2017.csv\n",
      "\n",
      "Location: 01.Data/Horizontal Flight Efficiency/hfe_2016.csv\n",
      "File Name: 01.Data/Horizontal Flight Efficiency/hfe_2016.csv\n",
      "\n"
     ]
    }
   ],
   "source": [
    "# use glob to get all the csv files  \n",
    "# in the folder \n",
    "path = \"os.getcwd() \"\n",
    "csv_files = glob.glob(os.path.join(dir_HFE, \"*.csv\")) \n",
    "  \n",
    "df_HFE=pd.read_csv('01.Data/Horizontal Flight Efficiency/hfe_2014.csv',header=0,delimiter=\",\", dtype='unicode')\n",
    "df_HFE.truncate()\n",
    "\n",
    "# loop over the list of csv files \n",
    "for f in csv_files: \n",
    "      \n",
    "    # read the csv file \n",
    "    df = pd.read_csv(f) \n",
    "    #df_HFE.append(df)\n",
    "    df_HFE = pd.concat([df_HFE, df], ignore_index=True)\n",
    "\n",
    "      \n",
    "    # print the location and filename \n",
    "    print('Location:', f) \n",
    "    print('File Name:', f.split(\"\\\\\")[-1]) \n",
    "      \n",
    "    # print the content \n",
    "    #print('Content:') \n",
    "    #display(df_HFE) \n",
    "    print() "
   ]
  },
  {
   "cell_type": "code",
   "execution_count": 22,
   "metadata": {},
   "outputs": [
    {
     "data": {
      "text/html": [
       "<div>\n",
       "<style scoped>\n",
       "    .dataframe tbody tr th:only-of-type {\n",
       "        vertical-align: middle;\n",
       "    }\n",
       "\n",
       "    .dataframe tbody tr th {\n",
       "        vertical-align: top;\n",
       "    }\n",
       "\n",
       "    .dataframe thead th {\n",
       "        text-align: right;\n",
       "    }\n",
       "</style>\n",
       "<table border=\"1\" class=\"dataframe\">\n",
       "  <thead>\n",
       "    <tr style=\"text-align: right;\">\n",
       "      <th></th>\n",
       "      <th>YEAR</th>\n",
       "      <th>MONTH_NUM</th>\n",
       "      <th>MONTH_MON</th>\n",
       "      <th>ENTRY_DATE</th>\n",
       "      <th>ENTITY_NAME</th>\n",
       "      <th>ENTITY_TYPE</th>\n",
       "      <th>TYPE_MODEL</th>\n",
       "      <th>DIST_FLOWN_KM</th>\n",
       "      <th>DIST_DIRECT_KM</th>\n",
       "      <th>DIST_ACHIEVED_KM</th>\n",
       "    </tr>\n",
       "  </thead>\n",
       "  <tbody>\n",
       "    <tr>\n",
       "      <th>0</th>\n",
       "      <td>2014</td>\n",
       "      <td>1</td>\n",
       "      <td>JAN</td>\n",
       "      <td>2014-01-01T00:00:00Z</td>\n",
       "      <td>Albania</td>\n",
       "      <td>State (FIR)</td>\n",
       "      <td>CPF</td>\n",
       "      <td>44782</td>\n",
       "      <td>44746.65</td>\n",
       "      <td>44087.5</td>\n",
       "    </tr>\n",
       "    <tr>\n",
       "      <th>1</th>\n",
       "      <td>2014</td>\n",
       "      <td>1</td>\n",
       "      <td>JAN</td>\n",
       "      <td>2014-01-01T00:00:00Z</td>\n",
       "      <td>Albania</td>\n",
       "      <td>State (FIR)</td>\n",
       "      <td>FTFM</td>\n",
       "      <td>49328</td>\n",
       "      <td>49190.07</td>\n",
       "      <td>47423.78</td>\n",
       "    </tr>\n",
       "    <tr>\n",
       "      <th>2</th>\n",
       "      <td>2014</td>\n",
       "      <td>1</td>\n",
       "      <td>JAN</td>\n",
       "      <td>2014-01-01T00:00:00Z</td>\n",
       "      <td>Armenia</td>\n",
       "      <td>State (FIR)</td>\n",
       "      <td>FTFM</td>\n",
       "      <td>23480</td>\n",
       "      <td>23269.170000000002</td>\n",
       "      <td>23002.68</td>\n",
       "    </tr>\n",
       "    <tr>\n",
       "      <th>3</th>\n",
       "      <td>2014</td>\n",
       "      <td>1</td>\n",
       "      <td>JAN</td>\n",
       "      <td>2014-01-01T00:00:00Z</td>\n",
       "      <td>Austria</td>\n",
       "      <td>State (FIR)</td>\n",
       "      <td>CPF</td>\n",
       "      <td>252270</td>\n",
       "      <td>251353.30000000002</td>\n",
       "      <td>247097.24</td>\n",
       "    </tr>\n",
       "    <tr>\n",
       "      <th>4</th>\n",
       "      <td>2014</td>\n",
       "      <td>1</td>\n",
       "      <td>JAN</td>\n",
       "      <td>2014-01-01T00:00:00Z</td>\n",
       "      <td>Austria</td>\n",
       "      <td>State (FIR)</td>\n",
       "      <td>FTFM</td>\n",
       "      <td>280193</td>\n",
       "      <td>275747.03</td>\n",
       "      <td>267401.38</td>\n",
       "    </tr>\n",
       "  </tbody>\n",
       "</table>\n",
       "</div>"
      ],
      "text/plain": [
       "   YEAR MONTH_NUM MONTH_MON            ENTRY_DATE ENTITY_NAME  ENTITY_TYPE  \\\n",
       "0  2014         1       JAN  2014-01-01T00:00:00Z     Albania  State (FIR)   \n",
       "1  2014         1       JAN  2014-01-01T00:00:00Z     Albania  State (FIR)   \n",
       "2  2014         1       JAN  2014-01-01T00:00:00Z     Armenia  State (FIR)   \n",
       "3  2014         1       JAN  2014-01-01T00:00:00Z     Austria  State (FIR)   \n",
       "4  2014         1       JAN  2014-01-01T00:00:00Z     Austria  State (FIR)   \n",
       "\n",
       "  TYPE_MODEL DIST_FLOWN_KM      DIST_DIRECT_KM DIST_ACHIEVED_KM  \n",
       "0        CPF         44782            44746.65          44087.5  \n",
       "1       FTFM         49328            49190.07         47423.78  \n",
       "2       FTFM         23480  23269.170000000002         23002.68  \n",
       "3        CPF        252270  251353.30000000002        247097.24  \n",
       "4       FTFM        280193           275747.03        267401.38  "
      ]
     },
     "execution_count": 22,
     "metadata": {},
     "output_type": "execute_result"
    }
   ],
   "source": [
    "df_HFE.head()"
   ]
  },
  {
   "cell_type": "code",
   "execution_count": 23,
   "metadata": {},
   "outputs": [
    {
     "name": "stdout",
     "output_type": "stream",
     "text": [
      "<class 'pandas.core.frame.DataFrame'>\n",
      "RangeIndex: 583663 entries, 0 to 583662\n",
      "Data columns (total 10 columns):\n",
      " #   Column            Non-Null Count   Dtype \n",
      "---  ------            --------------   ----- \n",
      " 0   YEAR              78840 non-null   object\n",
      " 1   MONTH_NUM         583663 non-null  object\n",
      " 2   MONTH_MON         583663 non-null  object\n",
      " 3   ENTRY_DATE        583663 non-null  object\n",
      " 4   ENTITY_NAME       583663 non-null  object\n",
      " 5   ENTITY_TYPE       583663 non-null  object\n",
      " 6   TYPE_MODEL        583663 non-null  object\n",
      " 7   DIST_FLOWN_KM     583663 non-null  object\n",
      " 8   DIST_DIRECT_KM    583663 non-null  object\n",
      " 9   DIST_ACHIEVED_KM  583663 non-null  object\n",
      "dtypes: object(10)\n",
      "memory usage: 44.5+ MB\n"
     ]
    }
   ],
   "source": [
    "df_HFE.info()"
   ]
  },
  {
   "cell_type": "code",
   "execution_count": 26,
   "metadata": {},
   "outputs": [],
   "source": [
    "df_HFE['ENTRY_DATE'] = pd.to_datetime(df_HFE['ENTRY_DATE'])\n",
    "df_HFE['DIST_FLOWN_KM'] = df_HFE['DIST_FLOWN_KM'].astype(\"float\")\n",
    "df_HFE['DIST_DIRECT_KM'] = df_HFE['DIST_DIRECT_KM'].astype(\"float\")\n",
    "df_HFE['DIST_ACHIEVED_KM'] = df_HFE['DIST_ACHIEVED_KM'].astype(\"float\")"
   ]
  },
  {
   "cell_type": "code",
   "execution_count": 33,
   "metadata": {},
   "outputs": [
    {
     "data": {
      "text/plain": [
       "array(['Albania', 'Armenia', 'Austria', 'BLUE MED FAB', 'Baltic FAB',\n",
       "       'Belgium', 'Bosnia and Herzegovina', 'Bulgaria', 'Croatia',\n",
       "       'Cyprus', 'Czech Republic', 'DANUBE FAB', 'DK-SE FAB', 'Denmark',\n",
       "       'EUROCONTROL Area (PRR)', 'Estonia', 'FAB CE', 'FAB CE (SES RP1)',\n",
       "       'FAB CE (SES RP2)', 'FABEC', 'Finland', 'France', 'Georgia',\n",
       "       'Germany', 'Greece', 'Hungary', 'Ireland', 'Italy', 'Latvia',\n",
       "       'Lithuania', 'Malta', 'Moldova', 'Morocco', 'NEFAB', 'Netherlands',\n",
       "       'North Macedonia', 'Norway', 'Poland', 'Portugal (Continental)',\n",
       "       'RP2 minus UK', 'Romania', 'SES Area (RP1)', 'SES Area (RP2)',\n",
       "       'SW FAB', 'Serbia and Montenegro', 'Slovakia', 'Slovenia', 'Spain',\n",
       "       'Spain (Canarias)', 'Spain (Continental)', 'Sweden', 'Switzerland',\n",
       "       'UK (Continental)', 'UK-Ireland FAB', 'Ukraine', 'SES Area (RP3)',\n",
       "       'Turkiye'], dtype=object)"
      ]
     },
     "execution_count": 33,
     "metadata": {},
     "output_type": "execute_result"
    }
   ],
   "source": [
    "df_HFE.ENTITY_NAME.unique()"
   ]
  },
  {
   "cell_type": "code",
   "execution_count": 28,
   "metadata": {},
   "outputs": [
    {
     "data": {
      "text/plain": [
       "Timestamp('2014-01-01 00:00:00+0000', tz='UTC')"
      ]
     },
     "execution_count": 28,
     "metadata": {},
     "output_type": "execute_result"
    }
   ],
   "source": [
    "df_HFE.ENTRY_DATE.min()"
   ]
  },
  {
   "cell_type": "code",
   "execution_count": 29,
   "metadata": {},
   "outputs": [
    {
     "data": {
      "text/plain": [
       "Timestamp('2023-11-30 00:00:00+0000', tz='UTC')"
      ]
     },
     "execution_count": 29,
     "metadata": {},
     "output_type": "execute_result"
    }
   ],
   "source": [
    "df_HFE.ENTRY_DATE.max()"
   ]
  }
 ],
 "metadata": {
  "kernelspec": {
   "display_name": "Python 3.10.6 ('dabs_venv': venv)",
   "language": "python",
   "name": "python3"
  },
  "language_info": {
   "codemirror_mode": {
    "name": "ipython",
    "version": 3
   },
   "file_extension": ".py",
   "mimetype": "text/x-python",
   "name": "python",
   "nbconvert_exporter": "python",
   "pygments_lexer": "ipython3",
   "version": "3.10.6"
  },
  "orig_nbformat": 4,
  "vscode": {
   "interpreter": {
    "hash": "7e6d6e820f3581dac8fa172373a8b5335c82ce34cb10cbc3340c5ea72ba4335f"
   }
  }
 },
 "nbformat": 4,
 "nbformat_minor": 2
}
