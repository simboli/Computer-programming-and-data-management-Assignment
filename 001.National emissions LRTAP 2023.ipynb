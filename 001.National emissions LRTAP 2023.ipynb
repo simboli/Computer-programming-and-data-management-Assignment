{
 "cells": [
  {
   "cell_type": "markdown",
   "id": "2c1c0e04",
   "metadata": {},
   "source": [
    "# 1.Modules"
   ]
  },
  {
   "cell_type": "code",
   "execution_count": 1,
   "id": "e60cacdf",
   "metadata": {},
   "outputs": [],
   "source": [
    "import pandas as pd\n",
    "import numpy as np\n",
    "import matplotlib.pyplot as plt\n",
    "\n",
    "from pandasql import sqldf"
   ]
  },
  {
   "cell_type": "markdown",
   "id": "be3ca084",
   "metadata": {},
   "source": [
    "# 2.Variables"
   ]
  },
  {
   "cell_type": "code",
   "execution_count": 2,
   "id": "abc6fe3a",
   "metadata": {},
   "outputs": [],
   "source": [
    "# National emissions reported to the Convention on Long-range Transboundary Air Pollution (LRTAP Convention), 2023\n",
    "# https://sdi.eea.europa.eu/catalogue/srv/eng/catalog.search#/metadata/2999364f-be52-4012-b4fd-f98e2cc8fab6\n",
    "ds_LRTAPemissions='01.Data/eea_t_lrtap-convention_p_1990-2021_v01_r00/CLRTAP_NVFR19_V23_1_GF_csv.csv'"
   ]
  },
  {
   "cell_type": "markdown",
   "id": "55862317",
   "metadata": {},
   "source": [
    "# 3.Load data"
   ]
  },
  {
   "cell_type": "code",
   "execution_count": 3,
   "id": "2ef5273d",
   "metadata": {},
   "outputs": [],
   "source": [
    "df_LRTAPemissions=pd.read_csv(ds_LRTAPemissions,header=0,delimiter=\"\\t\", dtype='unicode')"
   ]
  },
  {
   "cell_type": "markdown",
   "id": "1e25d6cf",
   "metadata": {},
   "source": [
    "# 4. Exploratory data analysis (EDA)"
   ]
  },
  {
   "cell_type": "markdown",
   "id": "2347f7e7",
   "metadata": {},
   "source": [
    "## 4.1. EDA general"
   ]
  },
  {
   "cell_type": "markdown",
   "id": "d0532889",
   "metadata": {},
   "source": [
    "### 4.1.1. Data preview (head)"
   ]
  },
  {
   "cell_type": "code",
   "execution_count": 4,
   "id": "63ad649e",
   "metadata": {},
   "outputs": [
    {
     "data": {
      "text/html": [
       "<div>\n",
       "<style scoped>\n",
       "    .dataframe tbody tr th:only-of-type {\n",
       "        vertical-align: middle;\n",
       "    }\n",
       "\n",
       "    .dataframe tbody tr th {\n",
       "        vertical-align: top;\n",
       "    }\n",
       "\n",
       "    .dataframe thead th {\n",
       "        text-align: right;\n",
       "    }\n",
       "</style>\n",
       "<table border=\"1\" class=\"dataframe\">\n",
       "  <thead>\n",
       "    <tr style=\"text-align: right;\">\n",
       "      <th></th>\n",
       "      <th>Country_Code</th>\n",
       "      <th>Country</th>\n",
       "      <th>Pollutant_name</th>\n",
       "      <th>Format_name</th>\n",
       "      <th>Sector_code</th>\n",
       "      <th>Year</th>\n",
       "      <th>Emissions</th>\n",
       "      <th>Unit</th>\n",
       "      <th>Notation</th>\n",
       "      <th>VersionId</th>\n",
       "      <th>Parent_sector_code</th>\n",
       "      <th>Sector_name</th>\n",
       "    </tr>\n",
       "  </thead>\n",
       "  <tbody>\n",
       "    <tr>\n",
       "      <th>0</th>\n",
       "      <td>AT</td>\n",
       "      <td>Austria</td>\n",
       "      <td>As</td>\n",
       "      <td>NFR 2014-1</td>\n",
       "      <td>1A1a</td>\n",
       "      <td>1990</td>\n",
       "      <td>NaN</td>\n",
       "      <td>Mg</td>\n",
       "      <td>NaN</td>\n",
       "      <td>1</td>\n",
       "      <td>NATIONAL TOTAL</td>\n",
       "      <td>Public electricity and heat production</td>\n",
       "    </tr>\n",
       "    <tr>\n",
       "      <th>1</th>\n",
       "      <td>AT</td>\n",
       "      <td>Austria</td>\n",
       "      <td>As</td>\n",
       "      <td>NFR 2014-1</td>\n",
       "      <td>1A1b</td>\n",
       "      <td>1990</td>\n",
       "      <td>NaN</td>\n",
       "      <td>Mg</td>\n",
       "      <td>NaN</td>\n",
       "      <td>1</td>\n",
       "      <td>NATIONAL TOTAL</td>\n",
       "      <td>Petroleum refining</td>\n",
       "    </tr>\n",
       "    <tr>\n",
       "      <th>2</th>\n",
       "      <td>AT</td>\n",
       "      <td>Austria</td>\n",
       "      <td>As</td>\n",
       "      <td>NFR 2014-1</td>\n",
       "      <td>1A1c</td>\n",
       "      <td>1990</td>\n",
       "      <td>NaN</td>\n",
       "      <td>Mg</td>\n",
       "      <td>NaN</td>\n",
       "      <td>1</td>\n",
       "      <td>NATIONAL TOTAL</td>\n",
       "      <td>Manufacture of solid fuels and other energy in...</td>\n",
       "    </tr>\n",
       "    <tr>\n",
       "      <th>3</th>\n",
       "      <td>AT</td>\n",
       "      <td>Austria</td>\n",
       "      <td>As</td>\n",
       "      <td>NFR 2014-1</td>\n",
       "      <td>1A2a</td>\n",
       "      <td>1990</td>\n",
       "      <td>NaN</td>\n",
       "      <td>Mg</td>\n",
       "      <td>NaN</td>\n",
       "      <td>1</td>\n",
       "      <td>NATIONAL TOTAL</td>\n",
       "      <td>Stationary combustion in manufacturing industr...</td>\n",
       "    </tr>\n",
       "    <tr>\n",
       "      <th>4</th>\n",
       "      <td>AT</td>\n",
       "      <td>Austria</td>\n",
       "      <td>As</td>\n",
       "      <td>NFR 2014-1</td>\n",
       "      <td>1A2b</td>\n",
       "      <td>1990</td>\n",
       "      <td>NaN</td>\n",
       "      <td>Mg</td>\n",
       "      <td>NaN</td>\n",
       "      <td>1</td>\n",
       "      <td>NATIONAL TOTAL</td>\n",
       "      <td>Stationary combustion in manufacturing industr...</td>\n",
       "    </tr>\n",
       "  </tbody>\n",
       "</table>\n",
       "</div>"
      ],
      "text/plain": [
       "  Country_Code  Country Pollutant_name Format_name Sector_code  Year  \\\n",
       "0           AT  Austria             As  NFR 2014-1        1A1a  1990   \n",
       "1           AT  Austria             As  NFR 2014-1        1A1b  1990   \n",
       "2           AT  Austria             As  NFR 2014-1        1A1c  1990   \n",
       "3           AT  Austria             As  NFR 2014-1        1A2a  1990   \n",
       "4           AT  Austria             As  NFR 2014-1        1A2b  1990   \n",
       "\n",
       "  Emissions Unit Notation VersionId Parent_sector_code  \\\n",
       "0       NaN   Mg      NaN         1     NATIONAL TOTAL   \n",
       "1       NaN   Mg      NaN         1     NATIONAL TOTAL   \n",
       "2       NaN   Mg      NaN         1     NATIONAL TOTAL   \n",
       "3       NaN   Mg      NaN         1     NATIONAL TOTAL   \n",
       "4       NaN   Mg      NaN         1     NATIONAL TOTAL   \n",
       "\n",
       "                                         Sector_name  \n",
       "0             Public electricity and heat production  \n",
       "1                                 Petroleum refining  \n",
       "2  Manufacture of solid fuels and other energy in...  \n",
       "3  Stationary combustion in manufacturing industr...  \n",
       "4  Stationary combustion in manufacturing industr...  "
      ]
     },
     "execution_count": 4,
     "metadata": {},
     "output_type": "execute_result"
    }
   ],
   "source": [
    "df_LRTAPemissions.head()"
   ]
  },
  {
   "cell_type": "markdown",
   "id": "c70ddad0",
   "metadata": {},
   "source": [
    "### 4.1.2. Data preview (tail)"
   ]
  },
  {
   "cell_type": "code",
   "execution_count": 5,
   "id": "6f264ec2",
   "metadata": {},
   "outputs": [
    {
     "data": {
      "text/html": [
       "<div>\n",
       "<style scoped>\n",
       "    .dataframe tbody tr th:only-of-type {\n",
       "        vertical-align: middle;\n",
       "    }\n",
       "\n",
       "    .dataframe tbody tr th {\n",
       "        vertical-align: top;\n",
       "    }\n",
       "\n",
       "    .dataframe thead th {\n",
       "        text-align: right;\n",
       "    }\n",
       "</style>\n",
       "<table border=\"1\" class=\"dataframe\">\n",
       "  <thead>\n",
       "    <tr style=\"text-align: right;\">\n",
       "      <th></th>\n",
       "      <th>Country_Code</th>\n",
       "      <th>Country</th>\n",
       "      <th>Pollutant_name</th>\n",
       "      <th>Format_name</th>\n",
       "      <th>Sector_code</th>\n",
       "      <th>Year</th>\n",
       "      <th>Emissions</th>\n",
       "      <th>Unit</th>\n",
       "      <th>Notation</th>\n",
       "      <th>VersionId</th>\n",
       "      <th>Parent_sector_code</th>\n",
       "      <th>Sector_name</th>\n",
       "    </tr>\n",
       "  </thead>\n",
       "  <tbody>\n",
       "    <tr>\n",
       "      <th>3933691</th>\n",
       "      <td>EEA32</td>\n",
       "      <td>EEA32</td>\n",
       "      <td>PCB</td>\n",
       "      <td>NEC NFR-1 sector classification</td>\n",
       "      <td>5E</td>\n",
       "      <td>2009</td>\n",
       "      <td>80.94100949939022</td>\n",
       "      <td>kg</td>\n",
       "      <td>NaN</td>\n",
       "      <td>NaN</td>\n",
       "      <td>NaN</td>\n",
       "      <td>NaN</td>\n",
       "    </tr>\n",
       "    <tr>\n",
       "      <th>3933692</th>\n",
       "      <td>EEA32</td>\n",
       "      <td>EEA32</td>\n",
       "      <td>total PAH</td>\n",
       "      <td>NEC NFR-1 sector classification</td>\n",
       "      <td>5C1bv</td>\n",
       "      <td>2011</td>\n",
       "      <td>0.0009683435030517829</td>\n",
       "      <td>Mg</td>\n",
       "      <td>NaN</td>\n",
       "      <td>NaN</td>\n",
       "      <td>NaN</td>\n",
       "      <td>NaN</td>\n",
       "    </tr>\n",
       "    <tr>\n",
       "      <th>3933693</th>\n",
       "      <td>EEA32</td>\n",
       "      <td>EEA32</td>\n",
       "      <td>Zn</td>\n",
       "      <td>NEC NFR-1 sector classification</td>\n",
       "      <td>3B4a</td>\n",
       "      <td>2009</td>\n",
       "      <td>0</td>\n",
       "      <td>Mg</td>\n",
       "      <td>NaN</td>\n",
       "      <td>NaN</td>\n",
       "      <td>NaN</td>\n",
       "      <td>NaN</td>\n",
       "    </tr>\n",
       "    <tr>\n",
       "      <th>3933694</th>\n",
       "      <td>EEA32</td>\n",
       "      <td>EEA32</td>\n",
       "      <td>HCB</td>\n",
       "      <td>NEC NFR-1 sector classification</td>\n",
       "      <td>1A2f</td>\n",
       "      <td>2002</td>\n",
       "      <td>1.0821639623803498</td>\n",
       "      <td>kg</td>\n",
       "      <td>NaN</td>\n",
       "      <td>NaN</td>\n",
       "      <td>NaN</td>\n",
       "      <td>NaN</td>\n",
       "    </tr>\n",
       "    <tr>\n",
       "      <th>3933695</th>\n",
       "      <td>EEA32</td>\n",
       "      <td>EEA32</td>\n",
       "      <td>Hg</td>\n",
       "      <td>NEC NFR-1 sector classification</td>\n",
       "      <td>2A5a</td>\n",
       "      <td>2010</td>\n",
       "      <td>0.0002</td>\n",
       "      <td>Mg</td>\n",
       "      <td>NaN</td>\n",
       "      <td>NaN</td>\n",
       "      <td>NaN</td>\n",
       "      <td>NaN</td>\n",
       "    </tr>\n",
       "  </tbody>\n",
       "</table>\n",
       "</div>"
      ],
      "text/plain": [
       "        Country_Code Country Pollutant_name                      Format_name  \\\n",
       "3933691        EEA32   EEA32            PCB  NEC NFR-1 sector classification   \n",
       "3933692        EEA32   EEA32      total PAH  NEC NFR-1 sector classification   \n",
       "3933693        EEA32   EEA32             Zn  NEC NFR-1 sector classification   \n",
       "3933694        EEA32   EEA32            HCB  NEC NFR-1 sector classification   \n",
       "3933695        EEA32   EEA32             Hg  NEC NFR-1 sector classification   \n",
       "\n",
       "        Sector_code  Year              Emissions Unit Notation VersionId  \\\n",
       "3933691          5E  2009      80.94100949939022   kg      NaN       NaN   \n",
       "3933692       5C1bv  2011  0.0009683435030517829   Mg      NaN       NaN   \n",
       "3933693        3B4a  2009                      0   Mg      NaN       NaN   \n",
       "3933694        1A2f  2002     1.0821639623803498   kg      NaN       NaN   \n",
       "3933695        2A5a  2010                 0.0002   Mg      NaN       NaN   \n",
       "\n",
       "        Parent_sector_code Sector_name  \n",
       "3933691                NaN         NaN  \n",
       "3933692                NaN         NaN  \n",
       "3933693                NaN         NaN  \n",
       "3933694                NaN         NaN  \n",
       "3933695                NaN         NaN  "
      ]
     },
     "execution_count": 5,
     "metadata": {},
     "output_type": "execute_result"
    }
   ],
   "source": [
    "df_LRTAPemissions.tail()"
   ]
  },
  {
   "cell_type": "markdown",
   "id": "7e4494b4",
   "metadata": {},
   "source": [
    "### 4.1.3. Shape of dataset"
   ]
  },
  {
   "cell_type": "code",
   "execution_count": 6,
   "id": "fcdaff1f",
   "metadata": {},
   "outputs": [
    {
     "data": {
      "text/plain": [
       "(3933696, 12)"
      ]
     },
     "execution_count": 6,
     "metadata": {},
     "output_type": "execute_result"
    }
   ],
   "source": [
    "df_LRTAPemissions.shape"
   ]
  },
  {
   "cell_type": "markdown",
   "id": "86345e39",
   "metadata": {},
   "source": [
    "### 4.1.4. Data types"
   ]
  },
  {
   "cell_type": "code",
   "execution_count": 7,
   "id": "735066b3",
   "metadata": {},
   "outputs": [
    {
     "name": "stdout",
     "output_type": "stream",
     "text": [
      "<class 'pandas.core.frame.DataFrame'>\n",
      "RangeIndex: 3933696 entries, 0 to 3933695\n",
      "Data columns (total 12 columns):\n",
      " #   Column              Dtype \n",
      "---  ------              ----- \n",
      " 0   Country_Code        object\n",
      " 1   Country             object\n",
      " 2   Pollutant_name      object\n",
      " 3   Format_name         object\n",
      " 4   Sector_code         object\n",
      " 5   Year                object\n",
      " 6   Emissions           object\n",
      " 7   Unit                object\n",
      " 8   Notation            object\n",
      " 9   VersionId           object\n",
      " 10  Parent_sector_code  object\n",
      " 11  Sector_name         object\n",
      "dtypes: object(12)\n",
      "memory usage: 360.1+ MB\n"
     ]
    }
   ],
   "source": [
    "df_LRTAPemissions.info()"
   ]
  },
  {
   "cell_type": "markdown",
   "id": "a5d0d411",
   "metadata": {},
   "source": [
    "### 4.1.5. Data conversions"
   ]
  },
  {
   "cell_type": "markdown",
   "id": "ef95e363",
   "metadata": {},
   "source": [
    "We can see that the columns `Year` and `Emissions` has `object` data type, let's correct it."
   ]
  },
  {
   "cell_type": "code",
   "execution_count": 8,
   "id": "5ae0801d",
   "metadata": {},
   "outputs": [],
   "source": [
    "df_LRTAPemissions['Emissions'] = df_LRTAPemissions['Emissions'].astype(\"float\")\n",
    "df_LRTAPemissions['Year'] = df_LRTAPemissions['Year'].astype(\"int\")"
   ]
  },
  {
   "cell_type": "code",
   "execution_count": 9,
   "id": "47a63d20",
   "metadata": {},
   "outputs": [
    {
     "name": "stdout",
     "output_type": "stream",
     "text": [
      "<class 'pandas.core.frame.DataFrame'>\n",
      "RangeIndex: 3933696 entries, 0 to 3933695\n",
      "Data columns (total 12 columns):\n",
      " #   Column              Dtype  \n",
      "---  ------              -----  \n",
      " 0   Country_Code        object \n",
      " 1   Country             object \n",
      " 2   Pollutant_name      object \n",
      " 3   Format_name         object \n",
      " 4   Sector_code         object \n",
      " 5   Year                int64  \n",
      " 6   Emissions           float64\n",
      " 7   Unit                object \n",
      " 8   Notation            object \n",
      " 9   VersionId           object \n",
      " 10  Parent_sector_code  object \n",
      " 11  Sector_name         object \n",
      "dtypes: float64(1), int64(1), object(10)\n",
      "memory usage: 360.1+ MB\n"
     ]
    }
   ],
   "source": [
    "df_LRTAPemissions.info()"
   ]
  },
  {
   "cell_type": "markdown",
   "id": "2771c1fd",
   "metadata": {},
   "source": [
    "## 4.2. EDA dimensions"
   ]
  },
  {
   "cell_type": "markdown",
   "id": "05f7557b",
   "metadata": {},
   "source": [
    "### 4.2.1. Year"
   ]
  },
  {
   "cell_type": "code",
   "execution_count": 48,
   "id": "c54fe04d",
   "metadata": {},
   "outputs": [
    {
     "data": {
      "text/plain": [
       "count    3933696.000000\n",
       "mean        2005.500000\n",
       "std            9.233094\n",
       "min         1990.000000\n",
       "25%         1997.750000\n",
       "50%         2005.500000\n",
       "75%         2013.250000\n",
       "max         2021.000000\n",
       "Name: Year, dtype: object"
      ]
     },
     "execution_count": 48,
     "metadata": {},
     "output_type": "execute_result"
    }
   ],
   "source": [
    "# Describe used with lambda functions to prevent exponential notation\n",
    "df_LRTAPemissions['Year'].describe().apply(lambda x: format(x, 'f'))"
   ]
  },
  {
   "cell_type": "code",
   "execution_count": 12,
   "id": "e74d5d4c",
   "metadata": {},
   "outputs": [
    {
     "data": {
      "text/plain": [
       "array([1990, 1991, 1992, 1993, 1994, 1995, 1996, 1997, 1998, 1999, 2000,\n",
       "       2001, 2002, 2003, 2004, 2005, 2006, 2007, 2008, 2009, 2010, 2011,\n",
       "       2012, 2013, 2014, 2015, 2016, 2017, 2018, 2019, 2020, 2021])"
      ]
     },
     "execution_count": 12,
     "metadata": {},
     "output_type": "execute_result"
    }
   ],
   "source": [
    "df_LRTAPemissions.Year.unique()"
   ]
  },
  {
   "cell_type": "code",
   "execution_count": 13,
   "id": "8bab6f35",
   "metadata": {},
   "outputs": [
    {
     "data": {
      "text/plain": [
       "32"
      ]
     },
     "execution_count": 13,
     "metadata": {},
     "output_type": "execute_result"
    }
   ],
   "source": [
    "df_LRTAPemissions.Year.nunique()"
   ]
  },
  {
   "cell_type": "markdown",
   "id": "b6ceeefd",
   "metadata": {},
   "source": [
    "### 4.1.2. Country_code"
   ]
  },
  {
   "cell_type": "code",
   "execution_count": 14,
   "id": "e6c70648",
   "metadata": {},
   "outputs": [
    {
     "data": {
      "text/plain": [
       "array(['AT', 'BE', 'DK', 'FI', 'FR', 'DE', 'GR', 'IE', 'IT', 'LU', 'NL',\n",
       "       'PT', 'ES', 'SE', 'BG', 'HR', 'CY', 'CZ', 'EE', 'HU', 'LT', 'LV',\n",
       "       'MT', 'PL', 'RO', 'SI', 'SK', 'EU27', 'CH', 'IS', 'LI', 'NO', 'TR',\n",
       "       'EEA32'], dtype=object)"
      ]
     },
     "execution_count": 14,
     "metadata": {},
     "output_type": "execute_result"
    }
   ],
   "source": [
    "df_LRTAPemissions.Country_Code.unique()"
   ]
  },
  {
   "cell_type": "code",
   "execution_count": 15,
   "id": "59489bdd",
   "metadata": {},
   "outputs": [
    {
     "data": {
      "text/plain": [
       "34"
      ]
     },
     "execution_count": 15,
     "metadata": {},
     "output_type": "execute_result"
    }
   ],
   "source": [
    "df_LRTAPemissions.Country_Code.nunique()"
   ]
  },
  {
   "cell_type": "markdown",
   "id": "b67cfa97",
   "metadata": {},
   "source": [
    "### 4.1.3. Country"
   ]
  },
  {
   "cell_type": "code",
   "execution_count": 16,
   "id": "8cceadb9",
   "metadata": {},
   "outputs": [
    {
     "data": {
      "text/plain": [
       "array(['Austria', 'Belgium', 'Denmark', 'Finland', 'France', 'Germany',\n",
       "       'Greece', 'Ireland', 'Italy', 'Luxembourg', 'Netherlands',\n",
       "       'Portugal', 'Spain', 'Sweden', 'Bulgaria', 'Croatia', 'Cyprus',\n",
       "       'Czechia', 'Estonia', 'Hungary', 'Lithuania', 'Latvia', 'Malta',\n",
       "       'Poland', 'Romania', 'Slovenia', 'Slovakia', 'EU27', 'Switzerland',\n",
       "       'Iceland', 'Liechtenstein', 'Norway', 'Türkiye', 'Czech Republic',\n",
       "       'EEA32'], dtype=object)"
      ]
     },
     "execution_count": 16,
     "metadata": {},
     "output_type": "execute_result"
    }
   ],
   "source": [
    "df_LRTAPemissions.Country.unique()"
   ]
  },
  {
   "cell_type": "code",
   "execution_count": 17,
   "id": "066c1573",
   "metadata": {},
   "outputs": [
    {
     "data": {
      "text/plain": [
       "35"
      ]
     },
     "execution_count": 17,
     "metadata": {},
     "output_type": "execute_result"
    }
   ],
   "source": [
    "df_LRTAPemissions.Country.nunique()"
   ]
  },
  {
   "cell_type": "code",
   "execution_count": 25,
   "id": "9a89c845",
   "metadata": {},
   "outputs": [],
   "source": [
    "q = \"\"\"SELECT Country_Code, COUNT(DISTINCT Country) FROM df_LRTAPemissions GROUP BY Country_Code HAVING COUNT(DISTINCT Country)>1;\"\"\"\n",
    "pysqldf = lambda q: sqldf(q, globals())\n",
    "df_duplicateCC = pysqldf(q)"
   ]
  },
  {
   "cell_type": "code",
   "execution_count": 26,
   "id": "f8de513d",
   "metadata": {},
   "outputs": [
    {
     "data": {
      "text/html": [
       "<div>\n",
       "<style scoped>\n",
       "    .dataframe tbody tr th:only-of-type {\n",
       "        vertical-align: middle;\n",
       "    }\n",
       "\n",
       "    .dataframe tbody tr th {\n",
       "        vertical-align: top;\n",
       "    }\n",
       "\n",
       "    .dataframe thead th {\n",
       "        text-align: right;\n",
       "    }\n",
       "</style>\n",
       "<table border=\"1\" class=\"dataframe\">\n",
       "  <thead>\n",
       "    <tr style=\"text-align: right;\">\n",
       "      <th></th>\n",
       "      <th>Country_Code</th>\n",
       "      <th>COUNT(DISTINCT Country)</th>\n",
       "    </tr>\n",
       "  </thead>\n",
       "  <tbody>\n",
       "    <tr>\n",
       "      <th>0</th>\n",
       "      <td>CZ</td>\n",
       "      <td>2</td>\n",
       "    </tr>\n",
       "  </tbody>\n",
       "</table>\n",
       "</div>"
      ],
      "text/plain": [
       "  Country_Code  COUNT(DISTINCT Country)\n",
       "0           CZ                        2"
      ]
     },
     "execution_count": 26,
     "metadata": {},
     "output_type": "execute_result"
    }
   ],
   "source": [
    "df_duplicateCC"
   ]
  },
  {
   "cell_type": "code",
   "execution_count": 45,
   "id": "fca0cb31",
   "metadata": {},
   "outputs": [],
   "source": [
    "q = \"\"\"SELECT DISTINCT Country_Code, Country FROM df_LRTAPemissions WHERE Country_Code='CZ';\"\"\"\n",
    "pysqldf = lambda q: sqldf(q, globals())\n",
    "df_uniqueCC = pysqldf(q)"
   ]
  },
  {
   "cell_type": "code",
   "execution_count": 46,
   "id": "49394bb3",
   "metadata": {},
   "outputs": [
    {
     "data": {
      "text/html": [
       "<div>\n",
       "<style scoped>\n",
       "    .dataframe tbody tr th:only-of-type {\n",
       "        vertical-align: middle;\n",
       "    }\n",
       "\n",
       "    .dataframe tbody tr th {\n",
       "        vertical-align: top;\n",
       "    }\n",
       "\n",
       "    .dataframe thead th {\n",
       "        text-align: right;\n",
       "    }\n",
       "</style>\n",
       "<table border=\"1\" class=\"dataframe\">\n",
       "  <thead>\n",
       "    <tr style=\"text-align: right;\">\n",
       "      <th></th>\n",
       "      <th>Country_Code</th>\n",
       "      <th>Country</th>\n",
       "    </tr>\n",
       "  </thead>\n",
       "  <tbody>\n",
       "    <tr>\n",
       "      <th>0</th>\n",
       "      <td>CZ</td>\n",
       "      <td>Czechia</td>\n",
       "    </tr>\n",
       "    <tr>\n",
       "      <th>1</th>\n",
       "      <td>CZ</td>\n",
       "      <td>Czech Republic</td>\n",
       "    </tr>\n",
       "  </tbody>\n",
       "</table>\n",
       "</div>"
      ],
      "text/plain": [
       "  Country_Code         Country\n",
       "0           CZ         Czechia\n",
       "1           CZ  Czech Republic"
      ]
     },
     "execution_count": 46,
     "metadata": {},
     "output_type": "execute_result"
    }
   ],
   "source": [
    "df_uniqueCC"
   ]
  },
  {
   "cell_type": "markdown",
   "id": "ef142509",
   "metadata": {},
   "source": [
    "### 4.1.4. Pollutant name"
   ]
  },
  {
   "cell_type": "code",
   "execution_count": 50,
   "id": "303eb3b2",
   "metadata": {},
   "outputs": [
    {
     "data": {
      "text/plain": [
       "array(['As', 'BC', 'benzo(a)', 'benzo(b)', 'benzo(k)', 'Cd', 'CO', 'Cr',\n",
       "       'Cu', 'dioxin', 'HCB', 'Hg', 'Indeno', 'NH3', 'Ni', 'NMVOC', 'NOx',\n",
       "       'Pb', 'PCB', 'PM10', 'PM2.5', 'Se', 'SOx', 'total PAH', 'TSP',\n",
       "       'Zn'], dtype=object)"
      ]
     },
     "execution_count": 50,
     "metadata": {},
     "output_type": "execute_result"
    }
   ],
   "source": [
    "df_LRTAPemissions.Pollutant_name.unique()"
   ]
  },
  {
   "cell_type": "code",
   "execution_count": 51,
   "id": "b978e0fc",
   "metadata": {},
   "outputs": [
    {
     "data": {
      "text/plain": [
       "26"
      ]
     },
     "execution_count": 51,
     "metadata": {},
     "output_type": "execute_result"
    }
   ],
   "source": [
    "df_LRTAPemissions.Pollutant_name.nunique()"
   ]
  },
  {
   "cell_type": "markdown",
   "id": "7cb63c34",
   "metadata": {},
   "source": [
    "### 4.1.5. Version"
   ]
  },
  {
   "cell_type": "code",
   "execution_count": 53,
   "id": "606d2b68",
   "metadata": {},
   "outputs": [
    {
     "data": {
      "text/plain": [
       "array(['1', nan], dtype=object)"
      ]
     },
     "execution_count": 53,
     "metadata": {},
     "output_type": "execute_result"
    }
   ],
   "source": [
    "df_LRTAPemissions.VersionId.unique()"
   ]
  },
  {
   "cell_type": "code",
   "execution_count": 52,
   "id": "4c0924d5",
   "metadata": {},
   "outputs": [
    {
     "data": {
      "text/plain": [
       "1"
      ]
     },
     "execution_count": 52,
     "metadata": {},
     "output_type": "execute_result"
    }
   ],
   "source": [
    "df_LRTAPemissions.VersionId.nunique()"
   ]
  },
  {
   "cell_type": "markdown",
   "id": "a68be51d",
   "metadata": {},
   "source": [
    "## 4.3. EDA measures"
   ]
  },
  {
   "cell_type": "markdown",
   "id": "433be59d",
   "metadata": {},
   "source": [
    "### 4.3.1. Emissions"
   ]
  },
  {
   "cell_type": "code",
   "execution_count": 47,
   "id": "29b156c4",
   "metadata": {},
   "outputs": [
    {
     "data": {
      "text/plain": [
       "count    2419559.000000\n",
       "mean           9.293554\n",
       "std          257.592859\n",
       "min            0.000000\n",
       "25%            0.000000\n",
       "50%            0.000000\n",
       "75%            0.031999\n",
       "max        60480.189090\n",
       "Name: Emissions, dtype: object"
      ]
     },
     "execution_count": 47,
     "metadata": {},
     "output_type": "execute_result"
    }
   ],
   "source": [
    "# Describe used with lambda functions to prevent exponential notation\n",
    "df_LRTAPemissions['Emissions'].describe().apply(lambda x: format(x, 'f'))"
   ]
  },
  {
   "cell_type": "markdown",
   "id": "df8e01a9",
   "metadata": {},
   "source": [
    "# 5. Perimeter of analysis"
   ]
  },
  {
   "cell_type": "markdown",
   "id": "7d65d4b8",
   "metadata": {},
   "source": [
    "## 5.1. Sectors of interest"
   ]
  },
  {
   "cell_type": "markdown",
   "id": "9c3320d5",
   "metadata": {},
   "source": [
    "## 5.2. Country code"
   ]
  },
  {
   "cell_type": "markdown",
   "id": "1f58cd84",
   "metadata": {},
   "source": [
    "# 6. Management of Nan values"
   ]
  },
  {
   "cell_type": "markdown",
   "id": "9e49383c",
   "metadata": {},
   "source": [
    "# 7. Aggregation"
   ]
  },
  {
   "cell_type": "markdown",
   "id": "cc9c20d0",
   "metadata": {},
   "source": [
    "# 7.1. Numeric aggregation of detailed data"
   ]
  },
  {
   "cell_type": "markdown",
   "id": "43b2a4c7",
   "metadata": {},
   "source": [
    "# 7.2. Plotting"
   ]
  },
  {
   "cell_type": "markdown",
   "id": "cbc39165",
   "metadata": {},
   "source": [
    "# 7.3. Correlation between year and emissions"
   ]
  },
  {
   "cell_type": "markdown",
   "id": "762d162d",
   "metadata": {},
   "source": [
    "# 8. Export"
   ]
  },
  {
   "cell_type": "code",
   "execution_count": null,
   "id": "01e13175",
   "metadata": {},
   "outputs": [],
   "source": []
  },
  {
   "cell_type": "markdown",
   "id": "55cf28fa",
   "metadata": {},
   "source": [
    "# Functions"
   ]
  },
  {
   "cell_type": "markdown",
   "id": "910f08b7",
   "metadata": {},
   "source": [
    "Using the dataframe file of the previous prompt, please write a function to fill all the null values in the column Emissions using the mean value calculated using the previous 2 years and the next 2 years, with the same Country_Code, Pollutant_name and Sector_name."
   ]
  },
  {
   "cell_type": "code",
   "execution_count": null,
   "id": "06de818b",
   "metadata": {},
   "outputs": [],
   "source": [
    "def fill_emissions(df):\n",
    "    # Define the function to fill NaN values in a group\n",
    "    def fill_nan(group):\n",
    "        # Ensure the group is sorted by year\n",
    "        group = group.sort_values(by='Year')\n",
    "        # Iterate over the rows\n",
    "        for i in group[group['Emissions'].isna()].index:\n",
    "            years = group['Year']\n",
    "            # Find the index for the current year\n",
    "            current_year_index = group.index.get_loc(i)\n",
    "            # Select the surrounding years\n",
    "            selected_years = years[max(current_year_index - 1, 0):min(current_year_index + 1, len(years))]\n",
    "            # Calculate the mean of the surrounding years, excluding NaN\n",
    "            mean_val = group.loc[selected_years, 'Emissions'].mean()\n",
    "            # Fill the NaN value\n",
    "            group.at[i, 'Emissions'] = mean_val\n",
    "        return group\n",
    "\n",
    "    # Apply the function to each group\n",
    "    try:\n",
    "        df = df.groupby(['Country_Code', 'Pollutant_name', 'Sector_name']).apply(fill_nan)\n",
    "    except:\n",
    "        None\n",
    "    return df\n",
    "\n",
    "# Use the function on your DataFrame\n",
    "# df = fill_emissions(your_dataframe)"
   ]
  },
  {
   "cell_type": "markdown",
   "id": "44df8855",
   "metadata": {},
   "source": [
    "Using the dataframe of the previous prompt, please write a function to have a dataframe with Year in the first column and the sum of yearly value of Emissions on each column. The dataframe should have one column per each Pollutant_name.\n",
    "Please consider only the following Sector_name\n",
    "- International aviation LTO (civil)\n",
    "- Domestic aviation LTO (civil)\n",
    "- International aviation cruise (civil)\n",
    "- Domestic aviation cruise (civil)"
   ]
  },
  {
   "cell_type": "code",
   "execution_count": null,
   "id": "6647059b",
   "metadata": {},
   "outputs": [],
   "source": [
    "def transform_df(df):\n",
    "    # Define the sectors of interest\n",
    "    sectors_of_interest = [\n",
    "        'International aviation LTO (civil)',\n",
    "        'Domestic aviation LTO (civil)',\n",
    "        'International aviation cruise (civil)',\n",
    "        'Domestic aviation cruise (civil)'\n",
    "    ]\n",
    "\n",
    "    # Filter the DataFrame for these sectors\n",
    "    filtered_df = df[df['Sector_name'].isin(sectors_of_interest)]\n",
    "\n",
    "    # Group by Year and Pollutant_name, then sum the Emissions\n",
    "    grouped = filtered_df.groupby(['Year', 'Pollutant_name'])['Emissions'].sum()\n",
    "\n",
    "    # Pivot the table\n",
    "    pivoted_df = grouped.unstack(level='Pollutant_name')\n",
    "\n",
    "    # Reset index to make 'Year' a column\n",
    "    pivoted_df.reset_index(inplace=True)\n",
    "\n",
    "    return pivoted_df\n",
    "\n",
    "# Use the function on your DataFrame\n",
    "# transformed_df = transform_df(your_dataframe)"
   ]
  },
  {
   "cell_type": "markdown",
   "id": "a48cbea2",
   "metadata": {},
   "source": [
    "# Load data"
   ]
  },
  {
   "cell_type": "code",
   "execution_count": null,
   "id": "18a2c421",
   "metadata": {},
   "outputs": [],
   "source": [
    "df_NatEmissions=pd.read_csv(ds_NatEmissions,header=0,delimiter=\"\\t\", dtype='unicode')"
   ]
  },
  {
   "cell_type": "code",
   "execution_count": null,
   "id": "148af7db",
   "metadata": {},
   "outputs": [],
   "source": [
    "df_NatEmissions.head()"
   ]
  },
  {
   "cell_type": "markdown",
   "id": "00c3c01a",
   "metadata": {},
   "source": [
    "Let's filter only emissions from domestic and international aviation."
   ]
  },
  {
   "cell_type": "code",
   "execution_count": null,
   "id": "5dc7b552",
   "metadata": {},
   "outputs": [],
   "source": [
    "col=df_NatEmissions.Sector_name.unique()\n",
    "for i in col: \n",
    "    if type(i) is str:\n",
    "        if 'aviation' in i:\n",
    "            print(i)"
   ]
  },
  {
   "cell_type": "code",
   "execution_count": null,
   "id": "e52e0b2c",
   "metadata": {},
   "outputs": [],
   "source": [
    "df_NatEmissions = df_NatEmissions[\n",
    "    (df_NatEmissions.Sector_name == 'International aviation LTO (civil)') |\n",
    "    (df_NatEmissions.Sector_name == 'Domestic aviation LTO (civil)') |\n",
    "    (df_NatEmissions.Sector_name == 'International aviation cruise (civil)') |\n",
    "    (df_NatEmissions.Sector_name == 'Domestic aviation cruise (civil)')]\n",
    "df_NatEmissions.Sector_name.unique()"
   ]
  },
  {
   "cell_type": "code",
   "execution_count": null,
   "id": "65d84a53",
   "metadata": {},
   "outputs": [],
   "source": [
    "df_NatEmissions.shape"
   ]
  },
  {
   "cell_type": "code",
   "execution_count": null,
   "id": "e2c6efd6",
   "metadata": {},
   "outputs": [],
   "source": [
    "df_NatEmissions.info()"
   ]
  },
  {
   "cell_type": "markdown",
   "id": "349d8403",
   "metadata": {},
   "source": [
    "We can see that the column `Emissions` has `object` data type, let's correct it."
   ]
  },
  {
   "cell_type": "code",
   "execution_count": null,
   "id": "bdf753d4",
   "metadata": {},
   "outputs": [],
   "source": [
    "df_NatEmissions['Emissions'] = df_NatEmissions['Emissions'].astype(\"float\")"
   ]
  },
  {
   "cell_type": "code",
   "execution_count": null,
   "id": "a6fb7a72",
   "metadata": {},
   "outputs": [],
   "source": [
    "df_NatEmissions.info()"
   ]
  },
  {
   "cell_type": "code",
   "execution_count": null,
   "id": "2c82caa4",
   "metadata": {},
   "outputs": [],
   "source": [
    "df_NatEmissions.Pollutant_name.unique()"
   ]
  },
  {
   "cell_type": "code",
   "execution_count": null,
   "id": "20104d00",
   "metadata": {},
   "outputs": [],
   "source": [
    "df_NatEmissions['Country_Code'].nunique()"
   ]
  },
  {
   "cell_type": "markdown",
   "id": "1918482f",
   "metadata": {},
   "source": [
    "NOTA:\n",
    "Qui devo inserire una funzione di pulizia in quanto potrei non avere la serie completa per ogni nazione.\n"
   ]
  },
  {
   "cell_type": "code",
   "execution_count": null,
   "id": "d7d366d8",
   "metadata": {},
   "outputs": [],
   "source": [
    "df_NatEmissions.isna().sum()"
   ]
  },
  {
   "cell_type": "code",
   "execution_count": null,
   "id": "61c3daed",
   "metadata": {},
   "outputs": [],
   "source": [
    "df = fill_emissions(df_NatEmissions)"
   ]
  },
  {
   "cell_type": "code",
   "execution_count": null,
   "id": "f0532e77",
   "metadata": {},
   "outputs": [],
   "source": [
    "df.isna().sum()"
   ]
  },
  {
   "cell_type": "code",
   "execution_count": null,
   "id": "85aaa4c8",
   "metadata": {},
   "outputs": [],
   "source": [
    "df_NatEmissions.groupby(['Pollutant_name']).agg({'Emissions': lambda x: x.isnull().sum()})"
   ]
  },
  {
   "cell_type": "code",
   "execution_count": null,
   "id": "3d8c6f61",
   "metadata": {},
   "outputs": [],
   "source": []
  },
  {
   "cell_type": "code",
   "execution_count": null,
   "id": "09952aca",
   "metadata": {},
   "outputs": [],
   "source": []
  },
  {
   "cell_type": "code",
   "execution_count": null,
   "id": "89c08c47",
   "metadata": {},
   "outputs": [],
   "source": []
  },
  {
   "cell_type": "code",
   "execution_count": null,
   "id": "5bc0ccee",
   "metadata": {},
   "outputs": [],
   "source": []
  },
  {
   "cell_type": "code",
   "execution_count": null,
   "id": "384865c6",
   "metadata": {},
   "outputs": [],
   "source": [
    "# Filter\n",
    "df_NatEmissions_CO = df_NatEmissions[df_NatEmissions.Pollutant_name == 'CO']\n",
    "df_NatEmissions_CO.head()"
   ]
  },
  {
   "cell_type": "code",
   "execution_count": null,
   "id": "641671d3",
   "metadata": {},
   "outputs": [],
   "source": [
    "# Select only useful columns\n",
    "df_NatEmissions_CO=df_NatEmissions_CO[['Country_Code','Pollutant_name','Year','Emissions','Unit','Sector_name']]\n",
    "df_NatEmissions_CO.head()"
   ]
  },
  {
   "cell_type": "code",
   "execution_count": null,
   "id": "bde5688b",
   "metadata": {},
   "outputs": [],
   "source": [
    "# Show null values per each column\n",
    "df_NatEmissions_CO.isna().sum()"
   ]
  },
  {
   "cell_type": "code",
   "execution_count": null,
   "id": "87961c4e",
   "metadata": {},
   "outputs": [],
   "source": [
    "# These Country has some missiong values on Emissions column\n",
    "df_NatEmissions_CO_remove=df_NatEmissions_CO[df_NatEmissions_CO.Emissions.isnull()].Country_Code.unique()"
   ]
  },
  {
   "cell_type": "code",
   "execution_count": null,
   "id": "32ec86f5",
   "metadata": {},
   "outputs": [],
   "source": [
    "len(df_NatEmissions_CO_remove)"
   ]
  },
  {
   "cell_type": "code",
   "execution_count": null,
   "id": "0ed1142d",
   "metadata": {},
   "outputs": [],
   "source": [
    "df_NatEmissions_CO=df_NatEmissions_CO[~df_NatEmissions_CO.Country_Code.isin(df_NatEmissions_CO_remove)]"
   ]
  },
  {
   "cell_type": "code",
   "execution_count": null,
   "id": "765be452",
   "metadata": {},
   "outputs": [],
   "source": [
    "df_NatEmissions_CO.isna().sum()"
   ]
  },
  {
   "cell_type": "code",
   "execution_count": null,
   "id": "a6826898",
   "metadata": {},
   "outputs": [],
   "source": [
    "df_NatEmissions_CO.head()"
   ]
  },
  {
   "cell_type": "code",
   "execution_count": null,
   "id": "e32bd1c3",
   "metadata": {},
   "outputs": [],
   "source": [
    "df_NatEmissions_CO.groupby(['Sector_name'])['Sector_name'].count()"
   ]
  },
  {
   "cell_type": "code",
   "execution_count": null,
   "id": "8b1ccb08",
   "metadata": {},
   "outputs": [],
   "source": [
    "df_NatEmissions_CO.groupby(['Unit'])['Unit'].count()"
   ]
  },
  {
   "cell_type": "code",
   "execution_count": null,
   "id": "a078cc2a",
   "metadata": {},
   "outputs": [],
   "source": [
    "df_NatEmissions_CO.groupby(['Sector_name','Year'])['Year'].count()"
   ]
  },
  {
   "cell_type": "code",
   "execution_count": null,
   "id": "6873d6f7",
   "metadata": {},
   "outputs": [],
   "source": [
    "df_NatEmissions_CO_YEAR=df_NatEmissions_CO.groupby('Year')['Emissions'].sum()\n",
    "# Convert pd Series to pd Dataframe (https://stackoverflow.com/a/26098292/1008588)\n",
    "df_NatEmissions_CO_YEAR=pd.DataFrame({'Year':df_NatEmissions_CO_YEAR.index, 'Emissions':df_NatEmissions_CO_YEAR.values})\n",
    "df_NatEmissions_CO_YEAR.head()"
   ]
  },
  {
   "cell_type": "code",
   "execution_count": null,
   "id": "2a8d2772",
   "metadata": {},
   "outputs": [],
   "source": [
    "df_NatEmissions_CO_YEAR['rolling_emissions'] = df_NatEmissions_CO_YEAR.Emissions.rolling(5).mean()"
   ]
  },
  {
   "cell_type": "code",
   "execution_count": null,
   "id": "dc47a987",
   "metadata": {},
   "outputs": [],
   "source": [
    "df_NatEmissions_CO_YEAR.head()"
   ]
  },
  {
   "cell_type": "code",
   "execution_count": null,
   "id": "266b1147",
   "metadata": {},
   "outputs": [],
   "source": [
    "fig, ax1 = plt.subplots(figsize=(20,7))\n",
    "color = 'tab:red'\n",
    "\n",
    "ax1.set_xlabel('Year')\n",
    "#ax1.set_ylabel('CO2 Emissions', color=color)\n",
    "ax1.plot(df_NatEmissions_CO_YEAR['Year'], df_NatEmissions_CO_YEAR['Emissions'],color=color) \n",
    "plt.grid()\n",
    "\n",
    "#ax2 = ax1.twinx()  # instantiate a second axes that shares the same x-axis\n",
    "color = 'tab:blue'\n",
    "#ax2.set_ylabel('CO2 Emissions moving mean', color=color)\n",
    "ax1.plot(df_NatEmissions_CO_YEAR['Year'], df_NatEmissions_CO_YEAR['rolling_emissions'],color=color) \n",
    "#ax2.tick_params(axis='y', labelcolor=color)\n",
    "\n",
    "\n",
    "plt.show() "
   ]
  },
  {
   "cell_type": "code",
   "execution_count": null,
   "id": "5ac02182",
   "metadata": {},
   "outputs": [],
   "source": [
    "df_NatEmissions_CO_remove=df_NatEmissions_CO[df_NatEmissions_CO.Emissions.isnull()].Country_Code.unique()\n",
    "len(df_NatEmissions_CO_remove)\n",
    "df_NatEmissions_CO=df_NatEmissions_CO[~df_NatEmissions_CO.Country_Code.isin(df_NatEmissions_CO_remove)]\n",
    "\n",
    "\n",
    "\n",
    "\n",
    "\n"
   ]
  },
  {
   "cell_type": "code",
   "execution_count": null,
   "id": "a884051e",
   "metadata": {},
   "outputs": [],
   "source": [
    "transformed_df = transform_df(df_NatEmissions)"
   ]
  },
  {
   "cell_type": "code",
   "execution_count": null,
   "id": "3fdf9be0",
   "metadata": {},
   "outputs": [],
   "source": [
    "transformed_df.head(10)"
   ]
  },
  {
   "cell_type": "code",
   "execution_count": null,
   "id": "49249202",
   "metadata": {},
   "outputs": [],
   "source": []
  },
  {
   "cell_type": "code",
   "execution_count": null,
   "id": "0b4e225b",
   "metadata": {},
   "outputs": [],
   "source": []
  },
  {
   "cell_type": "code",
   "execution_count": null,
   "id": "fd375f8f",
   "metadata": {},
   "outputs": [],
   "source": []
  },
  {
   "cell_type": "code",
   "execution_count": null,
   "id": "04d0fd26",
   "metadata": {},
   "outputs": [],
   "source": []
  },
  {
   "cell_type": "code",
   "execution_count": null,
   "id": "ce7be7e4",
   "metadata": {},
   "outputs": [],
   "source": []
  },
  {
   "cell_type": "code",
   "execution_count": null,
   "id": "994d871d",
   "metadata": {},
   "outputs": [],
   "source": []
  },
  {
   "cell_type": "code",
   "execution_count": null,
   "id": "eb378eb2",
   "metadata": {},
   "outputs": [],
   "source": []
  },
  {
   "cell_type": "code",
   "execution_count": null,
   "id": "af0e5c7d",
   "metadata": {},
   "outputs": [],
   "source": []
  },
  {
   "cell_type": "code",
   "execution_count": null,
   "id": "7991c92a",
   "metadata": {},
   "outputs": [],
   "source": []
  },
  {
   "cell_type": "code",
   "execution_count": null,
   "id": "4f874899",
   "metadata": {},
   "outputs": [],
   "source": []
  },
  {
   "cell_type": "code",
   "execution_count": null,
   "id": "0641cb78",
   "metadata": {},
   "outputs": [],
   "source": []
  },
  {
   "cell_type": "code",
   "execution_count": null,
   "id": "649a1145",
   "metadata": {},
   "outputs": [],
   "source": []
  },
  {
   "cell_type": "code",
   "execution_count": null,
   "id": "ba65deb9",
   "metadata": {},
   "outputs": [],
   "source": []
  },
  {
   "cell_type": "code",
   "execution_count": null,
   "id": "abf0d8b8",
   "metadata": {},
   "outputs": [],
   "source": [
    "df_NatEmissions1 = df_NatEmissions[df_NatEmissions.Pollutant_name == 'CO']"
   ]
  },
  {
   "cell_type": "code",
   "execution_count": null,
   "id": "769dc029",
   "metadata": {},
   "outputs": [],
   "source": [
    "#AND\n",
    "df_NatEmissions2=df_NatEmissions[(df_NatEmissions.Pollutant_name == 'CO') & (df_NatEmissions.Sector_name == 'International aviation LTO (civil)')]\n",
    "#OR\n",
    "df_NatEmissions3=df_NatEmissions[(df_NatEmissions.Pollutant_name == 'CO') | (df_NatEmissions.Sector_name == 'International aviation LTO (civil)')]"
   ]
  },
  {
   "cell_type": "code",
   "execution_count": null,
   "id": "7a3bbbba",
   "metadata": {},
   "outputs": [],
   "source": [
    "#df_NatEmissions3.Pollutant_name.unique()\n",
    "df_NatEmissions3.Sector_name.unique()"
   ]
  },
  {
   "cell_type": "code",
   "execution_count": null,
   "id": "66e8d633",
   "metadata": {},
   "outputs": [],
   "source": []
  },
  {
   "cell_type": "code",
   "execution_count": null,
   "id": "2be29ccd",
   "metadata": {},
   "outputs": [],
   "source": []
  },
  {
   "cell_type": "code",
   "execution_count": null,
   "id": "9f88ff91",
   "metadata": {},
   "outputs": [],
   "source": []
  },
  {
   "cell_type": "code",
   "execution_count": null,
   "id": "3bcfd7e7",
   "metadata": {},
   "outputs": [],
   "source": []
  },
  {
   "cell_type": "code",
   "execution_count": null,
   "id": "9d796705",
   "metadata": {},
   "outputs": [],
   "source": [
    "input_data=pd.read_csv(ds_UNFCCEmissions,header=0, dtype='unicode')"
   ]
  },
  {
   "cell_type": "code",
   "execution_count": null,
   "id": "e53a8e8e",
   "metadata": {},
   "outputs": [],
   "source": [
    "input_data.head()"
   ]
  },
  {
   "cell_type": "code",
   "execution_count": null,
   "id": "b34c4bc5",
   "metadata": {},
   "outputs": [],
   "source": [
    "input_data.size"
   ]
  }
 ],
 "metadata": {
  "kernelspec": {
   "display_name": "Python 3.10.6 ('dabs_venv': venv)",
   "language": "python",
   "name": "python3"
  },
  "language_info": {
   "codemirror_mode": {
    "name": "ipython",
    "version": 3
   },
   "file_extension": ".py",
   "mimetype": "text/x-python",
   "name": "python",
   "nbconvert_exporter": "python",
   "pygments_lexer": "ipython3",
   "version": "3.10.6"
  },
  "vscode": {
   "interpreter": {
    "hash": "7e6d6e820f3581dac8fa172373a8b5335c82ce34cb10cbc3340c5ea72ba4335f"
   }
  }
 },
 "nbformat": 4,
 "nbformat_minor": 5
}
