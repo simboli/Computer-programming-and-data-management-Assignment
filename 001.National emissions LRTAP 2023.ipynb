{
 "cells": [
  {
   "cell_type": "markdown",
   "id": "2c1c0e04",
   "metadata": {},
   "source": [
    "# 1.Modules"
   ]
  },
  {
   "cell_type": "code",
   "execution_count": 92,
   "id": "e60cacdf",
   "metadata": {},
   "outputs": [],
   "source": [
    "import pandas as pd\n",
    "import numpy as np\n",
    "import matplotlib.pyplot as plt\n",
    "import seaborn as sns\n",
    "\n",
    "from pandasql import sqldf"
   ]
  },
  {
   "cell_type": "markdown",
   "id": "be3ca084",
   "metadata": {},
   "source": [
    "# 2.Variables"
   ]
  },
  {
   "cell_type": "markdown",
   "id": "cf9cff39",
   "metadata": {},
   "source": [
    "## 2.1. Filenames"
   ]
  },
  {
   "cell_type": "code",
   "execution_count": 93,
   "id": "abc6fe3a",
   "metadata": {},
   "outputs": [],
   "source": [
    "# National emissions reported to the Convention on Long-range Transboundary Air Pollution (LRTAP Convention), 2023\n",
    "# https://sdi.eea.europa.eu/catalogue/srv/eng/catalog.search#/metadata/2999364f-be52-4012-b4fd-f98e2cc8fab6\n",
    "ds_LRTAPemissions='01.Data/eea_t_lrtap-convention_p_1990-2021_v01_r00/CLRTAP_NVFR19_V23_1_GF_csv.csv'"
   ]
  },
  {
   "cell_type": "markdown",
   "id": "4e36850a",
   "metadata": {},
   "source": [
    "## 2.2. Analysis parameters"
   ]
  },
  {
   "cell_type": "code",
   "execution_count": 94,
   "id": "239b9d99",
   "metadata": {},
   "outputs": [],
   "source": [
    "# European 27 Countries\n",
    "countryEU27 = ['BE','BG','CZ','DK','DE','EE','IE','GR','ES','FR','HR','IT','CY','LV','LT','LU','HU','MT','NL','AT','PL','PT','RO','SI','SK','FI','SE']"
   ]
  },
  {
   "cell_type": "markdown",
   "id": "55862317",
   "metadata": {},
   "source": [
    "# 3.Load data"
   ]
  },
  {
   "cell_type": "code",
   "execution_count": 95,
   "id": "2ef5273d",
   "metadata": {},
   "outputs": [],
   "source": [
    "df_LRTAPemissions=pd.read_csv(ds_LRTAPemissions,header=0,delimiter=\"\\t\", dtype='unicode')"
   ]
  },
  {
   "cell_type": "markdown",
   "id": "1e25d6cf",
   "metadata": {},
   "source": [
    "# 4. Exploratory data analysis (EDA)"
   ]
  },
  {
   "cell_type": "markdown",
   "id": "2347f7e7",
   "metadata": {},
   "source": [
    "## 4.1. EDA general"
   ]
  },
  {
   "cell_type": "markdown",
   "id": "d0532889",
   "metadata": {},
   "source": [
    "### 4.1.1. Data preview (head)"
   ]
  },
  {
   "cell_type": "code",
   "execution_count": 96,
   "id": "63ad649e",
   "metadata": {},
   "outputs": [
    {
     "data": {
      "text/html": [
       "<div>\n",
       "<style scoped>\n",
       "    .dataframe tbody tr th:only-of-type {\n",
       "        vertical-align: middle;\n",
       "    }\n",
       "\n",
       "    .dataframe tbody tr th {\n",
       "        vertical-align: top;\n",
       "    }\n",
       "\n",
       "    .dataframe thead th {\n",
       "        text-align: right;\n",
       "    }\n",
       "</style>\n",
       "<table border=\"1\" class=\"dataframe\">\n",
       "  <thead>\n",
       "    <tr style=\"text-align: right;\">\n",
       "      <th></th>\n",
       "      <th>Country_Code</th>\n",
       "      <th>Country</th>\n",
       "      <th>Pollutant_name</th>\n",
       "      <th>Format_name</th>\n",
       "      <th>Sector_code</th>\n",
       "      <th>Year</th>\n",
       "      <th>Emissions</th>\n",
       "      <th>Unit</th>\n",
       "      <th>Notation</th>\n",
       "      <th>VersionId</th>\n",
       "      <th>Parent_sector_code</th>\n",
       "      <th>Sector_name</th>\n",
       "    </tr>\n",
       "  </thead>\n",
       "  <tbody>\n",
       "    <tr>\n",
       "      <th>0</th>\n",
       "      <td>AT</td>\n",
       "      <td>Austria</td>\n",
       "      <td>As</td>\n",
       "      <td>NFR 2014-1</td>\n",
       "      <td>1A1a</td>\n",
       "      <td>1990</td>\n",
       "      <td>NaN</td>\n",
       "      <td>Mg</td>\n",
       "      <td>NaN</td>\n",
       "      <td>1</td>\n",
       "      <td>NATIONAL TOTAL</td>\n",
       "      <td>Public electricity and heat production</td>\n",
       "    </tr>\n",
       "    <tr>\n",
       "      <th>1</th>\n",
       "      <td>AT</td>\n",
       "      <td>Austria</td>\n",
       "      <td>As</td>\n",
       "      <td>NFR 2014-1</td>\n",
       "      <td>1A1b</td>\n",
       "      <td>1990</td>\n",
       "      <td>NaN</td>\n",
       "      <td>Mg</td>\n",
       "      <td>NaN</td>\n",
       "      <td>1</td>\n",
       "      <td>NATIONAL TOTAL</td>\n",
       "      <td>Petroleum refining</td>\n",
       "    </tr>\n",
       "    <tr>\n",
       "      <th>2</th>\n",
       "      <td>AT</td>\n",
       "      <td>Austria</td>\n",
       "      <td>As</td>\n",
       "      <td>NFR 2014-1</td>\n",
       "      <td>1A1c</td>\n",
       "      <td>1990</td>\n",
       "      <td>NaN</td>\n",
       "      <td>Mg</td>\n",
       "      <td>NaN</td>\n",
       "      <td>1</td>\n",
       "      <td>NATIONAL TOTAL</td>\n",
       "      <td>Manufacture of solid fuels and other energy in...</td>\n",
       "    </tr>\n",
       "    <tr>\n",
       "      <th>3</th>\n",
       "      <td>AT</td>\n",
       "      <td>Austria</td>\n",
       "      <td>As</td>\n",
       "      <td>NFR 2014-1</td>\n",
       "      <td>1A2a</td>\n",
       "      <td>1990</td>\n",
       "      <td>NaN</td>\n",
       "      <td>Mg</td>\n",
       "      <td>NaN</td>\n",
       "      <td>1</td>\n",
       "      <td>NATIONAL TOTAL</td>\n",
       "      <td>Stationary combustion in manufacturing industr...</td>\n",
       "    </tr>\n",
       "    <tr>\n",
       "      <th>4</th>\n",
       "      <td>AT</td>\n",
       "      <td>Austria</td>\n",
       "      <td>As</td>\n",
       "      <td>NFR 2014-1</td>\n",
       "      <td>1A2b</td>\n",
       "      <td>1990</td>\n",
       "      <td>NaN</td>\n",
       "      <td>Mg</td>\n",
       "      <td>NaN</td>\n",
       "      <td>1</td>\n",
       "      <td>NATIONAL TOTAL</td>\n",
       "      <td>Stationary combustion in manufacturing industr...</td>\n",
       "    </tr>\n",
       "  </tbody>\n",
       "</table>\n",
       "</div>"
      ],
      "text/plain": [
       "  Country_Code  Country Pollutant_name Format_name Sector_code  Year  \\\n",
       "0           AT  Austria             As  NFR 2014-1        1A1a  1990   \n",
       "1           AT  Austria             As  NFR 2014-1        1A1b  1990   \n",
       "2           AT  Austria             As  NFR 2014-1        1A1c  1990   \n",
       "3           AT  Austria             As  NFR 2014-1        1A2a  1990   \n",
       "4           AT  Austria             As  NFR 2014-1        1A2b  1990   \n",
       "\n",
       "  Emissions Unit Notation VersionId Parent_sector_code  \\\n",
       "0       NaN   Mg      NaN         1     NATIONAL TOTAL   \n",
       "1       NaN   Mg      NaN         1     NATIONAL TOTAL   \n",
       "2       NaN   Mg      NaN         1     NATIONAL TOTAL   \n",
       "3       NaN   Mg      NaN         1     NATIONAL TOTAL   \n",
       "4       NaN   Mg      NaN         1     NATIONAL TOTAL   \n",
       "\n",
       "                                         Sector_name  \n",
       "0             Public electricity and heat production  \n",
       "1                                 Petroleum refining  \n",
       "2  Manufacture of solid fuels and other energy in...  \n",
       "3  Stationary combustion in manufacturing industr...  \n",
       "4  Stationary combustion in manufacturing industr...  "
      ]
     },
     "execution_count": 96,
     "metadata": {},
     "output_type": "execute_result"
    }
   ],
   "source": [
    "df_LRTAPemissions.head()"
   ]
  },
  {
   "cell_type": "markdown",
   "id": "c70ddad0",
   "metadata": {},
   "source": [
    "### 4.1.2. Data preview (tail)"
   ]
  },
  {
   "cell_type": "code",
   "execution_count": 97,
   "id": "6f264ec2",
   "metadata": {},
   "outputs": [
    {
     "data": {
      "text/html": [
       "<div>\n",
       "<style scoped>\n",
       "    .dataframe tbody tr th:only-of-type {\n",
       "        vertical-align: middle;\n",
       "    }\n",
       "\n",
       "    .dataframe tbody tr th {\n",
       "        vertical-align: top;\n",
       "    }\n",
       "\n",
       "    .dataframe thead th {\n",
       "        text-align: right;\n",
       "    }\n",
       "</style>\n",
       "<table border=\"1\" class=\"dataframe\">\n",
       "  <thead>\n",
       "    <tr style=\"text-align: right;\">\n",
       "      <th></th>\n",
       "      <th>Country_Code</th>\n",
       "      <th>Country</th>\n",
       "      <th>Pollutant_name</th>\n",
       "      <th>Format_name</th>\n",
       "      <th>Sector_code</th>\n",
       "      <th>Year</th>\n",
       "      <th>Emissions</th>\n",
       "      <th>Unit</th>\n",
       "      <th>Notation</th>\n",
       "      <th>VersionId</th>\n",
       "      <th>Parent_sector_code</th>\n",
       "      <th>Sector_name</th>\n",
       "    </tr>\n",
       "  </thead>\n",
       "  <tbody>\n",
       "    <tr>\n",
       "      <th>3933691</th>\n",
       "      <td>EEA32</td>\n",
       "      <td>EEA32</td>\n",
       "      <td>PCB</td>\n",
       "      <td>NEC NFR-1 sector classification</td>\n",
       "      <td>5E</td>\n",
       "      <td>2009</td>\n",
       "      <td>80.94100949939022</td>\n",
       "      <td>kg</td>\n",
       "      <td>NaN</td>\n",
       "      <td>NaN</td>\n",
       "      <td>NaN</td>\n",
       "      <td>NaN</td>\n",
       "    </tr>\n",
       "    <tr>\n",
       "      <th>3933692</th>\n",
       "      <td>EEA32</td>\n",
       "      <td>EEA32</td>\n",
       "      <td>total PAH</td>\n",
       "      <td>NEC NFR-1 sector classification</td>\n",
       "      <td>5C1bv</td>\n",
       "      <td>2011</td>\n",
       "      <td>0.0009683435030517829</td>\n",
       "      <td>Mg</td>\n",
       "      <td>NaN</td>\n",
       "      <td>NaN</td>\n",
       "      <td>NaN</td>\n",
       "      <td>NaN</td>\n",
       "    </tr>\n",
       "    <tr>\n",
       "      <th>3933693</th>\n",
       "      <td>EEA32</td>\n",
       "      <td>EEA32</td>\n",
       "      <td>Zn</td>\n",
       "      <td>NEC NFR-1 sector classification</td>\n",
       "      <td>3B4a</td>\n",
       "      <td>2009</td>\n",
       "      <td>0</td>\n",
       "      <td>Mg</td>\n",
       "      <td>NaN</td>\n",
       "      <td>NaN</td>\n",
       "      <td>NaN</td>\n",
       "      <td>NaN</td>\n",
       "    </tr>\n",
       "    <tr>\n",
       "      <th>3933694</th>\n",
       "      <td>EEA32</td>\n",
       "      <td>EEA32</td>\n",
       "      <td>HCB</td>\n",
       "      <td>NEC NFR-1 sector classification</td>\n",
       "      <td>1A2f</td>\n",
       "      <td>2002</td>\n",
       "      <td>1.0821639623803498</td>\n",
       "      <td>kg</td>\n",
       "      <td>NaN</td>\n",
       "      <td>NaN</td>\n",
       "      <td>NaN</td>\n",
       "      <td>NaN</td>\n",
       "    </tr>\n",
       "    <tr>\n",
       "      <th>3933695</th>\n",
       "      <td>EEA32</td>\n",
       "      <td>EEA32</td>\n",
       "      <td>Hg</td>\n",
       "      <td>NEC NFR-1 sector classification</td>\n",
       "      <td>2A5a</td>\n",
       "      <td>2010</td>\n",
       "      <td>0.0002</td>\n",
       "      <td>Mg</td>\n",
       "      <td>NaN</td>\n",
       "      <td>NaN</td>\n",
       "      <td>NaN</td>\n",
       "      <td>NaN</td>\n",
       "    </tr>\n",
       "  </tbody>\n",
       "</table>\n",
       "</div>"
      ],
      "text/plain": [
       "        Country_Code Country Pollutant_name                      Format_name  \\\n",
       "3933691        EEA32   EEA32            PCB  NEC NFR-1 sector classification   \n",
       "3933692        EEA32   EEA32      total PAH  NEC NFR-1 sector classification   \n",
       "3933693        EEA32   EEA32             Zn  NEC NFR-1 sector classification   \n",
       "3933694        EEA32   EEA32            HCB  NEC NFR-1 sector classification   \n",
       "3933695        EEA32   EEA32             Hg  NEC NFR-1 sector classification   \n",
       "\n",
       "        Sector_code  Year              Emissions Unit Notation VersionId  \\\n",
       "3933691          5E  2009      80.94100949939022   kg      NaN       NaN   \n",
       "3933692       5C1bv  2011  0.0009683435030517829   Mg      NaN       NaN   \n",
       "3933693        3B4a  2009                      0   Mg      NaN       NaN   \n",
       "3933694        1A2f  2002     1.0821639623803498   kg      NaN       NaN   \n",
       "3933695        2A5a  2010                 0.0002   Mg      NaN       NaN   \n",
       "\n",
       "        Parent_sector_code Sector_name  \n",
       "3933691                NaN         NaN  \n",
       "3933692                NaN         NaN  \n",
       "3933693                NaN         NaN  \n",
       "3933694                NaN         NaN  \n",
       "3933695                NaN         NaN  "
      ]
     },
     "execution_count": 97,
     "metadata": {},
     "output_type": "execute_result"
    }
   ],
   "source": [
    "df_LRTAPemissions.tail()"
   ]
  },
  {
   "cell_type": "markdown",
   "id": "7e4494b4",
   "metadata": {},
   "source": [
    "### 4.1.3. Shape of dataset"
   ]
  },
  {
   "cell_type": "code",
   "execution_count": 98,
   "id": "fcdaff1f",
   "metadata": {},
   "outputs": [
    {
     "data": {
      "text/plain": [
       "(3933696, 12)"
      ]
     },
     "execution_count": 98,
     "metadata": {},
     "output_type": "execute_result"
    }
   ],
   "source": [
    "df_LRTAPemissions.shape"
   ]
  },
  {
   "cell_type": "markdown",
   "id": "86345e39",
   "metadata": {},
   "source": [
    "### 4.1.4. Data types"
   ]
  },
  {
   "cell_type": "code",
   "execution_count": 99,
   "id": "735066b3",
   "metadata": {},
   "outputs": [
    {
     "name": "stdout",
     "output_type": "stream",
     "text": [
      "<class 'pandas.core.frame.DataFrame'>\n",
      "RangeIndex: 3933696 entries, 0 to 3933695\n",
      "Data columns (total 12 columns):\n",
      " #   Column              Dtype \n",
      "---  ------              ----- \n",
      " 0   Country_Code        object\n",
      " 1   Country             object\n",
      " 2   Pollutant_name      object\n",
      " 3   Format_name         object\n",
      " 4   Sector_code         object\n",
      " 5   Year                object\n",
      " 6   Emissions           object\n",
      " 7   Unit                object\n",
      " 8   Notation            object\n",
      " 9   VersionId           object\n",
      " 10  Parent_sector_code  object\n",
      " 11  Sector_name         object\n",
      "dtypes: object(12)\n",
      "memory usage: 360.1+ MB\n"
     ]
    }
   ],
   "source": [
    "df_LRTAPemissions.info()"
   ]
  },
  {
   "cell_type": "markdown",
   "id": "a5d0d411",
   "metadata": {},
   "source": [
    "### 4.1.5. Data conversions"
   ]
  },
  {
   "cell_type": "markdown",
   "id": "ef95e363",
   "metadata": {},
   "source": [
    "We can see that the columns `Year` and `Emissions` has `object` data type, let's correct them."
   ]
  },
  {
   "cell_type": "code",
   "execution_count": 100,
   "id": "5ae0801d",
   "metadata": {},
   "outputs": [],
   "source": [
    "df_LRTAPemissions['Emissions'] = df_LRTAPemissions['Emissions'].astype(\"float\")\n",
    "df_LRTAPemissions['Year'] = df_LRTAPemissions['Year'].astype(\"int\")"
   ]
  },
  {
   "cell_type": "code",
   "execution_count": 101,
   "id": "47a63d20",
   "metadata": {},
   "outputs": [
    {
     "name": "stdout",
     "output_type": "stream",
     "text": [
      "<class 'pandas.core.frame.DataFrame'>\n",
      "RangeIndex: 3933696 entries, 0 to 3933695\n",
      "Data columns (total 12 columns):\n",
      " #   Column              Dtype  \n",
      "---  ------              -----  \n",
      " 0   Country_Code        object \n",
      " 1   Country             object \n",
      " 2   Pollutant_name      object \n",
      " 3   Format_name         object \n",
      " 4   Sector_code         object \n",
      " 5   Year                int64  \n",
      " 6   Emissions           float64\n",
      " 7   Unit                object \n",
      " 8   Notation            object \n",
      " 9   VersionId           object \n",
      " 10  Parent_sector_code  object \n",
      " 11  Sector_name         object \n",
      "dtypes: float64(1), int64(1), object(10)\n",
      "memory usage: 360.1+ MB\n"
     ]
    }
   ],
   "source": [
    "df_LRTAPemissions.info()"
   ]
  },
  {
   "cell_type": "markdown",
   "id": "2771c1fd",
   "metadata": {},
   "source": [
    "## 4.2. EDA dimensions"
   ]
  },
  {
   "cell_type": "markdown",
   "id": "05f7557b",
   "metadata": {},
   "source": [
    "### 4.2.1. Year"
   ]
  },
  {
   "cell_type": "code",
   "execution_count": 102,
   "id": "c54fe04d",
   "metadata": {},
   "outputs": [
    {
     "data": {
      "text/plain": [
       "count    3933696.000000\n",
       "mean        2005.500000\n",
       "std            9.233094\n",
       "min         1990.000000\n",
       "25%         1997.750000\n",
       "50%         2005.500000\n",
       "75%         2013.250000\n",
       "max         2021.000000\n",
       "Name: Year, dtype: object"
      ]
     },
     "execution_count": 102,
     "metadata": {},
     "output_type": "execute_result"
    }
   ],
   "source": [
    "# Describe used with lambda functions to prevent exponential notation\n",
    "df_LRTAPemissions['Year'].describe().apply(lambda x: format(x, 'f'))"
   ]
  },
  {
   "cell_type": "code",
   "execution_count": 103,
   "id": "e74d5d4c",
   "metadata": {},
   "outputs": [
    {
     "data": {
      "text/plain": [
       "array([1990, 1991, 1992, 1993, 1994, 1995, 1996, 1997, 1998, 1999, 2000,\n",
       "       2001, 2002, 2003, 2004, 2005, 2006, 2007, 2008, 2009, 2010, 2011,\n",
       "       2012, 2013, 2014, 2015, 2016, 2017, 2018, 2019, 2020, 2021])"
      ]
     },
     "execution_count": 103,
     "metadata": {},
     "output_type": "execute_result"
    }
   ],
   "source": [
    "df_LRTAPemissions.Year.unique()"
   ]
  },
  {
   "cell_type": "code",
   "execution_count": 104,
   "id": "8bab6f35",
   "metadata": {},
   "outputs": [
    {
     "data": {
      "text/plain": [
       "32"
      ]
     },
     "execution_count": 104,
     "metadata": {},
     "output_type": "execute_result"
    }
   ],
   "source": [
    "df_LRTAPemissions.Year.nunique()"
   ]
  },
  {
   "cell_type": "markdown",
   "id": "b6ceeefd",
   "metadata": {},
   "source": [
    "### 4.2.2. Country_code"
   ]
  },
  {
   "cell_type": "code",
   "execution_count": 105,
   "id": "e6c70648",
   "metadata": {},
   "outputs": [
    {
     "data": {
      "text/plain": [
       "array(['AT', 'BE', 'DK', 'FI', 'FR', 'DE', 'GR', 'IE', 'IT', 'LU', 'NL',\n",
       "       'PT', 'ES', 'SE', 'BG', 'HR', 'CY', 'CZ', 'EE', 'HU', 'LT', 'LV',\n",
       "       'MT', 'PL', 'RO', 'SI', 'SK', 'EU27', 'CH', 'IS', 'LI', 'NO', 'TR',\n",
       "       'EEA32'], dtype=object)"
      ]
     },
     "execution_count": 105,
     "metadata": {},
     "output_type": "execute_result"
    }
   ],
   "source": [
    "df_LRTAPemissions.Country_Code.unique()"
   ]
  },
  {
   "cell_type": "code",
   "execution_count": 106,
   "id": "59489bdd",
   "metadata": {},
   "outputs": [
    {
     "data": {
      "text/plain": [
       "34"
      ]
     },
     "execution_count": 106,
     "metadata": {},
     "output_type": "execute_result"
    }
   ],
   "source": [
    "df_LRTAPemissions.Country_Code.nunique()"
   ]
  },
  {
   "cell_type": "markdown",
   "id": "b67cfa97",
   "metadata": {},
   "source": [
    "### 4.2.3. Country"
   ]
  },
  {
   "cell_type": "code",
   "execution_count": 107,
   "id": "8cceadb9",
   "metadata": {},
   "outputs": [
    {
     "data": {
      "text/plain": [
       "array(['Austria', 'Belgium', 'Denmark', 'Finland', 'France', 'Germany',\n",
       "       'Greece', 'Ireland', 'Italy', 'Luxembourg', 'Netherlands',\n",
       "       'Portugal', 'Spain', 'Sweden', 'Bulgaria', 'Croatia', 'Cyprus',\n",
       "       'Czechia', 'Estonia', 'Hungary', 'Lithuania', 'Latvia', 'Malta',\n",
       "       'Poland', 'Romania', 'Slovenia', 'Slovakia', 'EU27', 'Switzerland',\n",
       "       'Iceland', 'Liechtenstein', 'Norway', 'Türkiye', 'Czech Republic',\n",
       "       'EEA32'], dtype=object)"
      ]
     },
     "execution_count": 107,
     "metadata": {},
     "output_type": "execute_result"
    }
   ],
   "source": [
    "df_LRTAPemissions.Country.unique()"
   ]
  },
  {
   "cell_type": "code",
   "execution_count": 108,
   "id": "066c1573",
   "metadata": {},
   "outputs": [
    {
     "data": {
      "text/plain": [
       "35"
      ]
     },
     "execution_count": 108,
     "metadata": {},
     "output_type": "execute_result"
    }
   ],
   "source": [
    "df_LRTAPemissions.Country.nunique()"
   ]
  },
  {
   "cell_type": "code",
   "execution_count": 109,
   "id": "9a89c845",
   "metadata": {},
   "outputs": [],
   "source": [
    "q = \"\"\"SELECT Country_Code, COUNT(DISTINCT Country) FROM df_LRTAPemissions GROUP BY Country_Code HAVING COUNT(DISTINCT Country)>1;\"\"\"\n",
    "pysqldf = lambda q: sqldf(q, globals())\n",
    "df_duplicateCC = pysqldf(q)"
   ]
  },
  {
   "cell_type": "code",
   "execution_count": 110,
   "id": "f8de513d",
   "metadata": {},
   "outputs": [
    {
     "data": {
      "text/html": [
       "<div>\n",
       "<style scoped>\n",
       "    .dataframe tbody tr th:only-of-type {\n",
       "        vertical-align: middle;\n",
       "    }\n",
       "\n",
       "    .dataframe tbody tr th {\n",
       "        vertical-align: top;\n",
       "    }\n",
       "\n",
       "    .dataframe thead th {\n",
       "        text-align: right;\n",
       "    }\n",
       "</style>\n",
       "<table border=\"1\" class=\"dataframe\">\n",
       "  <thead>\n",
       "    <tr style=\"text-align: right;\">\n",
       "      <th></th>\n",
       "      <th>Country_Code</th>\n",
       "      <th>COUNT(DISTINCT Country)</th>\n",
       "    </tr>\n",
       "  </thead>\n",
       "  <tbody>\n",
       "    <tr>\n",
       "      <th>0</th>\n",
       "      <td>CZ</td>\n",
       "      <td>2</td>\n",
       "    </tr>\n",
       "  </tbody>\n",
       "</table>\n",
       "</div>"
      ],
      "text/plain": [
       "  Country_Code  COUNT(DISTINCT Country)\n",
       "0           CZ                        2"
      ]
     },
     "execution_count": 110,
     "metadata": {},
     "output_type": "execute_result"
    }
   ],
   "source": [
    "df_duplicateCC"
   ]
  },
  {
   "cell_type": "code",
   "execution_count": 111,
   "id": "fca0cb31",
   "metadata": {},
   "outputs": [],
   "source": [
    "q = \"\"\"SELECT DISTINCT Country_Code, Country FROM df_LRTAPemissions WHERE Country_Code='CZ';\"\"\"\n",
    "pysqldf = lambda q: sqldf(q, globals())\n",
    "df_uniqueCC = pysqldf(q)"
   ]
  },
  {
   "cell_type": "code",
   "execution_count": 112,
   "id": "49394bb3",
   "metadata": {},
   "outputs": [
    {
     "data": {
      "text/html": [
       "<div>\n",
       "<style scoped>\n",
       "    .dataframe tbody tr th:only-of-type {\n",
       "        vertical-align: middle;\n",
       "    }\n",
       "\n",
       "    .dataframe tbody tr th {\n",
       "        vertical-align: top;\n",
       "    }\n",
       "\n",
       "    .dataframe thead th {\n",
       "        text-align: right;\n",
       "    }\n",
       "</style>\n",
       "<table border=\"1\" class=\"dataframe\">\n",
       "  <thead>\n",
       "    <tr style=\"text-align: right;\">\n",
       "      <th></th>\n",
       "      <th>Country_Code</th>\n",
       "      <th>Country</th>\n",
       "    </tr>\n",
       "  </thead>\n",
       "  <tbody>\n",
       "    <tr>\n",
       "      <th>0</th>\n",
       "      <td>CZ</td>\n",
       "      <td>Czechia</td>\n",
       "    </tr>\n",
       "    <tr>\n",
       "      <th>1</th>\n",
       "      <td>CZ</td>\n",
       "      <td>Czech Republic</td>\n",
       "    </tr>\n",
       "  </tbody>\n",
       "</table>\n",
       "</div>"
      ],
      "text/plain": [
       "  Country_Code         Country\n",
       "0           CZ         Czechia\n",
       "1           CZ  Czech Republic"
      ]
     },
     "execution_count": 112,
     "metadata": {},
     "output_type": "execute_result"
    }
   ],
   "source": [
    "df_uniqueCC"
   ]
  },
  {
   "cell_type": "markdown",
   "id": "ef142509",
   "metadata": {},
   "source": [
    "### 4.2.4. Pollutant name"
   ]
  },
  {
   "cell_type": "code",
   "execution_count": 113,
   "id": "303eb3b2",
   "metadata": {},
   "outputs": [
    {
     "data": {
      "text/plain": [
       "array(['As', 'BC', 'benzo(a)', 'benzo(b)', 'benzo(k)', 'Cd', 'CO', 'Cr',\n",
       "       'Cu', 'dioxin', 'HCB', 'Hg', 'Indeno', 'NH3', 'Ni', 'NMVOC', 'NOx',\n",
       "       'Pb', 'PCB', 'PM10', 'PM2.5', 'Se', 'SOx', 'total PAH', 'TSP',\n",
       "       'Zn'], dtype=object)"
      ]
     },
     "execution_count": 113,
     "metadata": {},
     "output_type": "execute_result"
    }
   ],
   "source": [
    "df_LRTAPemissions.Pollutant_name.unique()"
   ]
  },
  {
   "cell_type": "code",
   "execution_count": 114,
   "id": "b978e0fc",
   "metadata": {},
   "outputs": [
    {
     "data": {
      "text/plain": [
       "26"
      ]
     },
     "execution_count": 114,
     "metadata": {},
     "output_type": "execute_result"
    }
   ],
   "source": [
    "df_LRTAPemissions.Pollutant_name.nunique()"
   ]
  },
  {
   "cell_type": "code",
   "execution_count": 115,
   "id": "7be9e78d",
   "metadata": {},
   "outputs": [
    {
     "data": {
      "image/png": "[encoded data removed]",
      "text/plain": [
       "<Figure size 2000x700 with 1 Axes>"
      ]
     },
     "metadata": {},
     "output_type": "display_data"
    }
   ],
   "source": [
    "sns.set(rc={'figure.figsize':(20,7)})\n",
    "sns.countplot(x='Pollutant_name', data=df_LRTAPemissions);"
   ]
  },
  {
   "cell_type": "markdown",
   "id": "7cb63c34",
   "metadata": {},
   "source": [
    "### 4.2.5. Version"
   ]
  },
  {
   "cell_type": "code",
   "execution_count": 116,
   "id": "606d2b68",
   "metadata": {},
   "outputs": [
    {
     "data": {
      "text/plain": [
       "array(['1', nan], dtype=object)"
      ]
     },
     "execution_count": 116,
     "metadata": {},
     "output_type": "execute_result"
    }
   ],
   "source": [
    "df_LRTAPemissions.VersionId.unique()"
   ]
  },
  {
   "cell_type": "code",
   "execution_count": 117,
   "id": "4c0924d5",
   "metadata": {},
   "outputs": [
    {
     "data": {
      "text/plain": [
       "1"
      ]
     },
     "execution_count": 117,
     "metadata": {},
     "output_type": "execute_result"
    }
   ],
   "source": [
    "df_LRTAPemissions.VersionId.nunique()"
   ]
  },
  {
   "cell_type": "markdown",
   "id": "138e7ff5",
   "metadata": {},
   "source": [
    "### 4.2.6. Unit"
   ]
  },
  {
   "cell_type": "code",
   "execution_count": 118,
   "id": "d6107547",
   "metadata": {},
   "outputs": [],
   "source": [
    "q = \"\"\"SELECT Pollutant_name, COUNT(DISTINCT Unit) FROM df_LRTAPemissions GROUP BY Pollutant_name HAVING COUNT(DISTINCT Unit)>1;\"\"\"\n",
    "pysqldf = lambda q: sqldf(q, globals())\n",
    "df_duplicateUNIT = pysqldf(q)"
   ]
  },
  {
   "cell_type": "code",
   "execution_count": 119,
   "id": "67257648",
   "metadata": {},
   "outputs": [
    {
     "data": {
      "text/html": [
       "<div>\n",
       "<style scoped>\n",
       "    .dataframe tbody tr th:only-of-type {\n",
       "        vertical-align: middle;\n",
       "    }\n",
       "\n",
       "    .dataframe tbody tr th {\n",
       "        vertical-align: top;\n",
       "    }\n",
       "\n",
       "    .dataframe thead th {\n",
       "        text-align: right;\n",
       "    }\n",
       "</style>\n",
       "<table border=\"1\" class=\"dataframe\">\n",
       "  <thead>\n",
       "    <tr style=\"text-align: right;\">\n",
       "      <th></th>\n",
       "      <th>Pollutant_name</th>\n",
       "      <th>COUNT(DISTINCT Unit)</th>\n",
       "    </tr>\n",
       "  </thead>\n",
       "  <tbody>\n",
       "  </tbody>\n",
       "</table>\n",
       "</div>"
      ],
      "text/plain": [
       "Empty DataFrame\n",
       "Columns: [Pollutant_name, COUNT(DISTINCT Unit)]\n",
       "Index: []"
      ]
     },
     "execution_count": 119,
     "metadata": {},
     "output_type": "execute_result"
    }
   ],
   "source": [
    "df_duplicateUNIT"
   ]
  },
  {
   "cell_type": "markdown",
   "id": "cf63afd0",
   "metadata": {},
   "source": [
    "There are not any `Pollutant_name` which is listed with more than one `Unit`."
   ]
  },
  {
   "cell_type": "markdown",
   "id": "12a31392",
   "metadata": {},
   "source": [
    "### 4.2.7. Notation"
   ]
  },
  {
   "cell_type": "code",
   "execution_count": 120,
   "id": "0430c525",
   "metadata": {},
   "outputs": [
    {
     "data": {
      "text/plain": [
       "array([nan], dtype=object)"
      ]
     },
     "execution_count": 120,
     "metadata": {},
     "output_type": "execute_result"
    }
   ],
   "source": [
    "df_LRTAPemissions.Notation.unique()"
   ]
  },
  {
   "cell_type": "code",
   "execution_count": 121,
   "id": "f4b2216e",
   "metadata": {},
   "outputs": [
    {
     "data": {
      "text/plain": [
       "0"
      ]
     },
     "execution_count": 121,
     "metadata": {},
     "output_type": "execute_result"
    }
   ],
   "source": [
    "df_LRTAPemissions.Notation.nunique()"
   ]
  },
  {
   "cell_type": "markdown",
   "id": "a68be51d",
   "metadata": {},
   "source": [
    "## 4.3. EDA measures"
   ]
  },
  {
   "cell_type": "markdown",
   "id": "433be59d",
   "metadata": {},
   "source": [
    "### 4.3.1. Emissions"
   ]
  },
  {
   "cell_type": "code",
   "execution_count": 122,
   "id": "29b156c4",
   "metadata": {},
   "outputs": [
    {
     "data": {
      "text/plain": [
       "count    2419559.000000\n",
       "mean           9.293554\n",
       "std          257.592859\n",
       "min            0.000000\n",
       "25%            0.000000\n",
       "50%            0.000000\n",
       "75%            0.031999\n",
       "max        60480.189090\n",
       "Name: Emissions, dtype: object"
      ]
     },
     "execution_count": 122,
     "metadata": {},
     "output_type": "execute_result"
    }
   ],
   "source": [
    "# Describe used with lambda functions to prevent exponential notation\n",
    "df_LRTAPemissions['Emissions'].describe().apply(lambda x: format(x, 'f'))"
   ]
  },
  {
   "cell_type": "markdown",
   "id": "df8e01a9",
   "metadata": {},
   "source": [
    "# 5. Perimeter of analysis"
   ]
  },
  {
   "cell_type": "markdown",
   "id": "7d65d4b8",
   "metadata": {},
   "source": [
    "## 5.1. Sectors of interest"
   ]
  },
  {
   "cell_type": "markdown",
   "id": "1ff77004",
   "metadata": {},
   "source": [
    "Let's filter only emissions from domestic and international aviation."
   ]
  },
  {
   "cell_type": "code",
   "execution_count": 123,
   "id": "8f568fc7",
   "metadata": {},
   "outputs": [
    {
     "name": "stdout",
     "output_type": "stream",
     "text": [
      "International aviation LTO (civil)\n",
      "Domestic aviation LTO (civil)\n",
      "International aviation cruise (civil)\n",
      "Domestic aviation cruise (civil)\n"
     ]
    }
   ],
   "source": [
    "# List sectors of interest which include 'aviation' in their name\n",
    "col=df_LRTAPemissions.Sector_name.unique()\n",
    "for i in col: \n",
    "    if type(i) is str:\n",
    "        if 'aviation' in i:\n",
    "            print(i)"
   ]
  },
  {
   "cell_type": "code",
   "execution_count": 124,
   "id": "14bce062",
   "metadata": {},
   "outputs": [],
   "source": [
    "# Define the sectors of interest\n",
    "sectors_of_interest = [\n",
    "    'International aviation LTO (civil)',\n",
    "    'Domestic aviation LTO (civil)',\n",
    "    'International aviation cruise (civil)',\n",
    "    'Domestic aviation cruise (civil)'\n",
    "]\n",
    "\n",
    "# Filter the DataFrame for these sectors\n",
    "df_emissions = df_LRTAPemissions[df_LRTAPemissions['Sector_name'].isin(sectors_of_interest)]"
   ]
  },
  {
   "cell_type": "code",
   "execution_count": 125,
   "id": "f984784e",
   "metadata": {},
   "outputs": [
    {
     "data": {
      "text/plain": [
       "array(['International aviation LTO (civil)',\n",
       "       'Domestic aviation LTO (civil)',\n",
       "       'International aviation cruise (civil)',\n",
       "       'Domestic aviation cruise (civil)'], dtype=object)"
      ]
     },
     "execution_count": 125,
     "metadata": {},
     "output_type": "execute_result"
    }
   ],
   "source": [
    "df_emissions.Sector_name.unique()"
   ]
  },
  {
   "cell_type": "markdown",
   "id": "9c3320d5",
   "metadata": {},
   "source": [
    "## 5.2. Country code"
   ]
  },
  {
   "cell_type": "code",
   "execution_count": 126,
   "id": "358396d0",
   "metadata": {},
   "outputs": [],
   "source": [
    "# Filter the DataFrame for these sectors\n",
    "df_emissions = df_emissions[df_emissions['Country_Code'].isin(countryEU27)]"
   ]
  },
  {
   "cell_type": "code",
   "execution_count": 127,
   "id": "af1d81f3",
   "metadata": {},
   "outputs": [
    {
     "data": {
      "text/plain": [
       "array(['AT', 'BE', 'DK', 'FI', 'FR', 'DE', 'GR', 'IE', 'IT', 'LU', 'NL',\n",
       "       'PT', 'ES', 'SE', 'BG', 'HR', 'CY', 'CZ', 'EE', 'HU', 'LT', 'LV',\n",
       "       'MT', 'PL', 'RO', 'SI', 'SK'], dtype=object)"
      ]
     },
     "execution_count": 127,
     "metadata": {},
     "output_type": "execute_result"
    }
   ],
   "source": [
    "df_emissions.Country_Code.unique()"
   ]
  },
  {
   "cell_type": "code",
   "execution_count": 128,
   "id": "269b478c",
   "metadata": {},
   "outputs": [
    {
     "data": {
      "text/plain": [
       "27"
      ]
     },
     "execution_count": 128,
     "metadata": {},
     "output_type": "execute_result"
    }
   ],
   "source": [
    "df_emissions.Country_Code.nunique()"
   ]
  },
  {
   "cell_type": "markdown",
   "id": "1f58cd84",
   "metadata": {},
   "source": [
    "# 6. Management of Nan values"
   ]
  },
  {
   "cell_type": "markdown",
   "id": "bfd3a2bf",
   "metadata": {},
   "source": [
    "## 6.1. Analysis of Nan values"
   ]
  },
  {
   "cell_type": "markdown",
   "id": "65c4a268",
   "metadata": {},
   "source": [
    "### 6.1.1. Nan values by Country"
   ]
  },
  {
   "cell_type": "code",
   "execution_count": 131,
   "id": "135049fc",
   "metadata": {},
   "outputs": [
    {
     "data": {
      "text/html": [
       "<div>\n",
       "<style scoped>\n",
       "    .dataframe tbody tr th:only-of-type {\n",
       "        vertical-align: middle;\n",
       "    }\n",
       "\n",
       "    .dataframe tbody tr th {\n",
       "        vertical-align: top;\n",
       "    }\n",
       "\n",
       "    .dataframe thead th {\n",
       "        text-align: right;\n",
       "    }\n",
       "</style>\n",
       "<table border=\"1\" class=\"dataframe\">\n",
       "  <thead>\n",
       "    <tr style=\"text-align: right;\">\n",
       "      <th></th>\n",
       "      <th>Emissions</th>\n",
       "    </tr>\n",
       "    <tr>\n",
       "      <th>Country_Code</th>\n",
       "      <th></th>\n",
       "    </tr>\n",
       "  </thead>\n",
       "  <tbody>\n",
       "    <tr>\n",
       "      <th>AT</th>\n",
       "      <td>1920</td>\n",
       "    </tr>\n",
       "    <tr>\n",
       "      <th>BE</th>\n",
       "      <td>256</td>\n",
       "    </tr>\n",
       "    <tr>\n",
       "      <th>BG</th>\n",
       "      <td>2081</td>\n",
       "    </tr>\n",
       "    <tr>\n",
       "      <th>CY</th>\n",
       "      <td>2492</td>\n",
       "    </tr>\n",
       "    <tr>\n",
       "      <th>CZ</th>\n",
       "      <td>720</td>\n",
       "    </tr>\n",
       "    <tr>\n",
       "      <th>DE</th>\n",
       "      <td>128</td>\n",
       "    </tr>\n",
       "    <tr>\n",
       "      <th>DK</th>\n",
       "      <td>0</td>\n",
       "    </tr>\n",
       "    <tr>\n",
       "      <th>EE</th>\n",
       "      <td>2048</td>\n",
       "    </tr>\n",
       "    <tr>\n",
       "      <th>ES</th>\n",
       "      <td>280</td>\n",
       "    </tr>\n",
       "    <tr>\n",
       "      <th>FI</th>\n",
       "      <td>384</td>\n",
       "    </tr>\n",
       "    <tr>\n",
       "      <th>FR</th>\n",
       "      <td>1920</td>\n",
       "    </tr>\n",
       "    <tr>\n",
       "      <th>GR</th>\n",
       "      <td>2182</td>\n",
       "    </tr>\n",
       "    <tr>\n",
       "      <th>HR</th>\n",
       "      <td>225</td>\n",
       "    </tr>\n",
       "    <tr>\n",
       "      <th>HU</th>\n",
       "      <td>1720</td>\n",
       "    </tr>\n",
       "    <tr>\n",
       "      <th>IE</th>\n",
       "      <td>1024</td>\n",
       "    </tr>\n",
       "    <tr>\n",
       "      <th>IT</th>\n",
       "      <td>576</td>\n",
       "    </tr>\n",
       "    <tr>\n",
       "      <th>LT</th>\n",
       "      <td>1408</td>\n",
       "    </tr>\n",
       "    <tr>\n",
       "      <th>LU</th>\n",
       "      <td>2560</td>\n",
       "    </tr>\n",
       "    <tr>\n",
       "      <th>LV</th>\n",
       "      <td>1088</td>\n",
       "    </tr>\n",
       "    <tr>\n",
       "      <th>MT</th>\n",
       "      <td>1664</td>\n",
       "    </tr>\n",
       "    <tr>\n",
       "      <th>NL</th>\n",
       "      <td>2016</td>\n",
       "    </tr>\n",
       "    <tr>\n",
       "      <th>PL</th>\n",
       "      <td>1344</td>\n",
       "    </tr>\n",
       "    <tr>\n",
       "      <th>PT</th>\n",
       "      <td>320</td>\n",
       "    </tr>\n",
       "    <tr>\n",
       "      <th>RO</th>\n",
       "      <td>2308</td>\n",
       "    </tr>\n",
       "    <tr>\n",
       "      <th>SE</th>\n",
       "      <td>2176</td>\n",
       "    </tr>\n",
       "    <tr>\n",
       "      <th>SI</th>\n",
       "      <td>2168</td>\n",
       "    </tr>\n",
       "    <tr>\n",
       "      <th>SK</th>\n",
       "      <td>2036</td>\n",
       "    </tr>\n",
       "  </tbody>\n",
       "</table>\n",
       "</div>"
      ],
      "text/plain": [
       "              Emissions\n",
       "Country_Code           \n",
       "AT                 1920\n",
       "BE                  256\n",
       "BG                 2081\n",
       "CY                 2492\n",
       "CZ                  720\n",
       "DE                  128\n",
       "DK                    0\n",
       "EE                 2048\n",
       "ES                  280\n",
       "FI                  384\n",
       "FR                 1920\n",
       "GR                 2182\n",
       "HR                  225\n",
       "HU                 1720\n",
       "IE                 1024\n",
       "IT                  576\n",
       "LT                 1408\n",
       "LU                 2560\n",
       "LV                 1088\n",
       "MT                 1664\n",
       "NL                 2016\n",
       "PL                 1344\n",
       "PT                  320\n",
       "RO                 2308\n",
       "SE                 2176\n",
       "SI                 2168\n",
       "SK                 2036"
      ]
     },
     "execution_count": 131,
     "metadata": {},
     "output_type": "execute_result"
    }
   ],
   "source": [
    "df_Nan_Country = df_emissions.groupby(['Country_Code']).agg({'Emissions': lambda x: x.isnull().sum()})\n",
    "df_Nan_Country"
   ]
  },
  {
   "cell_type": "code",
   "execution_count": 132,
   "id": "6866b47b",
   "metadata": {},
   "outputs": [
    {
     "data": {
      "text/plain": [
       "37044"
      ]
     },
     "execution_count": 132,
     "metadata": {},
     "output_type": "execute_result"
    }
   ],
   "source": [
    "df_Nan_Country['Emissions'].sum()"
   ]
  },
  {
   "cell_type": "code",
   "execution_count": 133,
   "id": "d06c6e3e",
   "metadata": {},
   "outputs": [
    {
     "data": {
      "image/png": "[encoded data removed]",
      "text/plain": [
       "<Figure size 2000x700 with 1 Axes>"
      ]
     },
     "metadata": {},
     "output_type": "display_data"
    }
   ],
   "source": [
    "sns.set(rc={'figure.figsize':(20,7)})\n",
    "sns.barplot(x='Country_Code', y='Emissions', data=df_Nan_Country, color='darkgray');\n"
   ]
  },
  {
   "cell_type": "markdown",
   "id": "24382300",
   "metadata": {},
   "source": [
    "### 6.1.2. Nan values by Pollutant name"
   ]
  },
  {
   "cell_type": "code",
   "execution_count": 134,
   "id": "796ddc9d",
   "metadata": {},
   "outputs": [
    {
     "data": {
      "text/html": [
       "<div>\n",
       "<style scoped>\n",
       "    .dataframe tbody tr th:only-of-type {\n",
       "        vertical-align: middle;\n",
       "    }\n",
       "\n",
       "    .dataframe tbody tr th {\n",
       "        vertical-align: top;\n",
       "    }\n",
       "\n",
       "    .dataframe thead th {\n",
       "        text-align: right;\n",
       "    }\n",
       "</style>\n",
       "<table border=\"1\" class=\"dataframe\">\n",
       "  <thead>\n",
       "    <tr style=\"text-align: right;\">\n",
       "      <th></th>\n",
       "      <th>Emissions</th>\n",
       "    </tr>\n",
       "    <tr>\n",
       "      <th>Pollutant_name</th>\n",
       "      <th></th>\n",
       "    </tr>\n",
       "  </thead>\n",
       "  <tbody>\n",
       "    <tr>\n",
       "      <th>As</th>\n",
       "      <td>1958</td>\n",
       "    </tr>\n",
       "    <tr>\n",
       "      <th>BC</th>\n",
       "      <td>804</td>\n",
       "    </tr>\n",
       "    <tr>\n",
       "      <th>CO</th>\n",
       "      <td>238</td>\n",
       "    </tr>\n",
       "    <tr>\n",
       "      <th>Cd</th>\n",
       "      <td>1702</td>\n",
       "    </tr>\n",
       "    <tr>\n",
       "      <th>Cr</th>\n",
       "      <td>1958</td>\n",
       "    </tr>\n",
       "    <tr>\n",
       "      <th>Cu</th>\n",
       "      <td>1958</td>\n",
       "    </tr>\n",
       "    <tr>\n",
       "      <th>HCB</th>\n",
       "      <td>836</td>\n",
       "    </tr>\n",
       "    <tr>\n",
       "      <th>Hg</th>\n",
       "      <td>1798</td>\n",
       "    </tr>\n",
       "    <tr>\n",
       "      <th>Indeno</th>\n",
       "      <td>2173</td>\n",
       "    </tr>\n",
       "    <tr>\n",
       "      <th>NH3</th>\n",
       "      <td>2497</td>\n",
       "    </tr>\n",
       "    <tr>\n",
       "      <th>NMVOC</th>\n",
       "      <td>232</td>\n",
       "    </tr>\n",
       "    <tr>\n",
       "      <th>NOx</th>\n",
       "      <td>232</td>\n",
       "    </tr>\n",
       "    <tr>\n",
       "      <th>Ni</th>\n",
       "      <td>1958</td>\n",
       "    </tr>\n",
       "    <tr>\n",
       "      <th>PCB</th>\n",
       "      <td>964</td>\n",
       "    </tr>\n",
       "    <tr>\n",
       "      <th>PM10</th>\n",
       "      <td>425</td>\n",
       "    </tr>\n",
       "    <tr>\n",
       "      <th>PM2.5</th>\n",
       "      <td>296</td>\n",
       "    </tr>\n",
       "    <tr>\n",
       "      <th>Pb</th>\n",
       "      <td>1425</td>\n",
       "    </tr>\n",
       "    <tr>\n",
       "      <th>SOx</th>\n",
       "      <td>232</td>\n",
       "    </tr>\n",
       "    <tr>\n",
       "      <th>Se</th>\n",
       "      <td>1958</td>\n",
       "    </tr>\n",
       "    <tr>\n",
       "      <th>TSP</th>\n",
       "      <td>742</td>\n",
       "    </tr>\n",
       "    <tr>\n",
       "      <th>Zn</th>\n",
       "      <td>1958</td>\n",
       "    </tr>\n",
       "    <tr>\n",
       "      <th>benzo(a)</th>\n",
       "      <td>2181</td>\n",
       "    </tr>\n",
       "    <tr>\n",
       "      <th>benzo(b)</th>\n",
       "      <td>2181</td>\n",
       "    </tr>\n",
       "    <tr>\n",
       "      <th>benzo(k)</th>\n",
       "      <td>2181</td>\n",
       "    </tr>\n",
       "    <tr>\n",
       "      <th>dioxin</th>\n",
       "      <td>2308</td>\n",
       "    </tr>\n",
       "    <tr>\n",
       "      <th>total PAH</th>\n",
       "      <td>1849</td>\n",
       "    </tr>\n",
       "  </tbody>\n",
       "</table>\n",
       "</div>"
      ],
      "text/plain": [
       "                Emissions\n",
       "Pollutant_name           \n",
       "As                   1958\n",
       "BC                    804\n",
       "CO                    238\n",
       "Cd                   1702\n",
       "Cr                   1958\n",
       "Cu                   1958\n",
       "HCB                   836\n",
       "Hg                   1798\n",
       "Indeno               2173\n",
       "NH3                  2497\n",
       "NMVOC                 232\n",
       "NOx                   232\n",
       "Ni                   1958\n",
       "PCB                   964\n",
       "PM10                  425\n",
       "PM2.5                 296\n",
       "Pb                   1425\n",
       "SOx                   232\n",
       "Se                   1958\n",
       "TSP                   742\n",
       "Zn                   1958\n",
       "benzo(a)             2181\n",
       "benzo(b)             2181\n",
       "benzo(k)             2181\n",
       "dioxin               2308\n",
       "total PAH            1849"
      ]
     },
     "execution_count": 134,
     "metadata": {},
     "output_type": "execute_result"
    }
   ],
   "source": [
    "df_Nan_Pollutant = df_emissions.groupby(['Pollutant_name']).agg({'Emissions': lambda x: x.isnull().sum()})\n",
    "df_Nan_Pollutant"
   ]
  },
  {
   "cell_type": "code",
   "execution_count": 135,
   "id": "2a1281a7",
   "metadata": {},
   "outputs": [
    {
     "data": {
      "text/plain": [
       "37044"
      ]
     },
     "execution_count": 135,
     "metadata": {},
     "output_type": "execute_result"
    }
   ],
   "source": [
    "df_Nan_Pollutant['Emissions'].sum()"
   ]
  },
  {
   "cell_type": "code",
   "execution_count": 136,
   "id": "db7de548",
   "metadata": {},
   "outputs": [
    {
     "data": {
      "image/png": "[encoded data removed]",
      "text/plain": [
       "<Figure size 2000x700 with 1 Axes>"
      ]
     },
     "metadata": {},
     "output_type": "display_data"
    }
   ],
   "source": [
    "sns.set(rc={'figure.figsize':(20,7)})\n",
    "sns.barplot(x='Pollutant_name', y='Emissions', data=df_Nan_Pollutant, color='darkgray');"
   ]
  },
  {
   "cell_type": "code",
   "execution_count": null,
   "id": "4b68c441",
   "metadata": {},
   "outputs": [],
   "source": []
  },
  {
   "cell_type": "code",
   "execution_count": 169,
   "id": "db444442",
   "metadata": {},
   "outputs": [
    {
     "data": {
      "text/html": [
       "<div>\n",
       "<style scoped>\n",
       "    .dataframe tbody tr th:only-of-type {\n",
       "        vertical-align: middle;\n",
       "    }\n",
       "\n",
       "    .dataframe tbody tr th {\n",
       "        vertical-align: top;\n",
       "    }\n",
       "\n",
       "    .dataframe thead th {\n",
       "        text-align: right;\n",
       "    }\n",
       "</style>\n",
       "<table border=\"1\" class=\"dataframe\">\n",
       "  <thead>\n",
       "    <tr style=\"text-align: right;\">\n",
       "      <th></th>\n",
       "      <th></th>\n",
       "      <th>Emissions</th>\n",
       "    </tr>\n",
       "    <tr>\n",
       "      <th>Country_Code</th>\n",
       "      <th>Pollutant_name</th>\n",
       "      <th></th>\n",
       "    </tr>\n",
       "  </thead>\n",
       "  <tbody>\n",
       "    <tr>\n",
       "      <th rowspan=\"5\" valign=\"top\">AT</th>\n",
       "      <th>As</th>\n",
       "      <td>128</td>\n",
       "    </tr>\n",
       "    <tr>\n",
       "      <th>BC</th>\n",
       "      <td>128</td>\n",
       "    </tr>\n",
       "    <tr>\n",
       "      <th>CO</th>\n",
       "      <td>0</td>\n",
       "    </tr>\n",
       "    <tr>\n",
       "      <th>Cd</th>\n",
       "      <td>0</td>\n",
       "    </tr>\n",
       "    <tr>\n",
       "      <th>Cr</th>\n",
       "      <td>128</td>\n",
       "    </tr>\n",
       "    <tr>\n",
       "      <th>...</th>\n",
       "      <th>...</th>\n",
       "      <td>...</td>\n",
       "    </tr>\n",
       "    <tr>\n",
       "      <th rowspan=\"5\" valign=\"top\">SK</th>\n",
       "      <th>benzo(a)</th>\n",
       "      <td>128</td>\n",
       "    </tr>\n",
       "    <tr>\n",
       "      <th>benzo(b)</th>\n",
       "      <td>128</td>\n",
       "    </tr>\n",
       "    <tr>\n",
       "      <th>benzo(k)</th>\n",
       "      <td>128</td>\n",
       "    </tr>\n",
       "    <tr>\n",
       "      <th>dioxin</th>\n",
       "      <td>128</td>\n",
       "    </tr>\n",
       "    <tr>\n",
       "      <th>total PAH</th>\n",
       "      <td>128</td>\n",
       "    </tr>\n",
       "  </tbody>\n",
       "</table>\n",
       "<p>702 rows × 1 columns</p>\n",
       "</div>"
      ],
      "text/plain": [
       "                             Emissions\n",
       "Country_Code Pollutant_name           \n",
       "AT           As                    128\n",
       "             BC                    128\n",
       "             CO                      0\n",
       "             Cd                      0\n",
       "             Cr                    128\n",
       "...                                ...\n",
       "SK           benzo(a)              128\n",
       "             benzo(b)              128\n",
       "             benzo(k)              128\n",
       "             dioxin                128\n",
       "             total PAH             128\n",
       "\n",
       "[702 rows x 1 columns]"
      ]
     },
     "execution_count": 169,
     "metadata": {},
     "output_type": "execute_result"
    }
   ],
   "source": [
    "df_emissions.groupby(['Country_Code','Pollutant_name']).agg({'Emissions': lambda x: x.isnull().sum()})"
   ]
  },
  {
   "cell_type": "code",
   "execution_count": 156,
   "id": "2d8536c2",
   "metadata": {},
   "outputs": [],
   "source": [
    "(df_emissions[\n",
    "    (df_emissions.Country_Code == 'AT') &\n",
    "    (df_emissions.Pollutant_name == 'As')]).to_csv('Export.csv', sep=',', index=False, encoding='utf-8')"
   ]
  },
  {
   "cell_type": "code",
   "execution_count": 157,
   "id": "bd751a49",
   "metadata": {},
   "outputs": [
    {
     "ename": "AttributeError",
     "evalue": "'numpy.ndarray' object has no attribute 'Emissions'",
     "output_type": "error",
     "traceback": [
      "\u001b[0;31m---------------------------------------------------------------------------\u001b[0m",
      "\u001b[0;31mAttributeError\u001b[0m                            Traceback (most recent call last)",
      "Cell \u001b[0;32mIn[157], line 1\u001b[0m\n\u001b[0;32m----> 1\u001b[0m A[(\u001b[43mA\u001b[49m\u001b[38;5;241;43m.\u001b[39;49m\u001b[43mEmissions\u001b[49m \u001b[38;5;241m!=\u001b[39m \u001b[38;5;241m128\u001b[39m)]\n",
      "\u001b[0;31mAttributeError\u001b[0m: 'numpy.ndarray' object has no attribute 'Emissions'"
     ]
    }
   ],
   "source": [
    "A[(A.Emissions != 128)]"
   ]
  },
  {
   "cell_type": "code",
   "execution_count": 166,
   "id": "b58c2a1b",
   "metadata": {},
   "outputs": [],
   "source": [
    "A.to_csv('Export.csv', sep=',', index=False, encoding='utf-8')"
   ]
  },
  {
   "cell_type": "code",
   "execution_count": null,
   "id": "46e4b71c",
   "metadata": {},
   "outputs": [],
   "source": [
    "#INTERNAL NOTE: Inserire qui un grafico"
   ]
  },
  {
   "cell_type": "markdown",
   "id": "9e49383c",
   "metadata": {},
   "source": [
    "# 7. Aggregation"
   ]
  },
  {
   "cell_type": "markdown",
   "id": "cc9c20d0",
   "metadata": {},
   "source": [
    "# 7.1. Numeric aggregation of detailed data"
   ]
  },
  {
   "cell_type": "markdown",
   "id": "43b2a4c7",
   "metadata": {},
   "source": [
    "# 7.2. Plotting"
   ]
  },
  {
   "cell_type": "markdown",
   "id": "cbc39165",
   "metadata": {},
   "source": [
    "# 7.3. Correlation between year and emissions"
   ]
  },
  {
   "cell_type": "markdown",
   "id": "762d162d",
   "metadata": {},
   "source": [
    "# 8. Export"
   ]
  }
 ],
 "metadata": {
  "kernelspec": {
   "display_name": "Python 3.10.6 ('dabs_venv': venv)",
   "language": "python",
   "name": "python3"
  },
  "language_info": {
   "codemirror_mode": {
    "name": "ipython",
    "version": 3
   },
   "file_extension": ".py",
   "mimetype": "text/x-python",
   "name": "python",
   "nbconvert_exporter": "python",
   "pygments_lexer": "ipython3",
   "version": "3.10.6"
  },
  "vscode": {
   "interpreter": {
    "hash": "7e6d6e820f3581dac8fa172373a8b5335c82ce34cb10cbc3340c5ea72ba4335f"
   }
  }
 },
 "nbformat": 4,
 "nbformat_minor": 5
}
