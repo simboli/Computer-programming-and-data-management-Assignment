{
 "cells": [
  {
   "cell_type": "code",
   "execution_count": 1,
   "metadata": {},
   "outputs": [
    {
     "name": "stdout",
     "output_type": "stream",
     "text": [
      "12.VFE.csv : 21.613MB\n",
      "10.HFE.csv : 50.511MB\n",
      "03.EU27_emissions_proCapita.csv : 0.01MB\n",
      "01.EU27_emissions.csv : 0.029MB\n",
      "02.EU27_passengers.csv : 0.0MB\n"
     ]
    }
   ],
   "source": [
    "# import python modules\n",
    "import os\n",
    " \n",
    "# directory name from which\n",
    "# we are going to extract our files with its size\n",
    "path = \"02.Transformed data\"\n",
    " \n",
    "# Get list of all files only in the given directory\n",
    "fun = lambda x : os.path.isfile(os.path.join(path,x))\n",
    "files_list = filter(fun, os.listdir(path))\n",
    " \n",
    "# Create a list of files in directory along with the size\n",
    "size_of_file = [\n",
    "    (f,os.stat(os.path.join(path, f)).st_size)\n",
    "    for f in files_list\n",
    "]\n",
    "# Iterate over list of files along with size \n",
    "# and print them one by one.\n",
    "for f,s in size_of_file:\n",
    "    print(\"{} : {}MB\".format(f, round(s/(1024*1024),3)))"
   ]
  }
 ],
 "metadata": {
  "kernelspec": {
   "display_name": "Python 3.10.6 ('dabs_venv': venv)",
   "language": "python",
   "name": "python3"
  },
  "language_info": {
   "codemirror_mode": {
    "name": "ipython",
    "version": 3
   },
   "file_extension": ".py",
   "mimetype": "text/x-python",
   "name": "python",
   "nbconvert_exporter": "python",
   "pygments_lexer": "ipython3",
   "version": "3.10.6"
  },
  "orig_nbformat": 4,
  "vscode": {
   "interpreter": {
    "hash": "7e6d6e820f3581dac8fa172373a8b5335c82ce34cb10cbc3340c5ea72ba4335f"
   }
  }
 },
 "nbformat": 4,
 "nbformat_minor": 2
}
