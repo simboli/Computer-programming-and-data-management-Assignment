{
 "cells": [
  {
   "cell_type": "markdown",
   "id": "2c1c0e04",
   "metadata": {},
   "source": [
    "# Modules"
   ]
  },
  {
   "cell_type": "code",
   "execution_count": 2,
   "id": "e60cacdf",
   "metadata": {},
   "outputs": [],
   "source": [
    "import pandas as pd"
   ]
  },
  {
   "cell_type": "markdown",
   "id": "be3ca084",
   "metadata": {},
   "source": [
    "# Variables"
   ]
  },
  {
   "cell_type": "code",
   "execution_count": 3,
   "id": "abc6fe3a",
   "metadata": {},
   "outputs": [],
   "source": [
    "# National emissions reported to the Convention on Long-range Transboundary Air Pollution (LRTAP Convention), 2023\n",
    "# https://sdi.eea.europa.eu/catalogue/srv/eng/catalog.search#/metadata/2999364f-be52-4012-b4fd-f98e2cc8fab6\n",
    "ds_NatEmissions='01.Data/eea_t_lrtap-convention_p_1990-2021_v01_r00/CLRTAP_NVFR19_V23_1_GF_csv.csv'"
   ]
  },
  {
   "cell_type": "code",
   "execution_count": 4,
   "id": "827be790",
   "metadata": {},
   "outputs": [],
   "source": [
    "# National emissions reported to the UNFCCC and to the EU Greenhouse Gas Monitoring Mechanism, October 2023\n",
    "# https://sdi.eea.europa.eu/catalogue/srv/eng/catalog.search#/metadata/e2e7dd1e-0d67-4b20-a0d4-b22c53a59d24\n",
    "ds_UNFCCEmissions='01.Data/eea_t_national-emissions-reported_p_2023_v01_r01/UNFCCC_v26.csv'"
   ]
  },
  {
   "cell_type": "markdown",
   "id": "a48cbea2",
   "metadata": {},
   "source": [
    "# Load data"
   ]
  },
  {
   "cell_type": "code",
   "execution_count": 5,
   "id": "18a2c421",
   "metadata": {},
   "outputs": [],
   "source": [
    "df_NatEmissions=pd.read_csv(ds_NatEmissions,header=0,delimiter=\"\\t\", dtype='unicode')"
   ]
  },
  {
   "cell_type": "code",
   "execution_count": 6,
   "id": "148af7db",
   "metadata": {},
   "outputs": [
    {
     "data": {
      "text/html": [
       "<div>\n",
       "<style scoped>\n",
       "    .dataframe tbody tr th:only-of-type {\n",
       "        vertical-align: middle;\n",
       "    }\n",
       "\n",
       "    .dataframe tbody tr th {\n",
       "        vertical-align: top;\n",
       "    }\n",
       "\n",
       "    .dataframe thead th {\n",
       "        text-align: right;\n",
       "    }\n",
       "</style>\n",
       "<table border=\"1\" class=\"dataframe\">\n",
       "  <thead>\n",
       "    <tr style=\"text-align: right;\">\n",
       "      <th></th>\n",
       "      <th>Country_Code</th>\n",
       "      <th>Country</th>\n",
       "      <th>Pollutant_name</th>\n",
       "      <th>Format_name</th>\n",
       "      <th>Sector_code</th>\n",
       "      <th>Year</th>\n",
       "      <th>Emissions</th>\n",
       "      <th>Unit</th>\n",
       "      <th>Notation</th>\n",
       "      <th>VersionId</th>\n",
       "      <th>Parent_sector_code</th>\n",
       "      <th>Sector_name</th>\n",
       "    </tr>\n",
       "  </thead>\n",
       "  <tbody>\n",
       "    <tr>\n",
       "      <th>0</th>\n",
       "      <td>AT</td>\n",
       "      <td>Austria</td>\n",
       "      <td>As</td>\n",
       "      <td>NFR 2014-1</td>\n",
       "      <td>1A1a</td>\n",
       "      <td>1990</td>\n",
       "      <td>NaN</td>\n",
       "      <td>Mg</td>\n",
       "      <td>NaN</td>\n",
       "      <td>1</td>\n",
       "      <td>NATIONAL TOTAL</td>\n",
       "      <td>Public electricity and heat production</td>\n",
       "    </tr>\n",
       "    <tr>\n",
       "      <th>1</th>\n",
       "      <td>AT</td>\n",
       "      <td>Austria</td>\n",
       "      <td>As</td>\n",
       "      <td>NFR 2014-1</td>\n",
       "      <td>1A1b</td>\n",
       "      <td>1990</td>\n",
       "      <td>NaN</td>\n",
       "      <td>Mg</td>\n",
       "      <td>NaN</td>\n",
       "      <td>1</td>\n",
       "      <td>NATIONAL TOTAL</td>\n",
       "      <td>Petroleum refining</td>\n",
       "    </tr>\n",
       "    <tr>\n",
       "      <th>2</th>\n",
       "      <td>AT</td>\n",
       "      <td>Austria</td>\n",
       "      <td>As</td>\n",
       "      <td>NFR 2014-1</td>\n",
       "      <td>1A1c</td>\n",
       "      <td>1990</td>\n",
       "      <td>NaN</td>\n",
       "      <td>Mg</td>\n",
       "      <td>NaN</td>\n",
       "      <td>1</td>\n",
       "      <td>NATIONAL TOTAL</td>\n",
       "      <td>Manufacture of solid fuels and other energy in...</td>\n",
       "    </tr>\n",
       "    <tr>\n",
       "      <th>3</th>\n",
       "      <td>AT</td>\n",
       "      <td>Austria</td>\n",
       "      <td>As</td>\n",
       "      <td>NFR 2014-1</td>\n",
       "      <td>1A2a</td>\n",
       "      <td>1990</td>\n",
       "      <td>NaN</td>\n",
       "      <td>Mg</td>\n",
       "      <td>NaN</td>\n",
       "      <td>1</td>\n",
       "      <td>NATIONAL TOTAL</td>\n",
       "      <td>Stationary combustion in manufacturing industr...</td>\n",
       "    </tr>\n",
       "    <tr>\n",
       "      <th>4</th>\n",
       "      <td>AT</td>\n",
       "      <td>Austria</td>\n",
       "      <td>As</td>\n",
       "      <td>NFR 2014-1</td>\n",
       "      <td>1A2b</td>\n",
       "      <td>1990</td>\n",
       "      <td>NaN</td>\n",
       "      <td>Mg</td>\n",
       "      <td>NaN</td>\n",
       "      <td>1</td>\n",
       "      <td>NATIONAL TOTAL</td>\n",
       "      <td>Stationary combustion in manufacturing industr...</td>\n",
       "    </tr>\n",
       "  </tbody>\n",
       "</table>\n",
       "</div>"
      ],
      "text/plain": [
       "  Country_Code  Country Pollutant_name Format_name Sector_code  Year  \\\n",
       "0           AT  Austria             As  NFR 2014-1        1A1a  1990   \n",
       "1           AT  Austria             As  NFR 2014-1        1A1b  1990   \n",
       "2           AT  Austria             As  NFR 2014-1        1A1c  1990   \n",
       "3           AT  Austria             As  NFR 2014-1        1A2a  1990   \n",
       "4           AT  Austria             As  NFR 2014-1        1A2b  1990   \n",
       "\n",
       "  Emissions Unit Notation VersionId Parent_sector_code  \\\n",
       "0       NaN   Mg      NaN         1     NATIONAL TOTAL   \n",
       "1       NaN   Mg      NaN         1     NATIONAL TOTAL   \n",
       "2       NaN   Mg      NaN         1     NATIONAL TOTAL   \n",
       "3       NaN   Mg      NaN         1     NATIONAL TOTAL   \n",
       "4       NaN   Mg      NaN         1     NATIONAL TOTAL   \n",
       "\n",
       "                                         Sector_name  \n",
       "0             Public electricity and heat production  \n",
       "1                                 Petroleum refining  \n",
       "2  Manufacture of solid fuels and other energy in...  \n",
       "3  Stationary combustion in manufacturing industr...  \n",
       "4  Stationary combustion in manufacturing industr...  "
      ]
     },
     "execution_count": 6,
     "metadata": {},
     "output_type": "execute_result"
    }
   ],
   "source": [
    "df_NatEmissions.head()"
   ]
  },
  {
   "cell_type": "markdown",
   "id": "00c3c01a",
   "metadata": {},
   "source": [
    "Let's filter only emissions from domestic and international aviation."
   ]
  },
  {
   "cell_type": "code",
   "execution_count": 7,
   "id": "5dc7b552",
   "metadata": {},
   "outputs": [
    {
     "name": "stdout",
     "output_type": "stream",
     "text": [
      "International aviation LTO (civil)\n",
      "Domestic aviation LTO (civil)\n",
      "International aviation cruise (civil)\n",
      "Domestic aviation cruise (civil)\n"
     ]
    }
   ],
   "source": [
    "col=df_NatEmissions.Sector_name.unique()\n",
    "for i in col: \n",
    "    if type(i) is str:\n",
    "        if 'aviation' in i:\n",
    "            print(i)"
   ]
  },
  {
   "cell_type": "code",
   "execution_count": 8,
   "id": "e52e0b2c",
   "metadata": {},
   "outputs": [
    {
     "data": {
      "text/plain": [
       "array(['International aviation LTO (civil)',\n",
       "       'Domestic aviation LTO (civil)',\n",
       "       'International aviation cruise (civil)',\n",
       "       'Domestic aviation cruise (civil)'], dtype=object)"
      ]
     },
     "execution_count": 8,
     "metadata": {},
     "output_type": "execute_result"
    }
   ],
   "source": [
    "df_NatEmissions = df_NatEmissions[\n",
    "    (df_NatEmissions.Sector_name == 'International aviation LTO (civil)') |\n",
    "    (df_NatEmissions.Sector_name == 'Domestic aviation LTO (civil)') |\n",
    "    (df_NatEmissions.Sector_name == 'International aviation cruise (civil)') |\n",
    "    (df_NatEmissions.Sector_name == 'Domestic aviation cruise (civil)')]\n",
    "df_NatEmissions.Sector_name.unique()"
   ]
  },
  {
   "cell_type": "code",
   "execution_count": 9,
   "id": "65d84a53",
   "metadata": {},
   "outputs": [
    {
     "data": {
      "text/plain": [
       "(109824, 12)"
      ]
     },
     "execution_count": 9,
     "metadata": {},
     "output_type": "execute_result"
    }
   ],
   "source": [
    "df_NatEmissions.shape"
   ]
  },
  {
   "cell_type": "code",
   "execution_count": 10,
   "id": "6b466950",
   "metadata": {},
   "outputs": [],
   "source": [
    "def get_var_category(series):\n",
    "    unique_count = series.nunique(dropna=False)\n",
    "    total_count = len(series)\n",
    "    if pd.api.types.is_numeric_dtype(series):\n",
    "        return 'Numerical'\n",
    "    elif pd.api.types.is_datetime64_dtype(series):\n",
    "        return 'Date'\n",
    "    elif unique_count==total_count:\n",
    "        return 'Text (Unique)'\n",
    "    else:\n",
    "        return 'Categorical'\n",
    "\n",
    "def print_categories(df):\n",
    "    for column_name in df.columns:\n",
    "        print(column_name, \": \", get_var_category(df[column_name]))"
   ]
  },
  {
   "cell_type": "code",
   "execution_count": 11,
   "id": "29153de9",
   "metadata": {},
   "outputs": [
    {
     "name": "stdout",
     "output_type": "stream",
     "text": [
      "Country_Code :  Categorical\n",
      "Country :  Categorical\n",
      "Pollutant_name :  Categorical\n",
      "Format_name :  Categorical\n",
      "Sector_code :  Categorical\n",
      "Year :  Categorical\n",
      "Emissions :  Categorical\n",
      "Unit :  Categorical\n",
      "Notation :  Categorical\n",
      "VersionId :  Categorical\n",
      "Parent_sector_code :  Categorical\n",
      "Sector_name :  Categorical\n"
     ]
    }
   ],
   "source": [
    "print_categories(df_NatEmissions)"
   ]
  },
  {
   "cell_type": "code",
   "execution_count": 12,
   "id": "e2c6efd6",
   "metadata": {},
   "outputs": [
    {
     "name": "stdout",
     "output_type": "stream",
     "text": [
      "<class 'pandas.core.frame.DataFrame'>\n",
      "Index: 109824 entries, 11 to 3816372\n",
      "Data columns (total 12 columns):\n",
      " #   Column              Non-Null Count   Dtype \n",
      "---  ------              --------------   ----- \n",
      " 0   Country_Code        109824 non-null  object\n",
      " 1   Country             109824 non-null  object\n",
      " 2   Pollutant_name      109824 non-null  object\n",
      " 3   Format_name         109824 non-null  object\n",
      " 4   Sector_code         109824 non-null  object\n",
      " 5   Year                109824 non-null  object\n",
      " 6   Emissions           65639 non-null   object\n",
      " 7   Unit                109824 non-null  object\n",
      " 8   Notation            0 non-null       object\n",
      " 9   VersionId           109824 non-null  object\n",
      " 10  Parent_sector_code  55744 non-null   object\n",
      " 11  Sector_name         109824 non-null  object\n",
      "dtypes: object(12)\n",
      "memory usage: 10.9+ MB\n"
     ]
    }
   ],
   "source": [
    "df_NatEmissions.info()"
   ]
  },
  {
   "cell_type": "markdown",
   "id": "349d8403",
   "metadata": {},
   "source": [
    "We can see that the column `Emissions` have some null values, let focus this point."
   ]
  },
  {
   "cell_type": "code",
   "execution_count": 16,
   "id": "2c82caa4",
   "metadata": {},
   "outputs": [
    {
     "data": {
      "text/plain": [
       "array(['As', 'BC', 'benzo(a)', 'benzo(b)', 'benzo(k)', 'Cd', 'CO', 'Cr',\n",
       "       'Cu', 'dioxin', 'HCB', 'Hg', 'Indeno', 'NH3', 'Ni', 'NMVOC', 'NOx',\n",
       "       'Pb', 'PCB', 'PM10', 'PM2.5', 'Se', 'SOx', 'total PAH', 'TSP',\n",
       "       'Zn'], dtype=object)"
      ]
     },
     "execution_count": 16,
     "metadata": {},
     "output_type": "execute_result"
    }
   ],
   "source": [
    "df_NatEmissions.Pollutant_name.unique()"
   ]
  },
  {
   "cell_type": "code",
   "execution_count": 22,
   "id": "384865c6",
   "metadata": {},
   "outputs": [
    {
     "data": {
      "text/html": [
       "<div>\n",
       "<style scoped>\n",
       "    .dataframe tbody tr th:only-of-type {\n",
       "        vertical-align: middle;\n",
       "    }\n",
       "\n",
       "    .dataframe tbody tr th {\n",
       "        vertical-align: top;\n",
       "    }\n",
       "\n",
       "    .dataframe thead th {\n",
       "        text-align: right;\n",
       "    }\n",
       "</style>\n",
       "<table border=\"1\" class=\"dataframe\">\n",
       "  <thead>\n",
       "    <tr style=\"text-align: right;\">\n",
       "      <th></th>\n",
       "      <th>Country_Code</th>\n",
       "      <th>Country</th>\n",
       "      <th>Pollutant_name</th>\n",
       "      <th>Format_name</th>\n",
       "      <th>Sector_code</th>\n",
       "      <th>Year</th>\n",
       "      <th>Emissions</th>\n",
       "      <th>Unit</th>\n",
       "      <th>Notation</th>\n",
       "      <th>VersionId</th>\n",
       "      <th>Parent_sector_code</th>\n",
       "      <th>Sector_name</th>\n",
       "    </tr>\n",
       "  </thead>\n",
       "  <tbody>\n",
       "    <tr>\n",
       "      <th>880715</th>\n",
       "      <td>AT</td>\n",
       "      <td>Austria</td>\n",
       "      <td>CO</td>\n",
       "      <td>NFR 2014-1</td>\n",
       "      <td>1A3ai(i)</td>\n",
       "      <td>1990</td>\n",
       "      <td>0.546014734375045</td>\n",
       "      <td>Gg</td>\n",
       "      <td>NaN</td>\n",
       "      <td>1</td>\n",
       "      <td>NATIONAL TOTAL</td>\n",
       "      <td>International aviation LTO (civil)</td>\n",
       "    </tr>\n",
       "    <tr>\n",
       "      <th>880716</th>\n",
       "      <td>AT</td>\n",
       "      <td>Austria</td>\n",
       "      <td>CO</td>\n",
       "      <td>NFR 2014-1</td>\n",
       "      <td>1A3aii(i)</td>\n",
       "      <td>1990</td>\n",
       "      <td>2.01173854159798</td>\n",
       "      <td>Gg</td>\n",
       "      <td>NaN</td>\n",
       "      <td>1</td>\n",
       "      <td>NATIONAL TOTAL</td>\n",
       "      <td>Domestic aviation LTO (civil)</td>\n",
       "    </tr>\n",
       "    <tr>\n",
       "      <th>880834</th>\n",
       "      <td>AT</td>\n",
       "      <td>Austria</td>\n",
       "      <td>CO</td>\n",
       "      <td>NFR 2014-1</td>\n",
       "      <td>1A3ai(ii)</td>\n",
       "      <td>1990</td>\n",
       "      <td>0.371429201405631</td>\n",
       "      <td>Gg</td>\n",
       "      <td>NaN</td>\n",
       "      <td>1</td>\n",
       "      <td>NaN</td>\n",
       "      <td>International aviation cruise (civil)</td>\n",
       "    </tr>\n",
       "    <tr>\n",
       "      <th>880835</th>\n",
       "      <td>AT</td>\n",
       "      <td>Austria</td>\n",
       "      <td>CO</td>\n",
       "      <td>NFR 2014-1</td>\n",
       "      <td>1A3aii(ii)</td>\n",
       "      <td>1990</td>\n",
       "      <td>0.029021482170732</td>\n",
       "      <td>Gg</td>\n",
       "      <td>NaN</td>\n",
       "      <td>1</td>\n",
       "      <td>NaN</td>\n",
       "      <td>Domestic aviation cruise (civil)</td>\n",
       "    </tr>\n",
       "    <tr>\n",
       "      <th>880854</th>\n",
       "      <td>BE</td>\n",
       "      <td>Belgium</td>\n",
       "      <td>CO</td>\n",
       "      <td>NFR 2014-1</td>\n",
       "      <td>1A3ai(i)</td>\n",
       "      <td>1990</td>\n",
       "      <td>0.68220925196</td>\n",
       "      <td>Gg</td>\n",
       "      <td>NaN</td>\n",
       "      <td>1</td>\n",
       "      <td>NATIONAL TOTAL</td>\n",
       "      <td>International aviation LTO (civil)</td>\n",
       "    </tr>\n",
       "  </tbody>\n",
       "</table>\n",
       "</div>"
      ],
      "text/plain": [
       "       Country_Code  Country Pollutant_name Format_name Sector_code  Year  \\\n",
       "880715           AT  Austria             CO  NFR 2014-1    1A3ai(i)  1990   \n",
       "880716           AT  Austria             CO  NFR 2014-1   1A3aii(i)  1990   \n",
       "880834           AT  Austria             CO  NFR 2014-1   1A3ai(ii)  1990   \n",
       "880835           AT  Austria             CO  NFR 2014-1  1A3aii(ii)  1990   \n",
       "880854           BE  Belgium             CO  NFR 2014-1    1A3ai(i)  1990   \n",
       "\n",
       "                Emissions Unit Notation VersionId Parent_sector_code  \\\n",
       "880715  0.546014734375045   Gg      NaN         1     NATIONAL TOTAL   \n",
       "880716   2.01173854159798   Gg      NaN         1     NATIONAL TOTAL   \n",
       "880834  0.371429201405631   Gg      NaN         1                NaN   \n",
       "880835  0.029021482170732   Gg      NaN         1                NaN   \n",
       "880854      0.68220925196   Gg      NaN         1     NATIONAL TOTAL   \n",
       "\n",
       "                                  Sector_name  \n",
       "880715     International aviation LTO (civil)  \n",
       "880716          Domestic aviation LTO (civil)  \n",
       "880834  International aviation cruise (civil)  \n",
       "880835       Domestic aviation cruise (civil)  \n",
       "880854     International aviation LTO (civil)  "
      ]
     },
     "execution_count": 22,
     "metadata": {},
     "output_type": "execute_result"
    }
   ],
   "source": [
    "# Filter\n",
    "df_NatEmissions_CO = df_NatEmissions[df_NatEmissions.Pollutant_name == 'CO']\n",
    "df_NatEmissions_CO.head()"
   ]
  },
  {
   "cell_type": "code",
   "execution_count": 25,
   "id": "641671d3",
   "metadata": {},
   "outputs": [
    {
     "data": {
      "text/html": [
       "<div>\n",
       "<style scoped>\n",
       "    .dataframe tbody tr th:only-of-type {\n",
       "        vertical-align: middle;\n",
       "    }\n",
       "\n",
       "    .dataframe tbody tr th {\n",
       "        vertical-align: top;\n",
       "    }\n",
       "\n",
       "    .dataframe thead th {\n",
       "        text-align: right;\n",
       "    }\n",
       "</style>\n",
       "<table border=\"1\" class=\"dataframe\">\n",
       "  <thead>\n",
       "    <tr style=\"text-align: right;\">\n",
       "      <th></th>\n",
       "      <th>Country_Code</th>\n",
       "      <th>Pollutant_name</th>\n",
       "      <th>Year</th>\n",
       "      <th>Emissions</th>\n",
       "      <th>Unit</th>\n",
       "      <th>Sector_name</th>\n",
       "    </tr>\n",
       "  </thead>\n",
       "  <tbody>\n",
       "    <tr>\n",
       "      <th>880715</th>\n",
       "      <td>AT</td>\n",
       "      <td>CO</td>\n",
       "      <td>1990</td>\n",
       "      <td>0.546014734375045</td>\n",
       "      <td>Gg</td>\n",
       "      <td>International aviation LTO (civil)</td>\n",
       "    </tr>\n",
       "    <tr>\n",
       "      <th>880716</th>\n",
       "      <td>AT</td>\n",
       "      <td>CO</td>\n",
       "      <td>1990</td>\n",
       "      <td>2.01173854159798</td>\n",
       "      <td>Gg</td>\n",
       "      <td>Domestic aviation LTO (civil)</td>\n",
       "    </tr>\n",
       "    <tr>\n",
       "      <th>880834</th>\n",
       "      <td>AT</td>\n",
       "      <td>CO</td>\n",
       "      <td>1990</td>\n",
       "      <td>0.371429201405631</td>\n",
       "      <td>Gg</td>\n",
       "      <td>International aviation cruise (civil)</td>\n",
       "    </tr>\n",
       "    <tr>\n",
       "      <th>880835</th>\n",
       "      <td>AT</td>\n",
       "      <td>CO</td>\n",
       "      <td>1990</td>\n",
       "      <td>0.029021482170732</td>\n",
       "      <td>Gg</td>\n",
       "      <td>Domestic aviation cruise (civil)</td>\n",
       "    </tr>\n",
       "    <tr>\n",
       "      <th>880854</th>\n",
       "      <td>BE</td>\n",
       "      <td>CO</td>\n",
       "      <td>1990</td>\n",
       "      <td>0.68220925196</td>\n",
       "      <td>Gg</td>\n",
       "      <td>International aviation LTO (civil)</td>\n",
       "    </tr>\n",
       "  </tbody>\n",
       "</table>\n",
       "</div>"
      ],
      "text/plain": [
       "       Country_Code Pollutant_name  Year          Emissions Unit  \\\n",
       "880715           AT             CO  1990  0.546014734375045   Gg   \n",
       "880716           AT             CO  1990   2.01173854159798   Gg   \n",
       "880834           AT             CO  1990  0.371429201405631   Gg   \n",
       "880835           AT             CO  1990  0.029021482170732   Gg   \n",
       "880854           BE             CO  1990      0.68220925196   Gg   \n",
       "\n",
       "                                  Sector_name  \n",
       "880715     International aviation LTO (civil)  \n",
       "880716          Domestic aviation LTO (civil)  \n",
       "880834  International aviation cruise (civil)  \n",
       "880835       Domestic aviation cruise (civil)  \n",
       "880854     International aviation LTO (civil)  "
      ]
     },
     "execution_count": 25,
     "metadata": {},
     "output_type": "execute_result"
    }
   ],
   "source": [
    "# Select only useful columns\n",
    "df_NatEmissions_CO=df_NatEmissions_CO[['Country_Code','Pollutant_name','Year','Emissions','Unit','Sector_name']]\n",
    "df_NatEmissions_CO.head()"
   ]
  },
  {
   "cell_type": "code",
   "execution_count": 26,
   "id": "bde5688b",
   "metadata": {},
   "outputs": [
    {
     "data": {
      "text/plain": [
       "Country_Code        0\n",
       "Pollutant_name      0\n",
       "Year                0\n",
       "Emissions         334\n",
       "Unit                0\n",
       "Sector_name         0\n",
       "dtype: int64"
      ]
     },
     "execution_count": 26,
     "metadata": {},
     "output_type": "execute_result"
    }
   ],
   "source": [
    "# Show null values per each column\n",
    "df_NatEmissions_CO.isna().sum()"
   ]
  },
  {
   "cell_type": "code",
   "execution_count": 36,
   "id": "87961c4e",
   "metadata": {},
   "outputs": [],
   "source": [
    "# These Country has some missiong values on Emissions column\n",
    "df_NatEmissions_CO_remove=df_NatEmissions_CO[df_NatEmissions_CO.Emissions.isnull()].Country_Code.unique()"
   ]
  },
  {
   "cell_type": "code",
   "execution_count": 43,
   "id": "0ed1142d",
   "metadata": {},
   "outputs": [],
   "source": [
    "df_NatEmissions_CO=df_NatEmissions_CO[~df_NatEmissions_CO.Country_Code.isin(df_NatEmissions_CO_remove)]"
   ]
  },
  {
   "cell_type": "code",
   "execution_count": 44,
   "id": "765be452",
   "metadata": {},
   "outputs": [
    {
     "data": {
      "text/plain": [
       "Country_Code      0\n",
       "Pollutant_name    0\n",
       "Year              0\n",
       "Emissions         0\n",
       "Unit              0\n",
       "Sector_name       0\n",
       "dtype: int64"
      ]
     },
     "execution_count": 44,
     "metadata": {},
     "output_type": "execute_result"
    }
   ],
   "source": [
    "df_NatEmissions_CO.isna().sum()"
   ]
  },
  {
   "cell_type": "code",
   "execution_count": 46,
   "id": "a6826898",
   "metadata": {},
   "outputs": [
    {
     "data": {
      "text/html": [
       "<div>\n",
       "<style scoped>\n",
       "    .dataframe tbody tr th:only-of-type {\n",
       "        vertical-align: middle;\n",
       "    }\n",
       "\n",
       "    .dataframe tbody tr th {\n",
       "        vertical-align: top;\n",
       "    }\n",
       "\n",
       "    .dataframe thead th {\n",
       "        text-align: right;\n",
       "    }\n",
       "</style>\n",
       "<table border=\"1\" class=\"dataframe\">\n",
       "  <thead>\n",
       "    <tr style=\"text-align: right;\">\n",
       "      <th></th>\n",
       "      <th>Country_Code</th>\n",
       "      <th>Pollutant_name</th>\n",
       "      <th>Year</th>\n",
       "      <th>Emissions</th>\n",
       "      <th>Unit</th>\n",
       "      <th>Sector_name</th>\n",
       "    </tr>\n",
       "  </thead>\n",
       "  <tbody>\n",
       "    <tr>\n",
       "      <th>880715</th>\n",
       "      <td>AT</td>\n",
       "      <td>CO</td>\n",
       "      <td>1990</td>\n",
       "      <td>0.546014734375045</td>\n",
       "      <td>Gg</td>\n",
       "      <td>International aviation LTO (civil)</td>\n",
       "    </tr>\n",
       "    <tr>\n",
       "      <th>880716</th>\n",
       "      <td>AT</td>\n",
       "      <td>CO</td>\n",
       "      <td>1990</td>\n",
       "      <td>2.01173854159798</td>\n",
       "      <td>Gg</td>\n",
       "      <td>Domestic aviation LTO (civil)</td>\n",
       "    </tr>\n",
       "    <tr>\n",
       "      <th>880834</th>\n",
       "      <td>AT</td>\n",
       "      <td>CO</td>\n",
       "      <td>1990</td>\n",
       "      <td>0.371429201405631</td>\n",
       "      <td>Gg</td>\n",
       "      <td>International aviation cruise (civil)</td>\n",
       "    </tr>\n",
       "    <tr>\n",
       "      <th>880835</th>\n",
       "      <td>AT</td>\n",
       "      <td>CO</td>\n",
       "      <td>1990</td>\n",
       "      <td>0.029021482170732</td>\n",
       "      <td>Gg</td>\n",
       "      <td>Domestic aviation cruise (civil)</td>\n",
       "    </tr>\n",
       "    <tr>\n",
       "      <th>880854</th>\n",
       "      <td>BE</td>\n",
       "      <td>CO</td>\n",
       "      <td>1990</td>\n",
       "      <td>0.68220925196</td>\n",
       "      <td>Gg</td>\n",
       "      <td>International aviation LTO (civil)</td>\n",
       "    </tr>\n",
       "  </tbody>\n",
       "</table>\n",
       "</div>"
      ],
      "text/plain": [
       "       Country_Code Pollutant_name  Year          Emissions Unit  \\\n",
       "880715           AT             CO  1990  0.546014734375045   Gg   \n",
       "880716           AT             CO  1990   2.01173854159798   Gg   \n",
       "880834           AT             CO  1990  0.371429201405631   Gg   \n",
       "880835           AT             CO  1990  0.029021482170732   Gg   \n",
       "880854           BE             CO  1990      0.68220925196   Gg   \n",
       "\n",
       "                                  Sector_name  \n",
       "880715     International aviation LTO (civil)  \n",
       "880716          Domestic aviation LTO (civil)  \n",
       "880834  International aviation cruise (civil)  \n",
       "880835       Domestic aviation cruise (civil)  \n",
       "880854     International aviation LTO (civil)  "
      ]
     },
     "execution_count": 46,
     "metadata": {},
     "output_type": "execute_result"
    }
   ],
   "source": [
    "df_NatEmissions_CO.head()"
   ]
  },
  {
   "cell_type": "code",
   "execution_count": null,
   "id": "e32bd1c3",
   "metadata": {},
   "outputs": [],
   "source": []
  },
  {
   "cell_type": "code",
   "execution_count": null,
   "id": "a078cc2a",
   "metadata": {},
   "outputs": [],
   "source": []
  },
  {
   "cell_type": "code",
   "execution_count": null,
   "id": "6873d6f7",
   "metadata": {},
   "outputs": [],
   "source": []
  },
  {
   "cell_type": "code",
   "execution_count": null,
   "id": "a0aaebf9",
   "metadata": {},
   "outputs": [],
   "source": []
  },
  {
   "cell_type": "code",
   "execution_count": null,
   "id": "2a8d2772",
   "metadata": {},
   "outputs": [],
   "source": []
  },
  {
   "cell_type": "code",
   "execution_count": null,
   "id": "dc47a987",
   "metadata": {},
   "outputs": [],
   "source": []
  },
  {
   "cell_type": "code",
   "execution_count": null,
   "id": "266b1147",
   "metadata": {},
   "outputs": [],
   "source": []
  },
  {
   "cell_type": "code",
   "execution_count": null,
   "id": "ce7be7e4",
   "metadata": {},
   "outputs": [],
   "source": []
  },
  {
   "cell_type": "code",
   "execution_count": null,
   "id": "994d871d",
   "metadata": {},
   "outputs": [],
   "source": []
  },
  {
   "cell_type": "code",
   "execution_count": null,
   "id": "eb378eb2",
   "metadata": {},
   "outputs": [],
   "source": []
  },
  {
   "cell_type": "code",
   "execution_count": null,
   "id": "af0e5c7d",
   "metadata": {},
   "outputs": [],
   "source": []
  },
  {
   "cell_type": "code",
   "execution_count": null,
   "id": "7991c92a",
   "metadata": {},
   "outputs": [],
   "source": []
  },
  {
   "cell_type": "code",
   "execution_count": null,
   "id": "4f874899",
   "metadata": {},
   "outputs": [],
   "source": []
  },
  {
   "cell_type": "code",
   "execution_count": null,
   "id": "0641cb78",
   "metadata": {},
   "outputs": [],
   "source": []
  },
  {
   "cell_type": "code",
   "execution_count": null,
   "id": "649a1145",
   "metadata": {},
   "outputs": [],
   "source": []
  },
  {
   "cell_type": "code",
   "execution_count": null,
   "id": "ba65deb9",
   "metadata": {},
   "outputs": [],
   "source": []
  },
  {
   "cell_type": "code",
   "execution_count": null,
   "id": "abf0d8b8",
   "metadata": {},
   "outputs": [],
   "source": [
    "df_NatEmissions1 = df_NatEmissions[df_NatEmissions.Pollutant_name == 'CO']"
   ]
  },
  {
   "cell_type": "code",
   "execution_count": null,
   "id": "769dc029",
   "metadata": {},
   "outputs": [],
   "source": [
    "#AND\n",
    "df_NatEmissions2=df_NatEmissions[(df_NatEmissions.Pollutant_name == 'CO') & (df_NatEmissions.Sector_name == 'International aviation LTO (civil)')]\n",
    "#OR\n",
    "df_NatEmissions3=df_NatEmissions[(df_NatEmissions.Pollutant_name == 'CO') | (df_NatEmissions.Sector_name == 'International aviation LTO (civil)')]"
   ]
  },
  {
   "cell_type": "code",
   "execution_count": null,
   "id": "7a3bbbba",
   "metadata": {},
   "outputs": [],
   "source": [
    "#df_NatEmissions3.Pollutant_name.unique()\n",
    "df_NatEmissions3.Sector_name.unique()"
   ]
  },
  {
   "cell_type": "code",
   "execution_count": null,
   "id": "66e8d633",
   "metadata": {},
   "outputs": [],
   "source": []
  },
  {
   "cell_type": "code",
   "execution_count": null,
   "id": "2be29ccd",
   "metadata": {},
   "outputs": [],
   "source": []
  },
  {
   "cell_type": "code",
   "execution_count": null,
   "id": "9f88ff91",
   "metadata": {},
   "outputs": [],
   "source": []
  },
  {
   "cell_type": "code",
   "execution_count": null,
   "id": "3bcfd7e7",
   "metadata": {},
   "outputs": [],
   "source": []
  },
  {
   "cell_type": "code",
   "execution_count": null,
   "id": "9d796705",
   "metadata": {},
   "outputs": [],
   "source": [
    "input_data=pd.read_csv(ds_UNFCCEmissions,header=0, dtype='unicode')"
   ]
  },
  {
   "cell_type": "code",
   "execution_count": null,
   "id": "e53a8e8e",
   "metadata": {},
   "outputs": [],
   "source": [
    "input_data.head()"
   ]
  },
  {
   "cell_type": "code",
   "execution_count": null,
   "id": "b34c4bc5",
   "metadata": {},
   "outputs": [],
   "source": [
    "input_data.size"
   ]
  }
 ],
 "metadata": {
  "kernelspec": {
   "display_name": "Python 3.10.6 ('dabs_venv': venv)",
   "language": "python",
   "name": "python3"
  },
  "language_info": {
   "codemirror_mode": {
    "name": "ipython",
    "version": 3
   },
   "file_extension": ".py",
   "mimetype": "text/x-python",
   "name": "python",
   "nbconvert_exporter": "python",
   "pygments_lexer": "ipython3",
   "version": "3.10.6"
  },
  "vscode": {
   "interpreter": {
    "hash": "7e6d6e820f3581dac8fa172373a8b5335c82ce34cb10cbc3340c5ea72ba4335f"
   }
  }
 },
 "nbformat": 4,
 "nbformat_minor": 5
}
