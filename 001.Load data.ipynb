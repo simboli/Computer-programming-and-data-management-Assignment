{
 "cells": [
  {
   "cell_type": "markdown",
   "id": "2c1c0e04",
   "metadata": {},
   "source": [
    "# Modules"
   ]
  },
  {
   "cell_type": "code",
   "execution_count": 1,
   "id": "e60cacdf",
   "metadata": {},
   "outputs": [],
   "source": [
    "import pandas as pd"
   ]
  },
  {
   "cell_type": "markdown",
   "id": "be3ca084",
   "metadata": {},
   "source": [
    "# Variables"
   ]
  },
  {
   "cell_type": "code",
   "execution_count": 2,
   "id": "abc6fe3a",
   "metadata": {},
   "outputs": [],
   "source": [
    "# National emissions reported to the Convention on Long-range Transboundary Air Pollution (LRTAP Convention), 2023\n",
    "# https://sdi.eea.europa.eu/catalogue/srv/eng/catalog.search#/metadata/2999364f-be52-4012-b4fd-f98e2cc8fab6\n",
    "ds_NatEmissions='01.Data/eea_t_lrtap-convention_p_1990-2021_v01_r00/CLRTAP_NVFR19_V23_1_GF_csv.csv'"
   ]
  },
  {
   "cell_type": "code",
   "execution_count": 3,
   "id": "827be790",
   "metadata": {},
   "outputs": [],
   "source": [
    "# National emissions reported to the UNFCCC and to the EU Greenhouse Gas Monitoring Mechanism, October 2023\n",
    "# https://sdi.eea.europa.eu/catalogue/srv/eng/catalog.search#/metadata/e2e7dd1e-0d67-4b20-a0d4-b22c53a59d24\n",
    "ds_UNFCCEmissions='01.Data/eea_t_national-emissions-reported_p_2023_v01_r01/UNFCCC_v26.csv'"
   ]
  },
  {
   "cell_type": "markdown",
   "id": "a48cbea2",
   "metadata": {},
   "source": [
    "# Load data"
   ]
  },
  {
   "cell_type": "code",
   "execution_count": 4,
   "id": "18a2c421",
   "metadata": {},
   "outputs": [],
   "source": [
    "df_NatEmissions=pd.read_csv(ds_NatEmissions,header=0,delimiter=\"\\t\", dtype='unicode')"
   ]
  },
  {
   "cell_type": "code",
   "execution_count": 5,
   "id": "148af7db",
   "metadata": {},
   "outputs": [
    {
     "data": {
      "text/html": [
       "<div>\n",
       "<style scoped>\n",
       "    .dataframe tbody tr th:only-of-type {\n",
       "        vertical-align: middle;\n",
       "    }\n",
       "\n",
       "    .dataframe tbody tr th {\n",
       "        vertical-align: top;\n",
       "    }\n",
       "\n",
       "    .dataframe thead th {\n",
       "        text-align: right;\n",
       "    }\n",
       "</style>\n",
       "<table border=\"1\" class=\"dataframe\">\n",
       "  <thead>\n",
       "    <tr style=\"text-align: right;\">\n",
       "      <th></th>\n",
       "      <th>Country_Code</th>\n",
       "      <th>Country</th>\n",
       "      <th>Pollutant_name</th>\n",
       "      <th>Format_name</th>\n",
       "      <th>Sector_code</th>\n",
       "      <th>Year</th>\n",
       "      <th>Emissions</th>\n",
       "      <th>Unit</th>\n",
       "      <th>Notation</th>\n",
       "      <th>VersionId</th>\n",
       "      <th>Parent_sector_code</th>\n",
       "      <th>Sector_name</th>\n",
       "    </tr>\n",
       "  </thead>\n",
       "  <tbody>\n",
       "    <tr>\n",
       "      <th>0</th>\n",
       "      <td>AT</td>\n",
       "      <td>Austria</td>\n",
       "      <td>As</td>\n",
       "      <td>NFR 2014-1</td>\n",
       "      <td>1A1a</td>\n",
       "      <td>1990</td>\n",
       "      <td>NaN</td>\n",
       "      <td>Mg</td>\n",
       "      <td>NaN</td>\n",
       "      <td>1</td>\n",
       "      <td>NATIONAL TOTAL</td>\n",
       "      <td>Public electricity and heat production</td>\n",
       "    </tr>\n",
       "    <tr>\n",
       "      <th>1</th>\n",
       "      <td>AT</td>\n",
       "      <td>Austria</td>\n",
       "      <td>As</td>\n",
       "      <td>NFR 2014-1</td>\n",
       "      <td>1A1b</td>\n",
       "      <td>1990</td>\n",
       "      <td>NaN</td>\n",
       "      <td>Mg</td>\n",
       "      <td>NaN</td>\n",
       "      <td>1</td>\n",
       "      <td>NATIONAL TOTAL</td>\n",
       "      <td>Petroleum refining</td>\n",
       "    </tr>\n",
       "    <tr>\n",
       "      <th>2</th>\n",
       "      <td>AT</td>\n",
       "      <td>Austria</td>\n",
       "      <td>As</td>\n",
       "      <td>NFR 2014-1</td>\n",
       "      <td>1A1c</td>\n",
       "      <td>1990</td>\n",
       "      <td>NaN</td>\n",
       "      <td>Mg</td>\n",
       "      <td>NaN</td>\n",
       "      <td>1</td>\n",
       "      <td>NATIONAL TOTAL</td>\n",
       "      <td>Manufacture of solid fuels and other energy in...</td>\n",
       "    </tr>\n",
       "    <tr>\n",
       "      <th>3</th>\n",
       "      <td>AT</td>\n",
       "      <td>Austria</td>\n",
       "      <td>As</td>\n",
       "      <td>NFR 2014-1</td>\n",
       "      <td>1A2a</td>\n",
       "      <td>1990</td>\n",
       "      <td>NaN</td>\n",
       "      <td>Mg</td>\n",
       "      <td>NaN</td>\n",
       "      <td>1</td>\n",
       "      <td>NATIONAL TOTAL</td>\n",
       "      <td>Stationary combustion in manufacturing industr...</td>\n",
       "    </tr>\n",
       "    <tr>\n",
       "      <th>4</th>\n",
       "      <td>AT</td>\n",
       "      <td>Austria</td>\n",
       "      <td>As</td>\n",
       "      <td>NFR 2014-1</td>\n",
       "      <td>1A2b</td>\n",
       "      <td>1990</td>\n",
       "      <td>NaN</td>\n",
       "      <td>Mg</td>\n",
       "      <td>NaN</td>\n",
       "      <td>1</td>\n",
       "      <td>NATIONAL TOTAL</td>\n",
       "      <td>Stationary combustion in manufacturing industr...</td>\n",
       "    </tr>\n",
       "  </tbody>\n",
       "</table>\n",
       "</div>"
      ],
      "text/plain": [
       "  Country_Code  Country Pollutant_name Format_name Sector_code  Year  \\\n",
       "0           AT  Austria             As  NFR 2014-1        1A1a  1990   \n",
       "1           AT  Austria             As  NFR 2014-1        1A1b  1990   \n",
       "2           AT  Austria             As  NFR 2014-1        1A1c  1990   \n",
       "3           AT  Austria             As  NFR 2014-1        1A2a  1990   \n",
       "4           AT  Austria             As  NFR 2014-1        1A2b  1990   \n",
       "\n",
       "  Emissions Unit Notation VersionId Parent_sector_code  \\\n",
       "0       NaN   Mg      NaN         1     NATIONAL TOTAL   \n",
       "1       NaN   Mg      NaN         1     NATIONAL TOTAL   \n",
       "2       NaN   Mg      NaN         1     NATIONAL TOTAL   \n",
       "3       NaN   Mg      NaN         1     NATIONAL TOTAL   \n",
       "4       NaN   Mg      NaN         1     NATIONAL TOTAL   \n",
       "\n",
       "                                         Sector_name  \n",
       "0             Public electricity and heat production  \n",
       "1                                 Petroleum refining  \n",
       "2  Manufacture of solid fuels and other energy in...  \n",
       "3  Stationary combustion in manufacturing industr...  \n",
       "4  Stationary combustion in manufacturing industr...  "
      ]
     },
     "execution_count": 5,
     "metadata": {},
     "output_type": "execute_result"
    }
   ],
   "source": [
    "df_NatEmissions.head()"
   ]
  },
  {
   "cell_type": "markdown",
   "id": "00c3c01a",
   "metadata": {},
   "source": [
    "Let's filter only emissions from domestic and international aviation."
   ]
  },
  {
   "cell_type": "code",
   "execution_count": 15,
   "id": "5dc7b552",
   "metadata": {},
   "outputs": [
    {
     "name": "stdout",
     "output_type": "stream",
     "text": [
      "International aviation LTO (civil)\n",
      "Domestic aviation LTO (civil)\n",
      "International aviation cruise (civil)\n",
      "Domestic aviation cruise (civil)\n"
     ]
    }
   ],
   "source": [
    "col=df_NatEmissions.Sector_name.unique()\n",
    "for i in col: \n",
    "    if type(i) is str:\n",
    "        if 'aviation' in i:\n",
    "            print(i)"
   ]
  },
  {
   "cell_type": "code",
   "execution_count": 18,
   "id": "e52e0b2c",
   "metadata": {},
   "outputs": [
    {
     "data": {
      "text/plain": [
       "array(['International aviation LTO (civil)',\n",
       "       'Domestic aviation LTO (civil)',\n",
       "       'International aviation cruise (civil)',\n",
       "       'Domestic aviation cruise (civil)'], dtype=object)"
      ]
     },
     "execution_count": 18,
     "metadata": {},
     "output_type": "execute_result"
    }
   ],
   "source": [
    "df_NatEmissions = df_NatEmissions[\n",
    "    (df_NatEmissions.Sector_name == 'International aviation LTO (civil)') |\n",
    "    (df_NatEmissions.Sector_name == 'Domestic aviation LTO (civil)') |\n",
    "    (df_NatEmissions.Sector_name == 'International aviation cruise (civil)') |\n",
    "    (df_NatEmissions.Sector_name == 'Domestic aviation cruise (civil)')]\n",
    "df_NatEmissions.Sector_name.unique()"
   ]
  },
  {
   "cell_type": "code",
   "execution_count": 20,
   "id": "65d84a53",
   "metadata": {},
   "outputs": [
    {
     "data": {
      "text/plain": [
       "(109824, 12)"
      ]
     },
     "execution_count": 20,
     "metadata": {},
     "output_type": "execute_result"
    }
   ],
   "source": [
    "df_NatEmissions.shape"
   ]
  },
  {
   "cell_type": "code",
   "execution_count": 29,
   "id": "6b466950",
   "metadata": {},
   "outputs": [],
   "source": [
    "def get_var_category(series):\n",
    "    unique_count = series.nunique(dropna=False)\n",
    "    total_count = len(series)\n",
    "    if pd.api.types.is_numeric_dtype(series):\n",
    "        return 'Numerical'\n",
    "    elif pd.api.types.is_datetime64_dtype(series):\n",
    "        return 'Date'\n",
    "    elif unique_count==total_count:\n",
    "        return 'Text (Unique)'\n",
    "    else:\n",
    "        return 'Categorical'\n",
    "\n",
    "def print_categories(df):\n",
    "    for column_name in df.columns:\n",
    "        print(column_name, \": \", get_var_category(df[column_name]))"
   ]
  },
  {
   "cell_type": "code",
   "execution_count": 30,
   "id": "29153de9",
   "metadata": {},
   "outputs": [
    {
     "name": "stdout",
     "output_type": "stream",
     "text": [
      "Country_Code :  Categorical\n",
      "Country :  Categorical\n",
      "Pollutant_name :  Categorical\n",
      "Format_name :  Categorical\n",
      "Sector_code :  Categorical\n",
      "Year :  Categorical\n",
      "Emissions :  Categorical\n",
      "Unit :  Categorical\n",
      "Notation :  Categorical\n",
      "VersionId :  Categorical\n",
      "Parent_sector_code :  Categorical\n",
      "Sector_name :  Categorical\n"
     ]
    }
   ],
   "source": [
    "print_categories(df_NatEmissions)"
   ]
  },
  {
   "cell_type": "code",
   "execution_count": 23,
   "id": "e2c6efd6",
   "metadata": {},
   "outputs": [
    {
     "name": "stdout",
     "output_type": "stream",
     "text": [
      "<class 'pandas.core.frame.DataFrame'>\n",
      "Index: 109824 entries, 11 to 3816372\n",
      "Data columns (total 12 columns):\n",
      " #   Column              Non-Null Count   Dtype \n",
      "---  ------              --------------   ----- \n",
      " 0   Country_Code        109824 non-null  object\n",
      " 1   Country             109824 non-null  object\n",
      " 2   Pollutant_name      109824 non-null  object\n",
      " 3   Format_name         109824 non-null  object\n",
      " 4   Sector_code         109824 non-null  object\n",
      " 5   Year                109824 non-null  object\n",
      " 6   Emissions           65639 non-null   object\n",
      " 7   Unit                109824 non-null  object\n",
      " 8   Notation            0 non-null       object\n",
      " 9   VersionId           109824 non-null  object\n",
      " 10  Parent_sector_code  55744 non-null   object\n",
      " 11  Sector_name         109824 non-null  object\n",
      "dtypes: object(12)\n",
      "memory usage: 10.9+ MB\n"
     ]
    }
   ],
   "source": [
    "df_NatEmissions.info()"
   ]
  },
  {
   "cell_type": "markdown",
   "id": "349d8403",
   "metadata": {},
   "source": [
    "We can see that the column `Emissions` have some null values, let focus this point."
   ]
  },
  {
   "cell_type": "code",
   "execution_count": 28,
   "id": "384865c6",
   "metadata": {},
   "outputs": [
    {
     "data": {
      "text/plain": [
       "array([nan], dtype=object)"
      ]
     },
     "execution_count": 28,
     "metadata": {},
     "output_type": "execute_result"
    }
   ],
   "source": [
    "df_NatEmissions[df_NatEmissions.Emissions.isnull()]"
   ]
  },
  {
   "cell_type": "code",
   "execution_count": null,
   "id": "641671d3",
   "metadata": {},
   "outputs": [],
   "source": []
  },
  {
   "cell_type": "code",
   "execution_count": 24,
   "id": "a1a28abf",
   "metadata": {},
   "outputs": [
    {
     "data": {
      "text/html": [
       "<div>\n",
       "<style scoped>\n",
       "    .dataframe tbody tr th:only-of-type {\n",
       "        vertical-align: middle;\n",
       "    }\n",
       "\n",
       "    .dataframe tbody tr th {\n",
       "        vertical-align: top;\n",
       "    }\n",
       "\n",
       "    .dataframe thead th {\n",
       "        text-align: right;\n",
       "    }\n",
       "</style>\n",
       "<table border=\"1\" class=\"dataframe\">\n",
       "  <thead>\n",
       "    <tr style=\"text-align: right;\">\n",
       "      <th></th>\n",
       "      <th>Country_Code</th>\n",
       "      <th>Country</th>\n",
       "      <th>Pollutant_name</th>\n",
       "      <th>Format_name</th>\n",
       "      <th>Sector_code</th>\n",
       "      <th>Year</th>\n",
       "      <th>Emissions</th>\n",
       "      <th>Unit</th>\n",
       "      <th>Notation</th>\n",
       "      <th>VersionId</th>\n",
       "      <th>Parent_sector_code</th>\n",
       "      <th>Sector_name</th>\n",
       "    </tr>\n",
       "  </thead>\n",
       "  <tbody>\n",
       "    <tr>\n",
       "      <th>count</th>\n",
       "      <td>109824</td>\n",
       "      <td>109824</td>\n",
       "      <td>109824</td>\n",
       "      <td>109824</td>\n",
       "      <td>109824</td>\n",
       "      <td>109824</td>\n",
       "      <td>65639</td>\n",
       "      <td>109824</td>\n",
       "      <td>0</td>\n",
       "      <td>109824</td>\n",
       "      <td>55744</td>\n",
       "      <td>109824</td>\n",
       "    </tr>\n",
       "    <tr>\n",
       "      <th>unique</th>\n",
       "      <td>33</td>\n",
       "      <td>34</td>\n",
       "      <td>26</td>\n",
       "      <td>1</td>\n",
       "      <td>4</td>\n",
       "      <td>32</td>\n",
       "      <td>39595</td>\n",
       "      <td>4</td>\n",
       "      <td>0</td>\n",
       "      <td>1</td>\n",
       "      <td>1</td>\n",
       "      <td>4</td>\n",
       "    </tr>\n",
       "    <tr>\n",
       "      <th>top</th>\n",
       "      <td>AT</td>\n",
       "      <td>Austria</td>\n",
       "      <td>As</td>\n",
       "      <td>NFR 2014-1</td>\n",
       "      <td>1A3ai(i)</td>\n",
       "      <td>1990</td>\n",
       "      <td>0</td>\n",
       "      <td>Mg</td>\n",
       "      <td>NaN</td>\n",
       "      <td>1</td>\n",
       "      <td>NATIONAL TOTAL</td>\n",
       "      <td>International aviation LTO (civil)</td>\n",
       "    </tr>\n",
       "    <tr>\n",
       "      <th>freq</th>\n",
       "      <td>3328</td>\n",
       "      <td>3328</td>\n",
       "      <td>4224</td>\n",
       "      <td>109824</td>\n",
       "      <td>27456</td>\n",
       "      <td>3432</td>\n",
       "      <td>17129</td>\n",
       "      <td>59136</td>\n",
       "      <td>NaN</td>\n",
       "      <td>109824</td>\n",
       "      <td>55744</td>\n",
       "      <td>27456</td>\n",
       "    </tr>\n",
       "  </tbody>\n",
       "</table>\n",
       "</div>"
      ],
      "text/plain": [
       "       Country_Code  Country Pollutant_name Format_name Sector_code    Year  \\\n",
       "count        109824   109824         109824      109824      109824  109824   \n",
       "unique           33       34             26           1           4      32   \n",
       "top              AT  Austria             As  NFR 2014-1    1A3ai(i)    1990   \n",
       "freq           3328     3328           4224      109824       27456    3432   \n",
       "\n",
       "       Emissions    Unit Notation VersionId Parent_sector_code  \\\n",
       "count      65639  109824        0    109824              55744   \n",
       "unique     39595       4        0         1                  1   \n",
       "top            0      Mg      NaN         1     NATIONAL TOTAL   \n",
       "freq       17129   59136      NaN    109824              55744   \n",
       "\n",
       "                               Sector_name  \n",
       "count                               109824  \n",
       "unique                                   4  \n",
       "top     International aviation LTO (civil)  \n",
       "freq                                 27456  "
      ]
     },
     "execution_count": 24,
     "metadata": {},
     "output_type": "execute_result"
    }
   ],
   "source": [
    "df_NatEmissions.describe()"
   ]
  },
  {
   "cell_type": "code",
   "execution_count": null,
   "id": "bde5688b",
   "metadata": {},
   "outputs": [],
   "source": []
  },
  {
   "cell_type": "code",
   "execution_count": null,
   "id": "87961c4e",
   "metadata": {},
   "outputs": [],
   "source": []
  },
  {
   "cell_type": "code",
   "execution_count": null,
   "id": "0ed1142d",
   "metadata": {},
   "outputs": [],
   "source": []
  },
  {
   "cell_type": "code",
   "execution_count": null,
   "id": "765be452",
   "metadata": {},
   "outputs": [],
   "source": []
  },
  {
   "cell_type": "code",
   "execution_count": 25,
   "id": "a6826898",
   "metadata": {},
   "outputs": [
    {
     "data": {
      "text/plain": [
       "array(['As', 'BC', 'benzo(a)', 'benzo(b)', 'benzo(k)', 'Cd', 'CO', 'Cr',\n",
       "       'Cu', 'dioxin', 'HCB', 'Hg', 'Indeno', 'NH3', 'Ni', 'NMVOC', 'NOx',\n",
       "       'Pb', 'PCB', 'PM10', 'PM2.5', 'Se', 'SOx', 'total PAH', 'TSP',\n",
       "       'Zn'], dtype=object)"
      ]
     },
     "execution_count": 25,
     "metadata": {},
     "output_type": "execute_result"
    }
   ],
   "source": [
    "df_NatEmissions.Pollutant_name.unique()"
   ]
  },
  {
   "cell_type": "code",
   "execution_count": 30,
   "id": "abf0d8b8",
   "metadata": {},
   "outputs": [],
   "source": [
    "df_NatEmissions1 = df_NatEmissions[df_NatEmissions.Pollutant_name == 'CO']"
   ]
  },
  {
   "cell_type": "code",
   "execution_count": 36,
   "id": "769dc029",
   "metadata": {},
   "outputs": [],
   "source": [
    "#AND\n",
    "df_NatEmissions2=df_NatEmissions[(df_NatEmissions.Pollutant_name == 'CO') & (df_NatEmissions.Sector_name == 'International aviation LTO (civil)')]\n",
    "#OR\n",
    "df_NatEmissions3=df_NatEmissions[(df_NatEmissions.Pollutant_name == 'CO') | (df_NatEmissions.Sector_name == 'International aviation LTO (civil)')]"
   ]
  },
  {
   "cell_type": "code",
   "execution_count": 37,
   "id": "7a3bbbba",
   "metadata": {},
   "outputs": [
    {
     "data": {
      "text/plain": [
       "array(['International aviation LTO (civil)',\n",
       "       'Public electricity and heat production', 'Petroleum refining',\n",
       "       'Manufacture of solid fuels and other energy industries',\n",
       "       'Stationary combustion in manufacturing industries and construction: Iron and steel',\n",
       "       'Stationary combustion in manufacturing industries and construction: Non-ferrous metals',\n",
       "       'Stationary combustion in manufacturing industries and construction: Chemicals',\n",
       "       'Stationary combustion in manufacturing industries and construction: Pulp, Paper and Print',\n",
       "       'Stationary combustion in manufacturing industries and construction: Food processing, beverages and tobacco',\n",
       "       'Stationary combustion in manufacturing industries and construction: Non-metallic minerals',\n",
       "       'Mobile Combustion in manufacturing industries and construction',\n",
       "       'Stationary combustion in manufacturing industries and construction: Other',\n",
       "       'Domestic aviation LTO (civil)', 'Road transport: Passenger cars',\n",
       "       'Road transport: Light duty vehicles',\n",
       "       'Road transport: Heavy duty vehicles and buses',\n",
       "       'Road transport: Mopeds & motorcycles',\n",
       "       'Road transport: Gasoline evaporation',\n",
       "       'Road transport: Automobile tyre and brake wear',\n",
       "       'Road transport: Automobile road abrasion', 'Railways',\n",
       "       'International inland waterways', 'National navigation (shipping)',\n",
       "       'Pipeline transport', 'Other',\n",
       "       'Commercial/institutional: Stationary',\n",
       "       'Commercial/institutional: Mobile', 'Residential: Stationary',\n",
       "       'Residential: Household and gardening (mobile)',\n",
       "       'Agriculture/Forestry/Fishing: Stationary',\n",
       "       'Agriculture/Forestry/Fishing: Off-road vehicles and other machinery',\n",
       "       'Agriculture/Forestry/Fishing: National fishing',\n",
       "       'Other stationary (including military)',\n",
       "       'Other, Mobile (including military, land based and recreational boats)',\n",
       "       'Fugitive emission from solid fuels: Coal mining and handling',\n",
       "       'Fugitive emission from solid fuels: Solid fuel transformation',\n",
       "       'Other fugitive emissions from solid fuels',\n",
       "       'Fugitive emissions oil: Exploration, production, transport',\n",
       "       'Fugitive emissions oil: Refining / storage',\n",
       "       'Distribution of oil products',\n",
       "       'Fugitive emissions from natural gas (exploration, production, processing, transmission, storage, distribution and other)',\n",
       "       'Venting and flaring (oil, gas, combined oil and gas)',\n",
       "       'Other fugitive emissions from energy production',\n",
       "       'Cement production', 'Lime production', 'Glass production',\n",
       "       'Quarrying and mining of minerals other than coal',\n",
       "       'Construction and demolition',\n",
       "       'Storage, handling and transport of mineral products',\n",
       "       'Other mineral products', 'Ammonia production',\n",
       "       'Nitric acid production', 'Adipic acid production',\n",
       "       'Carbide production', 'Titanium dioxide production',\n",
       "       'Soda ash production', 'Chemical industry: Other',\n",
       "       'Storage, handling and transport of chemical products',\n",
       "       'Iron and steel production', 'Ferroalloys production',\n",
       "       'Aluminium production', 'Magnesium production', 'Lead production',\n",
       "       'Zinc production', 'Copper production', 'Nickel production',\n",
       "       'Other metal production',\n",
       "       'Storage, handling and transport of metal products',\n",
       "       'Domestic solvent use including fungicides',\n",
       "       'Road paving with asphalt', 'Asphalt roofing',\n",
       "       'Coating applications', 'Degreasing', 'Dry cleaning',\n",
       "       'Chemical products', 'Printing', 'Other solvent use',\n",
       "       'Other product use', 'Pulp and paper industry',\n",
       "       'Food and beverages industry', 'Other industrial processes',\n",
       "       'Wood processing', 'Production of POPs',\n",
       "       'Consumption of POPs and heavy metals (e.g. electrical and scientific equipment)',\n",
       "       'Other production, consumption, storage, transportation or handling of bulk products',\n",
       "       'Manure management - Dairy cattle',\n",
       "       'Manure management - Non-dairy cattle',\n",
       "       'Manure management - Sheep', 'Manure management - Swine',\n",
       "       'Manure management - Buffalo', 'Manure management - Goats',\n",
       "       'Manure management - Horses',\n",
       "       'Manure management - Mules and asses',\n",
       "       'Manure mangement -  Laying hens', 'Manure mangement -  Broilers',\n",
       "       'Manure mangement -  Turkeys',\n",
       "       'Manure management -  Other poultry',\n",
       "       'Manure management - Other animals',\n",
       "       'Inorganic N-fertilizers (includes also urea application)',\n",
       "       'Animal manure applied to soils', 'Sewage sludge applied to soils',\n",
       "       'Other organic fertilisers applied to soils (including compost)',\n",
       "       'Urine and dung deposited by grazing animals',\n",
       "       'Crop residues applied to soils',\n",
       "       'Indirect emissions from managed soils',\n",
       "       'Farm-level agricultural operations including storage, handling and transport of agricultural products',\n",
       "       'Off-farm storage, handling and transport of bulk agricultural products',\n",
       "       'Cultivated crops', 'Use of pesticides',\n",
       "       'Field burning of agricultural residues', 'Agriculture other',\n",
       "       'Biological treatment of waste - Solid waste disposal on land',\n",
       "       'Biological treatment of waste - Composting',\n",
       "       'Biological treatment of waste - Anaerobic digestion at biogas facilities',\n",
       "       'Municipal waste incineration', 'Industrial waste incineration',\n",
       "       'Hazardous waste incineration', 'Clinical waste incineration',\n",
       "       'Sewage sludge incineration', 'Cremation',\n",
       "       'Other waste incineration', 'Open burning of waste',\n",
       "       'Domestic wastewater handling', 'Industrial wastewater handling',\n",
       "       'Other wastewater handling', 'Other waste',\n",
       "       'Other (included in national total for entire territory)',\n",
       "       'National total for the entire territory (based on fuel sold)',\n",
       "       'Sum of adjustments (negative value) from Annex VII',\n",
       "       'National total for compliance assessment (please specify all details in the IIR)',\n",
       "       'International aviation cruise (civil)',\n",
       "       'Domestic aviation cruise (civil)',\n",
       "       'International maritime navigation', 'Multilateral operations',\n",
       "       'Transport (fuel used)',\n",
       "       'Other not included in national total of the entire territory',\n",
       "       'Volcanoes', 'Forest fires', 'Other natural emissions',\n",
       "       'Mobile Combustion in manufacturing industries and construction: (please specify in the IIR)',\n",
       "       'Stationary combustion in manufacturing industries and construction: Other (please specify in the IIR)',\n",
       "       'Other (please specify in the IIR)',\n",
       "       'Other mineral products (please specify in the IIR)',\n",
       "       'Chemical industry: Other  (please specify in the IIR)',\n",
       "       'Storage, handling and transport of chemical products (please specify in the IIR)',\n",
       "       'Other metal production (please specify in the IIR)',\n",
       "       'Storage, handling and transport of metal products (please specify in the IIR)',\n",
       "       'Other solvent use (please specify in the IIR)',\n",
       "       'Other product use (please specify in the IIR)',\n",
       "       'Other industrial processes (please specify in the IIR)',\n",
       "       'Other production, consumption, storage, transportation or handling of bulk products (please specify in the IIR)',\n",
       "       'Manure management - Other animals (please specify in IIR)',\n",
       "       'Sewage sludge  applied to soils',\n",
       "       'Agriculture other (please specify in the IIR)',\n",
       "       'Other waste incineration (please specify in the IIR)',\n",
       "       'Other waste (please specify in IIR)',\n",
       "       'Other (included in national total for entire territory) (please specify in IIR)',\n",
       "       'Sum of approved adjustments (negative value) from Annex VII (CLRTAP)',\n",
       "       'National total for compliance calculations and checks (CLRTAP)',\n",
       "       'Other not included in national total of the entire territory (please specify in the IIR)',\n",
       "       'Other natural emissions (please specify in the IIR)', nan],\n",
       "      dtype=object)"
      ]
     },
     "execution_count": 37,
     "metadata": {},
     "output_type": "execute_result"
    }
   ],
   "source": [
    "#df_NatEmissions3.Pollutant_name.unique()\n",
    "df_NatEmissions3.Sector_name.unique()"
   ]
  },
  {
   "cell_type": "code",
   "execution_count": null,
   "id": "66e8d633",
   "metadata": {},
   "outputs": [],
   "source": []
  },
  {
   "cell_type": "code",
   "execution_count": null,
   "id": "2be29ccd",
   "metadata": {},
   "outputs": [],
   "source": []
  },
  {
   "cell_type": "code",
   "execution_count": null,
   "id": "9f88ff91",
   "metadata": {},
   "outputs": [],
   "source": []
  },
  {
   "cell_type": "code",
   "execution_count": null,
   "id": "3bcfd7e7",
   "metadata": {},
   "outputs": [],
   "source": []
  },
  {
   "cell_type": "code",
   "execution_count": 21,
   "id": "9d796705",
   "metadata": {},
   "outputs": [
    {
     "name": "stderr",
     "output_type": "stream",
     "text": [
      "/var/folders/n2/fd_16hwd5b58jtjy0v7thtzh0000gn/T/ipykernel_13854/794109420.py:1: DtypeWarning: Columns (8) have mixed types. Specify dtype option on import or set low_memory=False.\n",
      "  input_data=pd.read_csv(ds_UNFCCEmissions,header=0)\n"
     ]
    }
   ],
   "source": [
    "input_data=pd.read_csv(ds_UNFCCEmissions,header=0, dtype='unicode')"
   ]
  },
  {
   "cell_type": "code",
   "execution_count": 22,
   "id": "e53a8e8e",
   "metadata": {},
   "outputs": [
    {
     "data": {
      "text/html": [
       "<div>\n",
       "<style scoped>\n",
       "    .dataframe tbody tr th:only-of-type {\n",
       "        vertical-align: middle;\n",
       "    }\n",
       "\n",
       "    .dataframe tbody tr th {\n",
       "        vertical-align: top;\n",
       "    }\n",
       "\n",
       "    .dataframe thead th {\n",
       "        text-align: right;\n",
       "    }\n",
       "</style>\n",
       "<table border=\"1\" class=\"dataframe\">\n",
       "  <thead>\n",
       "    <tr style=\"text-align: right;\">\n",
       "      <th></th>\n",
       "      <th>Country_code</th>\n",
       "      <th>Country</th>\n",
       "      <th>Format_name</th>\n",
       "      <th>Pollutant_name</th>\n",
       "      <th>Sector_code</th>\n",
       "      <th>Sector_name</th>\n",
       "      <th>Parent_sector_code</th>\n",
       "      <th>Unit</th>\n",
       "      <th>Year</th>\n",
       "      <th>emissions</th>\n",
       "      <th>Notation</th>\n",
       "      <th>PublicationDate</th>\n",
       "      <th>DataSource</th>\n",
       "    </tr>\n",
       "  </thead>\n",
       "  <tbody>\n",
       "    <tr>\n",
       "      <th>0</th>\n",
       "      <td>AT</td>\n",
       "      <td>Austria</td>\n",
       "      <td>IPCC Common Reporting Format</td>\n",
       "      <td>All greenhouse gases - (CO2 equivalent)</td>\n",
       "      <td>-</td>\n",
       "      <td>- 4(IV)  Indirect N2O Emissions from Managed S...</td>\n",
       "      <td>4</td>\n",
       "      <td>Gg CO2 equivalent</td>\n",
       "      <td>1994</td>\n",
       "      <td>12.62568</td>\n",
       "      <td>NaN</td>\n",
       "      <td>20231006</td>\n",
       "      <td>EEA</td>\n",
       "    </tr>\n",
       "    <tr>\n",
       "      <th>1</th>\n",
       "      <td>AT</td>\n",
       "      <td>Austria</td>\n",
       "      <td>IPCC Common Reporting Format</td>\n",
       "      <td>All greenhouse gases - (CO2 equivalent)</td>\n",
       "      <td>-</td>\n",
       "      <td>- 4(IV)  Indirect N2O Emissions from Managed S...</td>\n",
       "      <td>4</td>\n",
       "      <td>Gg CO2 equivalent</td>\n",
       "      <td>1999</td>\n",
       "      <td>11.86116</td>\n",
       "      <td>NaN</td>\n",
       "      <td>20231006</td>\n",
       "      <td>EEA</td>\n",
       "    </tr>\n",
       "    <tr>\n",
       "      <th>2</th>\n",
       "      <td>AT</td>\n",
       "      <td>Austria</td>\n",
       "      <td>IPCC Common Reporting Format</td>\n",
       "      <td>All greenhouse gases - (CO2 equivalent)</td>\n",
       "      <td>-</td>\n",
       "      <td>- 4(IV)  Indirect N2O Emissions from Managed S...</td>\n",
       "      <td>4</td>\n",
       "      <td>Gg CO2 equivalent</td>\n",
       "      <td>2010</td>\n",
       "      <td>12.66384</td>\n",
       "      <td>NaN</td>\n",
       "      <td>20231006</td>\n",
       "      <td>EEA</td>\n",
       "    </tr>\n",
       "    <tr>\n",
       "      <th>3</th>\n",
       "      <td>AT</td>\n",
       "      <td>Austria</td>\n",
       "      <td>IPCC Common Reporting Format</td>\n",
       "      <td>All greenhouse gases - (CO2 equivalent)</td>\n",
       "      <td>-</td>\n",
       "      <td>- 4(IV)  Indirect N2O Emissions from Managed S...</td>\n",
       "      <td>4</td>\n",
       "      <td>Gg CO2 equivalent</td>\n",
       "      <td>2011</td>\n",
       "      <td>12.59482</td>\n",
       "      <td>NaN</td>\n",
       "      <td>20231006</td>\n",
       "      <td>EEA</td>\n",
       "    </tr>\n",
       "    <tr>\n",
       "      <th>4</th>\n",
       "      <td>AT</td>\n",
       "      <td>Austria</td>\n",
       "      <td>IPCC Common Reporting Format</td>\n",
       "      <td>All greenhouse gases - (CO2 equivalent)</td>\n",
       "      <td>1</td>\n",
       "      <td>1 - Energy</td>\n",
       "      <td>Sectors/Totals_incl_incl</td>\n",
       "      <td>Gg CO2 equivalent</td>\n",
       "      <td>1993</td>\n",
       "      <td>52087.32124</td>\n",
       "      <td>NaN</td>\n",
       "      <td>20231006</td>\n",
       "      <td>EEA</td>\n",
       "    </tr>\n",
       "  </tbody>\n",
       "</table>\n",
       "</div>"
      ],
      "text/plain": [
       "  Country_code  Country                   Format_name  \\\n",
       "0           AT  Austria  IPCC Common Reporting Format   \n",
       "1           AT  Austria  IPCC Common Reporting Format   \n",
       "2           AT  Austria  IPCC Common Reporting Format   \n",
       "3           AT  Austria  IPCC Common Reporting Format   \n",
       "4           AT  Austria  IPCC Common Reporting Format   \n",
       "\n",
       "                            Pollutant_name Sector_code  \\\n",
       "0  All greenhouse gases - (CO2 equivalent)           -   \n",
       "1  All greenhouse gases - (CO2 equivalent)           -   \n",
       "2  All greenhouse gases - (CO2 equivalent)           -   \n",
       "3  All greenhouse gases - (CO2 equivalent)           -   \n",
       "4  All greenhouse gases - (CO2 equivalent)           1   \n",
       "\n",
       "                                         Sector_name  \\\n",
       "0  - 4(IV)  Indirect N2O Emissions from Managed S...   \n",
       "1  - 4(IV)  Indirect N2O Emissions from Managed S...   \n",
       "2  - 4(IV)  Indirect N2O Emissions from Managed S...   \n",
       "3  - 4(IV)  Indirect N2O Emissions from Managed S...   \n",
       "4                                         1 - Energy   \n",
       "\n",
       "         Parent_sector_code               Unit  Year    emissions Notation  \\\n",
       "0                         4  Gg CO2 equivalent  1994     12.62568      NaN   \n",
       "1                         4  Gg CO2 equivalent  1999     11.86116      NaN   \n",
       "2                         4  Gg CO2 equivalent  2010     12.66384      NaN   \n",
       "3                         4  Gg CO2 equivalent  2011     12.59482      NaN   \n",
       "4  Sectors/Totals_incl_incl  Gg CO2 equivalent  1993  52087.32124      NaN   \n",
       "\n",
       "   PublicationDate DataSource  \n",
       "0         20231006        EEA  \n",
       "1         20231006        EEA  \n",
       "2         20231006        EEA  \n",
       "3         20231006        EEA  \n",
       "4         20231006        EEA  "
      ]
     },
     "execution_count": 22,
     "metadata": {},
     "output_type": "execute_result"
    }
   ],
   "source": [
    "input_data.head()"
   ]
  },
  {
   "cell_type": "code",
   "execution_count": 23,
   "id": "b34c4bc5",
   "metadata": {},
   "outputs": [
    {
     "data": {
      "text/plain": [
       "8726068"
      ]
     },
     "execution_count": 23,
     "metadata": {},
     "output_type": "execute_result"
    }
   ],
   "source": [
    "input_data.size"
   ]
  }
 ],
 "metadata": {
  "kernelspec": {
   "display_name": "dabs_venv",
   "language": "python",
   "name": "python3"
  },
  "language_info": {
   "codemirror_mode": {
    "name": "ipython",
    "version": 3
   },
   "file_extension": ".py",
   "mimetype": "text/x-python",
   "name": "python",
   "nbconvert_exporter": "python",
   "pygments_lexer": "ipython3",
   "version": "3.12.1"
  }
 },
 "nbformat": 4,
 "nbformat_minor": 5
}
