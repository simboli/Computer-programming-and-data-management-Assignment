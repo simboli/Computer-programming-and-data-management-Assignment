{
 "cells": [
  {
   "cell_type": "markdown",
   "id": "2c1c0e04",
   "metadata": {},
   "source": [
    "# Modules"
   ]
  },
  {
   "cell_type": "code",
   "execution_count": 3,
   "id": "e60cacdf",
   "metadata": {},
   "outputs": [],
   "source": [
    "import pandas as pd\n",
    "import matplotlib.pyplot as plt"
   ]
  },
  {
   "cell_type": "markdown",
   "id": "be3ca084",
   "metadata": {},
   "source": [
    "# Variables"
   ]
  },
  {
   "cell_type": "code",
   "execution_count": 4,
   "id": "abc6fe3a",
   "metadata": {},
   "outputs": [],
   "source": [
    "# National emissions reported to the Convention on Long-range Transboundary Air Pollution (LRTAP Convention), 2023\n",
    "# https://sdi.eea.europa.eu/catalogue/srv/eng/catalog.search#/metadata/2999364f-be52-4012-b4fd-f98e2cc8fab6\n",
    "ds_NatEmissions='01.Data/eea_t_lrtap-convention_p_1990-2021_v01_r00/CLRTAP_NVFR19_V23_1_GF_csv.csv'"
   ]
  },
  {
   "cell_type": "code",
   "execution_count": 5,
   "id": "827be790",
   "metadata": {},
   "outputs": [],
   "source": [
    "# National emissions reported to the UNFCCC and to the EU Greenhouse Gas Monitoring Mechanism, October 2023\n",
    "# https://sdi.eea.europa.eu/catalogue/srv/eng/catalog.search#/metadata/e2e7dd1e-0d67-4b20-a0d4-b22c53a59d24\n",
    "ds_UNFCCEmissions='01.Data/eea_t_national-emissions-reported_p_2023_v01_r01/UNFCCC_v26.csv'"
   ]
  },
  {
   "cell_type": "markdown",
   "id": "a48cbea2",
   "metadata": {},
   "source": [
    "# Load data"
   ]
  },
  {
   "cell_type": "code",
   "execution_count": 6,
   "id": "18a2c421",
   "metadata": {},
   "outputs": [],
   "source": [
    "df_NatEmissions=pd.read_csv(ds_NatEmissions,header=0,delimiter=\"\\t\", dtype='unicode')"
   ]
  },
  {
   "cell_type": "code",
   "execution_count": 7,
   "id": "148af7db",
   "metadata": {},
   "outputs": [
    {
     "data": {
      "text/html": [
       "<div>\n",
       "<style scoped>\n",
       "    .dataframe tbody tr th:only-of-type {\n",
       "        vertical-align: middle;\n",
       "    }\n",
       "\n",
       "    .dataframe tbody tr th {\n",
       "        vertical-align: top;\n",
       "    }\n",
       "\n",
       "    .dataframe thead th {\n",
       "        text-align: right;\n",
       "    }\n",
       "</style>\n",
       "<table border=\"1\" class=\"dataframe\">\n",
       "  <thead>\n",
       "    <tr style=\"text-align: right;\">\n",
       "      <th></th>\n",
       "      <th>Country_Code</th>\n",
       "      <th>Country</th>\n",
       "      <th>Pollutant_name</th>\n",
       "      <th>Format_name</th>\n",
       "      <th>Sector_code</th>\n",
       "      <th>Year</th>\n",
       "      <th>Emissions</th>\n",
       "      <th>Unit</th>\n",
       "      <th>Notation</th>\n",
       "      <th>VersionId</th>\n",
       "      <th>Parent_sector_code</th>\n",
       "      <th>Sector_name</th>\n",
       "    </tr>\n",
       "  </thead>\n",
       "  <tbody>\n",
       "    <tr>\n",
       "      <th>0</th>\n",
       "      <td>AT</td>\n",
       "      <td>Austria</td>\n",
       "      <td>As</td>\n",
       "      <td>NFR 2014-1</td>\n",
       "      <td>1A1a</td>\n",
       "      <td>1990</td>\n",
       "      <td>NaN</td>\n",
       "      <td>Mg</td>\n",
       "      <td>NaN</td>\n",
       "      <td>1</td>\n",
       "      <td>NATIONAL TOTAL</td>\n",
       "      <td>Public electricity and heat production</td>\n",
       "    </tr>\n",
       "    <tr>\n",
       "      <th>1</th>\n",
       "      <td>AT</td>\n",
       "      <td>Austria</td>\n",
       "      <td>As</td>\n",
       "      <td>NFR 2014-1</td>\n",
       "      <td>1A1b</td>\n",
       "      <td>1990</td>\n",
       "      <td>NaN</td>\n",
       "      <td>Mg</td>\n",
       "      <td>NaN</td>\n",
       "      <td>1</td>\n",
       "      <td>NATIONAL TOTAL</td>\n",
       "      <td>Petroleum refining</td>\n",
       "    </tr>\n",
       "    <tr>\n",
       "      <th>2</th>\n",
       "      <td>AT</td>\n",
       "      <td>Austria</td>\n",
       "      <td>As</td>\n",
       "      <td>NFR 2014-1</td>\n",
       "      <td>1A1c</td>\n",
       "      <td>1990</td>\n",
       "      <td>NaN</td>\n",
       "      <td>Mg</td>\n",
       "      <td>NaN</td>\n",
       "      <td>1</td>\n",
       "      <td>NATIONAL TOTAL</td>\n",
       "      <td>Manufacture of solid fuels and other energy in...</td>\n",
       "    </tr>\n",
       "    <tr>\n",
       "      <th>3</th>\n",
       "      <td>AT</td>\n",
       "      <td>Austria</td>\n",
       "      <td>As</td>\n",
       "      <td>NFR 2014-1</td>\n",
       "      <td>1A2a</td>\n",
       "      <td>1990</td>\n",
       "      <td>NaN</td>\n",
       "      <td>Mg</td>\n",
       "      <td>NaN</td>\n",
       "      <td>1</td>\n",
       "      <td>NATIONAL TOTAL</td>\n",
       "      <td>Stationary combustion in manufacturing industr...</td>\n",
       "    </tr>\n",
       "    <tr>\n",
       "      <th>4</th>\n",
       "      <td>AT</td>\n",
       "      <td>Austria</td>\n",
       "      <td>As</td>\n",
       "      <td>NFR 2014-1</td>\n",
       "      <td>1A2b</td>\n",
       "      <td>1990</td>\n",
       "      <td>NaN</td>\n",
       "      <td>Mg</td>\n",
       "      <td>NaN</td>\n",
       "      <td>1</td>\n",
       "      <td>NATIONAL TOTAL</td>\n",
       "      <td>Stationary combustion in manufacturing industr...</td>\n",
       "    </tr>\n",
       "  </tbody>\n",
       "</table>\n",
       "</div>"
      ],
      "text/plain": [
       "  Country_Code  Country Pollutant_name Format_name Sector_code  Year  \\\n",
       "0           AT  Austria             As  NFR 2014-1        1A1a  1990   \n",
       "1           AT  Austria             As  NFR 2014-1        1A1b  1990   \n",
       "2           AT  Austria             As  NFR 2014-1        1A1c  1990   \n",
       "3           AT  Austria             As  NFR 2014-1        1A2a  1990   \n",
       "4           AT  Austria             As  NFR 2014-1        1A2b  1990   \n",
       "\n",
       "  Emissions Unit Notation VersionId Parent_sector_code  \\\n",
       "0       NaN   Mg      NaN         1     NATIONAL TOTAL   \n",
       "1       NaN   Mg      NaN         1     NATIONAL TOTAL   \n",
       "2       NaN   Mg      NaN         1     NATIONAL TOTAL   \n",
       "3       NaN   Mg      NaN         1     NATIONAL TOTAL   \n",
       "4       NaN   Mg      NaN         1     NATIONAL TOTAL   \n",
       "\n",
       "                                         Sector_name  \n",
       "0             Public electricity and heat production  \n",
       "1                                 Petroleum refining  \n",
       "2  Manufacture of solid fuels and other energy in...  \n",
       "3  Stationary combustion in manufacturing industr...  \n",
       "4  Stationary combustion in manufacturing industr...  "
      ]
     },
     "execution_count": 7,
     "metadata": {},
     "output_type": "execute_result"
    }
   ],
   "source": [
    "df_NatEmissions.head()"
   ]
  },
  {
   "cell_type": "markdown",
   "id": "00c3c01a",
   "metadata": {},
   "source": [
    "Let's filter only emissions from domestic and international aviation."
   ]
  },
  {
   "cell_type": "code",
   "execution_count": 8,
   "id": "5dc7b552",
   "metadata": {},
   "outputs": [
    {
     "name": "stdout",
     "output_type": "stream",
     "text": [
      "International aviation LTO (civil)\n",
      "Domestic aviation LTO (civil)\n",
      "International aviation cruise (civil)\n",
      "Domestic aviation cruise (civil)\n"
     ]
    }
   ],
   "source": [
    "col=df_NatEmissions.Sector_name.unique()\n",
    "for i in col: \n",
    "    if type(i) is str:\n",
    "        if 'aviation' in i:\n",
    "            print(i)"
   ]
  },
  {
   "cell_type": "code",
   "execution_count": 9,
   "id": "e52e0b2c",
   "metadata": {},
   "outputs": [
    {
     "data": {
      "text/plain": [
       "array(['International aviation LTO (civil)',\n",
       "       'Domestic aviation LTO (civil)',\n",
       "       'International aviation cruise (civil)',\n",
       "       'Domestic aviation cruise (civil)'], dtype=object)"
      ]
     },
     "execution_count": 9,
     "metadata": {},
     "output_type": "execute_result"
    }
   ],
   "source": [
    "df_NatEmissions = df_NatEmissions[\n",
    "    (df_NatEmissions.Sector_name == 'International aviation LTO (civil)') |\n",
    "    (df_NatEmissions.Sector_name == 'Domestic aviation LTO (civil)') |\n",
    "    (df_NatEmissions.Sector_name == 'International aviation cruise (civil)') |\n",
    "    (df_NatEmissions.Sector_name == 'Domestic aviation cruise (civil)')]\n",
    "df_NatEmissions.Sector_name.unique()"
   ]
  },
  {
   "cell_type": "code",
   "execution_count": 10,
   "id": "65d84a53",
   "metadata": {},
   "outputs": [
    {
     "data": {
      "text/plain": [
       "(109824, 12)"
      ]
     },
     "execution_count": 10,
     "metadata": {},
     "output_type": "execute_result"
    }
   ],
   "source": [
    "df_NatEmissions.shape"
   ]
  },
  {
   "cell_type": "code",
   "execution_count": 11,
   "id": "6b466950",
   "metadata": {},
   "outputs": [],
   "source": [
    "def get_var_category(series):\n",
    "    unique_count = series.nunique(dropna=False)\n",
    "    total_count = len(series)\n",
    "    if pd.api.types.is_numeric_dtype(series):\n",
    "        return 'Numerical'\n",
    "    elif pd.api.types.is_datetime64_dtype(series):\n",
    "        return 'Date'\n",
    "    elif unique_count==total_count:\n",
    "        return 'Text (Unique)'\n",
    "    else:\n",
    "        return 'Categorical'\n",
    "\n",
    "def print_categories(df):\n",
    "    for column_name in df.columns:\n",
    "        print(column_name, \": \", get_var_category(df[column_name]))"
   ]
  },
  {
   "cell_type": "code",
   "execution_count": 12,
   "id": "29153de9",
   "metadata": {},
   "outputs": [
    {
     "name": "stdout",
     "output_type": "stream",
     "text": [
      "Country_Code :  Categorical\n",
      "Country :  Categorical\n",
      "Pollutant_name :  Categorical\n",
      "Format_name :  Categorical\n",
      "Sector_code :  Categorical\n",
      "Year :  Categorical\n",
      "Emissions :  Categorical\n",
      "Unit :  Categorical\n",
      "Notation :  Categorical\n",
      "VersionId :  Categorical\n",
      "Parent_sector_code :  Categorical\n",
      "Sector_name :  Categorical\n"
     ]
    }
   ],
   "source": [
    "print_categories(df_NatEmissions)"
   ]
  },
  {
   "cell_type": "code",
   "execution_count": 13,
   "id": "e2c6efd6",
   "metadata": {},
   "outputs": [
    {
     "name": "stdout",
     "output_type": "stream",
     "text": [
      "<class 'pandas.core.frame.DataFrame'>\n",
      "Index: 109824 entries, 11 to 3816372\n",
      "Data columns (total 12 columns):\n",
      " #   Column              Non-Null Count   Dtype \n",
      "---  ------              --------------   ----- \n",
      " 0   Country_Code        109824 non-null  object\n",
      " 1   Country             109824 non-null  object\n",
      " 2   Pollutant_name      109824 non-null  object\n",
      " 3   Format_name         109824 non-null  object\n",
      " 4   Sector_code         109824 non-null  object\n",
      " 5   Year                109824 non-null  object\n",
      " 6   Emissions           65639 non-null   object\n",
      " 7   Unit                109824 non-null  object\n",
      " 8   Notation            0 non-null       object\n",
      " 9   VersionId           109824 non-null  object\n",
      " 10  Parent_sector_code  55744 non-null   object\n",
      " 11  Sector_name         109824 non-null  object\n",
      "dtypes: object(12)\n",
      "memory usage: 10.9+ MB\n"
     ]
    }
   ],
   "source": [
    "df_NatEmissions.info()"
   ]
  },
  {
   "cell_type": "markdown",
   "id": "349d8403",
   "metadata": {},
   "source": [
    "We can see that the column `Emissions` have some null values, let focus this point."
   ]
  },
  {
   "cell_type": "code",
   "execution_count": 14,
   "id": "bdf753d4",
   "metadata": {},
   "outputs": [],
   "source": [
    "df_NatEmissions['Emissions'] = df_NatEmissions['Emissions'].astype(\"float\")"
   ]
  },
  {
   "cell_type": "code",
   "execution_count": 15,
   "id": "a6fb7a72",
   "metadata": {},
   "outputs": [
    {
     "name": "stdout",
     "output_type": "stream",
     "text": [
      "<class 'pandas.core.frame.DataFrame'>\n",
      "Index: 109824 entries, 11 to 3816372\n",
      "Data columns (total 12 columns):\n",
      " #   Column              Non-Null Count   Dtype  \n",
      "---  ------              --------------   -----  \n",
      " 0   Country_Code        109824 non-null  object \n",
      " 1   Country             109824 non-null  object \n",
      " 2   Pollutant_name      109824 non-null  object \n",
      " 3   Format_name         109824 non-null  object \n",
      " 4   Sector_code         109824 non-null  object \n",
      " 5   Year                109824 non-null  object \n",
      " 6   Emissions           65639 non-null   float64\n",
      " 7   Unit                109824 non-null  object \n",
      " 8   Notation            0 non-null       object \n",
      " 9   VersionId           109824 non-null  object \n",
      " 10  Parent_sector_code  55744 non-null   object \n",
      " 11  Sector_name         109824 non-null  object \n",
      "dtypes: float64(1), object(11)\n",
      "memory usage: 10.9+ MB\n"
     ]
    }
   ],
   "source": [
    "df_NatEmissions.info()"
   ]
  },
  {
   "cell_type": "code",
   "execution_count": 16,
   "id": "2c82caa4",
   "metadata": {},
   "outputs": [
    {
     "data": {
      "text/plain": [
       "array(['As', 'BC', 'benzo(a)', 'benzo(b)', 'benzo(k)', 'Cd', 'CO', 'Cr',\n",
       "       'Cu', 'dioxin', 'HCB', 'Hg', 'Indeno', 'NH3', 'Ni', 'NMVOC', 'NOx',\n",
       "       'Pb', 'PCB', 'PM10', 'PM2.5', 'Se', 'SOx', 'total PAH', 'TSP',\n",
       "       'Zn'], dtype=object)"
      ]
     },
     "execution_count": 16,
     "metadata": {},
     "output_type": "execute_result"
    }
   ],
   "source": [
    "df_NatEmissions.Pollutant_name.unique()"
   ]
  },
  {
   "cell_type": "code",
   "execution_count": 17,
   "id": "384865c6",
   "metadata": {},
   "outputs": [
    {
     "data": {
      "text/html": [
       "<div>\n",
       "<style scoped>\n",
       "    .dataframe tbody tr th:only-of-type {\n",
       "        vertical-align: middle;\n",
       "    }\n",
       "\n",
       "    .dataframe tbody tr th {\n",
       "        vertical-align: top;\n",
       "    }\n",
       "\n",
       "    .dataframe thead th {\n",
       "        text-align: right;\n",
       "    }\n",
       "</style>\n",
       "<table border=\"1\" class=\"dataframe\">\n",
       "  <thead>\n",
       "    <tr style=\"text-align: right;\">\n",
       "      <th></th>\n",
       "      <th>Country_Code</th>\n",
       "      <th>Country</th>\n",
       "      <th>Pollutant_name</th>\n",
       "      <th>Format_name</th>\n",
       "      <th>Sector_code</th>\n",
       "      <th>Year</th>\n",
       "      <th>Emissions</th>\n",
       "      <th>Unit</th>\n",
       "      <th>Notation</th>\n",
       "      <th>VersionId</th>\n",
       "      <th>Parent_sector_code</th>\n",
       "      <th>Sector_name</th>\n",
       "    </tr>\n",
       "  </thead>\n",
       "  <tbody>\n",
       "    <tr>\n",
       "      <th>880715</th>\n",
       "      <td>AT</td>\n",
       "      <td>Austria</td>\n",
       "      <td>CO</td>\n",
       "      <td>NFR 2014-1</td>\n",
       "      <td>1A3ai(i)</td>\n",
       "      <td>1990</td>\n",
       "      <td>0.546015</td>\n",
       "      <td>Gg</td>\n",
       "      <td>NaN</td>\n",
       "      <td>1</td>\n",
       "      <td>NATIONAL TOTAL</td>\n",
       "      <td>International aviation LTO (civil)</td>\n",
       "    </tr>\n",
       "    <tr>\n",
       "      <th>880716</th>\n",
       "      <td>AT</td>\n",
       "      <td>Austria</td>\n",
       "      <td>CO</td>\n",
       "      <td>NFR 2014-1</td>\n",
       "      <td>1A3aii(i)</td>\n",
       "      <td>1990</td>\n",
       "      <td>2.011739</td>\n",
       "      <td>Gg</td>\n",
       "      <td>NaN</td>\n",
       "      <td>1</td>\n",
       "      <td>NATIONAL TOTAL</td>\n",
       "      <td>Domestic aviation LTO (civil)</td>\n",
       "    </tr>\n",
       "    <tr>\n",
       "      <th>880834</th>\n",
       "      <td>AT</td>\n",
       "      <td>Austria</td>\n",
       "      <td>CO</td>\n",
       "      <td>NFR 2014-1</td>\n",
       "      <td>1A3ai(ii)</td>\n",
       "      <td>1990</td>\n",
       "      <td>0.371429</td>\n",
       "      <td>Gg</td>\n",
       "      <td>NaN</td>\n",
       "      <td>1</td>\n",
       "      <td>NaN</td>\n",
       "      <td>International aviation cruise (civil)</td>\n",
       "    </tr>\n",
       "    <tr>\n",
       "      <th>880835</th>\n",
       "      <td>AT</td>\n",
       "      <td>Austria</td>\n",
       "      <td>CO</td>\n",
       "      <td>NFR 2014-1</td>\n",
       "      <td>1A3aii(ii)</td>\n",
       "      <td>1990</td>\n",
       "      <td>0.029021</td>\n",
       "      <td>Gg</td>\n",
       "      <td>NaN</td>\n",
       "      <td>1</td>\n",
       "      <td>NaN</td>\n",
       "      <td>Domestic aviation cruise (civil)</td>\n",
       "    </tr>\n",
       "    <tr>\n",
       "      <th>880854</th>\n",
       "      <td>BE</td>\n",
       "      <td>Belgium</td>\n",
       "      <td>CO</td>\n",
       "      <td>NFR 2014-1</td>\n",
       "      <td>1A3ai(i)</td>\n",
       "      <td>1990</td>\n",
       "      <td>0.682209</td>\n",
       "      <td>Gg</td>\n",
       "      <td>NaN</td>\n",
       "      <td>1</td>\n",
       "      <td>NATIONAL TOTAL</td>\n",
       "      <td>International aviation LTO (civil)</td>\n",
       "    </tr>\n",
       "  </tbody>\n",
       "</table>\n",
       "</div>"
      ],
      "text/plain": [
       "       Country_Code  Country Pollutant_name Format_name Sector_code  Year  \\\n",
       "880715           AT  Austria             CO  NFR 2014-1    1A3ai(i)  1990   \n",
       "880716           AT  Austria             CO  NFR 2014-1   1A3aii(i)  1990   \n",
       "880834           AT  Austria             CO  NFR 2014-1   1A3ai(ii)  1990   \n",
       "880835           AT  Austria             CO  NFR 2014-1  1A3aii(ii)  1990   \n",
       "880854           BE  Belgium             CO  NFR 2014-1    1A3ai(i)  1990   \n",
       "\n",
       "        Emissions Unit Notation VersionId Parent_sector_code  \\\n",
       "880715   0.546015   Gg      NaN         1     NATIONAL TOTAL   \n",
       "880716   2.011739   Gg      NaN         1     NATIONAL TOTAL   \n",
       "880834   0.371429   Gg      NaN         1                NaN   \n",
       "880835   0.029021   Gg      NaN         1                NaN   \n",
       "880854   0.682209   Gg      NaN         1     NATIONAL TOTAL   \n",
       "\n",
       "                                  Sector_name  \n",
       "880715     International aviation LTO (civil)  \n",
       "880716          Domestic aviation LTO (civil)  \n",
       "880834  International aviation cruise (civil)  \n",
       "880835       Domestic aviation cruise (civil)  \n",
       "880854     International aviation LTO (civil)  "
      ]
     },
     "execution_count": 17,
     "metadata": {},
     "output_type": "execute_result"
    }
   ],
   "source": [
    "# Filter\n",
    "df_NatEmissions_CO = df_NatEmissions[df_NatEmissions.Pollutant_name == 'CO']\n",
    "df_NatEmissions_CO.head()"
   ]
  },
  {
   "cell_type": "code",
   "execution_count": 18,
   "id": "641671d3",
   "metadata": {},
   "outputs": [
    {
     "data": {
      "text/html": [
       "<div>\n",
       "<style scoped>\n",
       "    .dataframe tbody tr th:only-of-type {\n",
       "        vertical-align: middle;\n",
       "    }\n",
       "\n",
       "    .dataframe tbody tr th {\n",
       "        vertical-align: top;\n",
       "    }\n",
       "\n",
       "    .dataframe thead th {\n",
       "        text-align: right;\n",
       "    }\n",
       "</style>\n",
       "<table border=\"1\" class=\"dataframe\">\n",
       "  <thead>\n",
       "    <tr style=\"text-align: right;\">\n",
       "      <th></th>\n",
       "      <th>Country_Code</th>\n",
       "      <th>Pollutant_name</th>\n",
       "      <th>Year</th>\n",
       "      <th>Emissions</th>\n",
       "      <th>Unit</th>\n",
       "      <th>Sector_name</th>\n",
       "    </tr>\n",
       "  </thead>\n",
       "  <tbody>\n",
       "    <tr>\n",
       "      <th>880715</th>\n",
       "      <td>AT</td>\n",
       "      <td>CO</td>\n",
       "      <td>1990</td>\n",
       "      <td>0.546015</td>\n",
       "      <td>Gg</td>\n",
       "      <td>International aviation LTO (civil)</td>\n",
       "    </tr>\n",
       "    <tr>\n",
       "      <th>880716</th>\n",
       "      <td>AT</td>\n",
       "      <td>CO</td>\n",
       "      <td>1990</td>\n",
       "      <td>2.011739</td>\n",
       "      <td>Gg</td>\n",
       "      <td>Domestic aviation LTO (civil)</td>\n",
       "    </tr>\n",
       "    <tr>\n",
       "      <th>880834</th>\n",
       "      <td>AT</td>\n",
       "      <td>CO</td>\n",
       "      <td>1990</td>\n",
       "      <td>0.371429</td>\n",
       "      <td>Gg</td>\n",
       "      <td>International aviation cruise (civil)</td>\n",
       "    </tr>\n",
       "    <tr>\n",
       "      <th>880835</th>\n",
       "      <td>AT</td>\n",
       "      <td>CO</td>\n",
       "      <td>1990</td>\n",
       "      <td>0.029021</td>\n",
       "      <td>Gg</td>\n",
       "      <td>Domestic aviation cruise (civil)</td>\n",
       "    </tr>\n",
       "    <tr>\n",
       "      <th>880854</th>\n",
       "      <td>BE</td>\n",
       "      <td>CO</td>\n",
       "      <td>1990</td>\n",
       "      <td>0.682209</td>\n",
       "      <td>Gg</td>\n",
       "      <td>International aviation LTO (civil)</td>\n",
       "    </tr>\n",
       "  </tbody>\n",
       "</table>\n",
       "</div>"
      ],
      "text/plain": [
       "       Country_Code Pollutant_name  Year  Emissions Unit  \\\n",
       "880715           AT             CO  1990   0.546015   Gg   \n",
       "880716           AT             CO  1990   2.011739   Gg   \n",
       "880834           AT             CO  1990   0.371429   Gg   \n",
       "880835           AT             CO  1990   0.029021   Gg   \n",
       "880854           BE             CO  1990   0.682209   Gg   \n",
       "\n",
       "                                  Sector_name  \n",
       "880715     International aviation LTO (civil)  \n",
       "880716          Domestic aviation LTO (civil)  \n",
       "880834  International aviation cruise (civil)  \n",
       "880835       Domestic aviation cruise (civil)  \n",
       "880854     International aviation LTO (civil)  "
      ]
     },
     "execution_count": 18,
     "metadata": {},
     "output_type": "execute_result"
    }
   ],
   "source": [
    "# Select only useful columns\n",
    "df_NatEmissions_CO=df_NatEmissions_CO[['Country_Code','Pollutant_name','Year','Emissions','Unit','Sector_name']]\n",
    "df_NatEmissions_CO.head()"
   ]
  },
  {
   "cell_type": "code",
   "execution_count": 19,
   "id": "bde5688b",
   "metadata": {},
   "outputs": [
    {
     "data": {
      "text/plain": [
       "Country_Code        0\n",
       "Pollutant_name      0\n",
       "Year                0\n",
       "Emissions         334\n",
       "Unit                0\n",
       "Sector_name         0\n",
       "dtype: int64"
      ]
     },
     "execution_count": 19,
     "metadata": {},
     "output_type": "execute_result"
    }
   ],
   "source": [
    "# Show null values per each column\n",
    "df_NatEmissions_CO.isna().sum()"
   ]
  },
  {
   "cell_type": "code",
   "execution_count": 20,
   "id": "87961c4e",
   "metadata": {},
   "outputs": [],
   "source": [
    "# These Country has some missiong values on Emissions column\n",
    "df_NatEmissions_CO_remove=df_NatEmissions_CO[df_NatEmissions_CO.Emissions.isnull()].Country_Code.unique()"
   ]
  },
  {
   "cell_type": "code",
   "execution_count": 21,
   "id": "0ed1142d",
   "metadata": {},
   "outputs": [],
   "source": [
    "df_NatEmissions_CO=df_NatEmissions_CO[~df_NatEmissions_CO.Country_Code.isin(df_NatEmissions_CO_remove)]"
   ]
  },
  {
   "cell_type": "code",
   "execution_count": 22,
   "id": "765be452",
   "metadata": {},
   "outputs": [
    {
     "data": {
      "text/plain": [
       "Country_Code      0\n",
       "Pollutant_name    0\n",
       "Year              0\n",
       "Emissions         0\n",
       "Unit              0\n",
       "Sector_name       0\n",
       "dtype: int64"
      ]
     },
     "execution_count": 22,
     "metadata": {},
     "output_type": "execute_result"
    }
   ],
   "source": [
    "df_NatEmissions_CO.isna().sum()"
   ]
  },
  {
   "cell_type": "code",
   "execution_count": 23,
   "id": "a6826898",
   "metadata": {},
   "outputs": [
    {
     "data": {
      "text/html": [
       "<div>\n",
       "<style scoped>\n",
       "    .dataframe tbody tr th:only-of-type {\n",
       "        vertical-align: middle;\n",
       "    }\n",
       "\n",
       "    .dataframe tbody tr th {\n",
       "        vertical-align: top;\n",
       "    }\n",
       "\n",
       "    .dataframe thead th {\n",
       "        text-align: right;\n",
       "    }\n",
       "</style>\n",
       "<table border=\"1\" class=\"dataframe\">\n",
       "  <thead>\n",
       "    <tr style=\"text-align: right;\">\n",
       "      <th></th>\n",
       "      <th>Country_Code</th>\n",
       "      <th>Pollutant_name</th>\n",
       "      <th>Year</th>\n",
       "      <th>Emissions</th>\n",
       "      <th>Unit</th>\n",
       "      <th>Sector_name</th>\n",
       "    </tr>\n",
       "  </thead>\n",
       "  <tbody>\n",
       "    <tr>\n",
       "      <th>880715</th>\n",
       "      <td>AT</td>\n",
       "      <td>CO</td>\n",
       "      <td>1990</td>\n",
       "      <td>0.546015</td>\n",
       "      <td>Gg</td>\n",
       "      <td>International aviation LTO (civil)</td>\n",
       "    </tr>\n",
       "    <tr>\n",
       "      <th>880716</th>\n",
       "      <td>AT</td>\n",
       "      <td>CO</td>\n",
       "      <td>1990</td>\n",
       "      <td>2.011739</td>\n",
       "      <td>Gg</td>\n",
       "      <td>Domestic aviation LTO (civil)</td>\n",
       "    </tr>\n",
       "    <tr>\n",
       "      <th>880834</th>\n",
       "      <td>AT</td>\n",
       "      <td>CO</td>\n",
       "      <td>1990</td>\n",
       "      <td>0.371429</td>\n",
       "      <td>Gg</td>\n",
       "      <td>International aviation cruise (civil)</td>\n",
       "    </tr>\n",
       "    <tr>\n",
       "      <th>880835</th>\n",
       "      <td>AT</td>\n",
       "      <td>CO</td>\n",
       "      <td>1990</td>\n",
       "      <td>0.029021</td>\n",
       "      <td>Gg</td>\n",
       "      <td>Domestic aviation cruise (civil)</td>\n",
       "    </tr>\n",
       "    <tr>\n",
       "      <th>880854</th>\n",
       "      <td>BE</td>\n",
       "      <td>CO</td>\n",
       "      <td>1990</td>\n",
       "      <td>0.682209</td>\n",
       "      <td>Gg</td>\n",
       "      <td>International aviation LTO (civil)</td>\n",
       "    </tr>\n",
       "  </tbody>\n",
       "</table>\n",
       "</div>"
      ],
      "text/plain": [
       "       Country_Code Pollutant_name  Year  Emissions Unit  \\\n",
       "880715           AT             CO  1990   0.546015   Gg   \n",
       "880716           AT             CO  1990   2.011739   Gg   \n",
       "880834           AT             CO  1990   0.371429   Gg   \n",
       "880835           AT             CO  1990   0.029021   Gg   \n",
       "880854           BE             CO  1990   0.682209   Gg   \n",
       "\n",
       "                                  Sector_name  \n",
       "880715     International aviation LTO (civil)  \n",
       "880716          Domestic aviation LTO (civil)  \n",
       "880834  International aviation cruise (civil)  \n",
       "880835       Domestic aviation cruise (civil)  \n",
       "880854     International aviation LTO (civil)  "
      ]
     },
     "execution_count": 23,
     "metadata": {},
     "output_type": "execute_result"
    }
   ],
   "source": [
    "df_NatEmissions_CO.head()"
   ]
  },
  {
   "cell_type": "code",
   "execution_count": 24,
   "id": "e32bd1c3",
   "metadata": {},
   "outputs": [
    {
     "data": {
      "text/plain": [
       "Sector_name\n",
       "Domestic aviation LTO (civil)            800\n",
       "Domestic aviation cruise (civil)         800\n",
       "International aviation LTO (civil)       800\n",
       "International aviation cruise (civil)    800\n",
       "Name: Sector_name, dtype: int64"
      ]
     },
     "execution_count": 24,
     "metadata": {},
     "output_type": "execute_result"
    }
   ],
   "source": [
    "df_NatEmissions_CO.groupby(['Sector_name'])['Sector_name'].count()"
   ]
  },
  {
   "cell_type": "code",
   "execution_count": 25,
   "id": "8b1ccb08",
   "metadata": {},
   "outputs": [
    {
     "data": {
      "text/plain": [
       "Unit\n",
       "Gg    3200\n",
       "Name: Unit, dtype: int64"
      ]
     },
     "execution_count": 25,
     "metadata": {},
     "output_type": "execute_result"
    }
   ],
   "source": [
    "df_NatEmissions_CO.groupby(['Unit'])['Unit'].count()"
   ]
  },
  {
   "cell_type": "code",
   "execution_count": 26,
   "id": "a078cc2a",
   "metadata": {},
   "outputs": [
    {
     "data": {
      "text/plain": [
       "Sector_name                            Year\n",
       "Domestic aviation LTO (civil)          1990    25\n",
       "                                       1991    25\n",
       "                                       1992    25\n",
       "                                       1993    25\n",
       "                                       1994    25\n",
       "                                               ..\n",
       "International aviation cruise (civil)  2017    25\n",
       "                                       2018    25\n",
       "                                       2019    25\n",
       "                                       2020    25\n",
       "                                       2021    25\n",
       "Name: Year, Length: 128, dtype: int64"
      ]
     },
     "execution_count": 26,
     "metadata": {},
     "output_type": "execute_result"
    }
   ],
   "source": [
    "df_NatEmissions_CO.groupby(['Sector_name','Year'])['Year'].count()"
   ]
  },
  {
   "cell_type": "code",
   "execution_count": 50,
   "id": "6873d6f7",
   "metadata": {},
   "outputs": [
    {
     "data": {
      "text/html": [
       "<div>\n",
       "<style scoped>\n",
       "    .dataframe tbody tr th:only-of-type {\n",
       "        vertical-align: middle;\n",
       "    }\n",
       "\n",
       "    .dataframe tbody tr th {\n",
       "        vertical-align: top;\n",
       "    }\n",
       "\n",
       "    .dataframe thead th {\n",
       "        text-align: right;\n",
       "    }\n",
       "</style>\n",
       "<table border=\"1\" class=\"dataframe\">\n",
       "  <thead>\n",
       "    <tr style=\"text-align: right;\">\n",
       "      <th></th>\n",
       "      <th>Year</th>\n",
       "      <th>Emissions</th>\n",
       "    </tr>\n",
       "  </thead>\n",
       "  <tbody>\n",
       "    <tr>\n",
       "      <th>0</th>\n",
       "      <td>1990</td>\n",
       "      <td>1026.811317</td>\n",
       "    </tr>\n",
       "    <tr>\n",
       "      <th>1</th>\n",
       "      <td>1991</td>\n",
       "      <td>910.017473</td>\n",
       "    </tr>\n",
       "    <tr>\n",
       "      <th>2</th>\n",
       "      <td>1992</td>\n",
       "      <td>1040.116068</td>\n",
       "    </tr>\n",
       "    <tr>\n",
       "      <th>3</th>\n",
       "      <td>1993</td>\n",
       "      <td>1245.810481</td>\n",
       "    </tr>\n",
       "    <tr>\n",
       "      <th>4</th>\n",
       "      <td>1994</td>\n",
       "      <td>1075.720078</td>\n",
       "    </tr>\n",
       "  </tbody>\n",
       "</table>\n",
       "</div>"
      ],
      "text/plain": [
       "   Year    Emissions\n",
       "0  1990  1026.811317\n",
       "1  1991   910.017473\n",
       "2  1992  1040.116068\n",
       "3  1993  1245.810481\n",
       "4  1994  1075.720078"
      ]
     },
     "execution_count": 50,
     "metadata": {},
     "output_type": "execute_result"
    }
   ],
   "source": [
    "df_NatEmissions_CO_YEAR=df_NatEmissions_CO.groupby('Year')['Emissions'].sum()\n",
    "# Convert pd Series to pd Dataframe (https://stackoverflow.com/a/26098292/1008588)\n",
    "df_NatEmissions_CO_YEAR=pd.DataFrame({'Year':df_NatEmissions_CO_YEAR.index, 'Emissions':df_NatEmissions_CO_YEAR.values})\n",
    "df_NatEmissions_CO_YEAR.head()"
   ]
  },
  {
   "cell_type": "code",
   "execution_count": 53,
   "id": "2a8d2772",
   "metadata": {},
   "outputs": [],
   "source": [
    "df_NatEmissions_CO_YEAR['rolling_emissions'] = df_NatEmissions_CO_YEAR.Emissions.rolling(5).mean()"
   ]
  },
  {
   "cell_type": "code",
   "execution_count": 54,
   "id": "dc47a987",
   "metadata": {},
   "outputs": [
    {
     "data": {
      "text/html": [
       "<div>\n",
       "<style scoped>\n",
       "    .dataframe tbody tr th:only-of-type {\n",
       "        vertical-align: middle;\n",
       "    }\n",
       "\n",
       "    .dataframe tbody tr th {\n",
       "        vertical-align: top;\n",
       "    }\n",
       "\n",
       "    .dataframe thead th {\n",
       "        text-align: right;\n",
       "    }\n",
       "</style>\n",
       "<table border=\"1\" class=\"dataframe\">\n",
       "  <thead>\n",
       "    <tr style=\"text-align: right;\">\n",
       "      <th></th>\n",
       "      <th>Year</th>\n",
       "      <th>Emissions</th>\n",
       "      <th>rolling_emissions</th>\n",
       "    </tr>\n",
       "  </thead>\n",
       "  <tbody>\n",
       "    <tr>\n",
       "      <th>0</th>\n",
       "      <td>1990</td>\n",
       "      <td>1026.811317</td>\n",
       "      <td>NaN</td>\n",
       "    </tr>\n",
       "    <tr>\n",
       "      <th>1</th>\n",
       "      <td>1991</td>\n",
       "      <td>910.017473</td>\n",
       "      <td>NaN</td>\n",
       "    </tr>\n",
       "    <tr>\n",
       "      <th>2</th>\n",
       "      <td>1992</td>\n",
       "      <td>1040.116068</td>\n",
       "      <td>NaN</td>\n",
       "    </tr>\n",
       "    <tr>\n",
       "      <th>3</th>\n",
       "      <td>1993</td>\n",
       "      <td>1245.810481</td>\n",
       "      <td>NaN</td>\n",
       "    </tr>\n",
       "    <tr>\n",
       "      <th>4</th>\n",
       "      <td>1994</td>\n",
       "      <td>1075.720078</td>\n",
       "      <td>1059.695083</td>\n",
       "    </tr>\n",
       "  </tbody>\n",
       "</table>\n",
       "</div>"
      ],
      "text/plain": [
       "   Year    Emissions  rolling_emissions\n",
       "0  1990  1026.811317                NaN\n",
       "1  1991   910.017473                NaN\n",
       "2  1992  1040.116068                NaN\n",
       "3  1993  1245.810481                NaN\n",
       "4  1994  1075.720078        1059.695083"
      ]
     },
     "execution_count": 54,
     "metadata": {},
     "output_type": "execute_result"
    }
   ],
   "source": [
    "df_NatEmissions_CO_YEAR.head()"
   ]
  },
  {
   "cell_type": "code",
   "execution_count": 59,
   "id": "266b1147",
   "metadata": {},
   "outputs": [
    {
     "data": {
      "image/png": "[encoded data removed]",
      "text/plain": [
       "<Figure size 2000x700 with 1 Axes>"
      ]
     },
     "metadata": {},
     "output_type": "display_data"
    }
   ],
   "source": [
    "fig, ax1 = plt.subplots(figsize=(20,7))\n",
    "color = 'tab:red'\n",
    "\n",
    "ax1.set_xlabel('Year')\n",
    "#ax1.set_ylabel('CO2 Emissions', color=color)\n",
    "ax1.plot(df_NatEmissions_CO_YEAR['Year'], df_NatEmissions_CO_YEAR['Emissions'],color=color) \n",
    "plt.grid()\n",
    "\n",
    "#ax2 = ax1.twinx()  # instantiate a second axes that shares the same x-axis\n",
    "color = 'tab:blue'\n",
    "#ax2.set_ylabel('CO2 Emissions moving mean', color=color)\n",
    "ax1.plot(df_NatEmissions_CO_YEAR['Year'], df_NatEmissions_CO_YEAR['rolling_emissions'],color=color) \n",
    "#ax2.tick_params(axis='y', labelcolor=color)\n",
    "\n",
    "\n",
    "plt.show() "
   ]
  },
  {
   "cell_type": "code",
   "execution_count": null,
   "id": "ce7be7e4",
   "metadata": {},
   "outputs": [],
   "source": []
  },
  {
   "cell_type": "code",
   "execution_count": null,
   "id": "994d871d",
   "metadata": {},
   "outputs": [],
   "source": []
  },
  {
   "cell_type": "code",
   "execution_count": null,
   "id": "eb378eb2",
   "metadata": {},
   "outputs": [],
   "source": []
  },
  {
   "cell_type": "code",
   "execution_count": null,
   "id": "af0e5c7d",
   "metadata": {},
   "outputs": [],
   "source": []
  },
  {
   "cell_type": "code",
   "execution_count": null,
   "id": "7991c92a",
   "metadata": {},
   "outputs": [],
   "source": []
  },
  {
   "cell_type": "code",
   "execution_count": null,
   "id": "4f874899",
   "metadata": {},
   "outputs": [],
   "source": []
  },
  {
   "cell_type": "code",
   "execution_count": null,
   "id": "0641cb78",
   "metadata": {},
   "outputs": [],
   "source": []
  },
  {
   "cell_type": "code",
   "execution_count": null,
   "id": "649a1145",
   "metadata": {},
   "outputs": [],
   "source": []
  },
  {
   "cell_type": "code",
   "execution_count": null,
   "id": "ba65deb9",
   "metadata": {},
   "outputs": [],
   "source": []
  },
  {
   "cell_type": "code",
   "execution_count": null,
   "id": "abf0d8b8",
   "metadata": {},
   "outputs": [],
   "source": [
    "df_NatEmissions1 = df_NatEmissions[df_NatEmissions.Pollutant_name == 'CO']"
   ]
  },
  {
   "cell_type": "code",
   "execution_count": null,
   "id": "769dc029",
   "metadata": {},
   "outputs": [],
   "source": [
    "#AND\n",
    "df_NatEmissions2=df_NatEmissions[(df_NatEmissions.Pollutant_name == 'CO') & (df_NatEmissions.Sector_name == 'International aviation LTO (civil)')]\n",
    "#OR\n",
    "df_NatEmissions3=df_NatEmissions[(df_NatEmissions.Pollutant_name == 'CO') | (df_NatEmissions.Sector_name == 'International aviation LTO (civil)')]"
   ]
  },
  {
   "cell_type": "code",
   "execution_count": null,
   "id": "7a3bbbba",
   "metadata": {},
   "outputs": [
    {
     "data": {
      "text/plain": [
       "array(['International aviation LTO (civil)',\n",
       "       'Domestic aviation LTO (civil)',\n",
       "       'International aviation cruise (civil)',\n",
       "       'Domestic aviation cruise (civil)'], dtype=object)"
      ]
     },
     "execution_count": 28,
     "metadata": {},
     "output_type": "execute_result"
    }
   ],
   "source": [
    "#df_NatEmissions3.Pollutant_name.unique()\n",
    "df_NatEmissions3.Sector_name.unique()"
   ]
  },
  {
   "cell_type": "code",
   "execution_count": null,
   "id": "66e8d633",
   "metadata": {},
   "outputs": [],
   "source": []
  },
  {
   "cell_type": "code",
   "execution_count": null,
   "id": "2be29ccd",
   "metadata": {},
   "outputs": [],
   "source": []
  },
  {
   "cell_type": "code",
   "execution_count": null,
   "id": "9f88ff91",
   "metadata": {},
   "outputs": [],
   "source": []
  },
  {
   "cell_type": "code",
   "execution_count": null,
   "id": "3bcfd7e7",
   "metadata": {},
   "outputs": [],
   "source": []
  },
  {
   "cell_type": "code",
   "execution_count": null,
   "id": "9d796705",
   "metadata": {},
   "outputs": [],
   "source": [
    "input_data=pd.read_csv(ds_UNFCCEmissions,header=0, dtype='unicode')"
   ]
  },
  {
   "cell_type": "code",
   "execution_count": null,
   "id": "e53a8e8e",
   "metadata": {},
   "outputs": [
    {
     "data": {
      "text/html": [
       "<div>\n",
       "<style scoped>\n",
       "    .dataframe tbody tr th:only-of-type {\n",
       "        vertical-align: middle;\n",
       "    }\n",
       "\n",
       "    .dataframe tbody tr th {\n",
       "        vertical-align: top;\n",
       "    }\n",
       "\n",
       "    .dataframe thead th {\n",
       "        text-align: right;\n",
       "    }\n",
       "</style>\n",
       "<table border=\"1\" class=\"dataframe\">\n",
       "  <thead>\n",
       "    <tr style=\"text-align: right;\">\n",
       "      <th></th>\n",
       "      <th>Country_code</th>\n",
       "      <th>Country</th>\n",
       "      <th>Format_name</th>\n",
       "      <th>Pollutant_name</th>\n",
       "      <th>Sector_code</th>\n",
       "      <th>Sector_name</th>\n",
       "      <th>Parent_sector_code</th>\n",
       "      <th>Unit</th>\n",
       "      <th>Year</th>\n",
       "      <th>emissions</th>\n",
       "      <th>Notation</th>\n",
       "      <th>PublicationDate</th>\n",
       "      <th>DataSource</th>\n",
       "    </tr>\n",
       "  </thead>\n",
       "  <tbody>\n",
       "    <tr>\n",
       "      <th>0</th>\n",
       "      <td>AT</td>\n",
       "      <td>Austria</td>\n",
       "      <td>IPCC Common Reporting Format</td>\n",
       "      <td>All greenhouse gases - (CO2 equivalent)</td>\n",
       "      <td>-</td>\n",
       "      <td>- 4(IV)  Indirect N2O Emissions from Managed S...</td>\n",
       "      <td>4</td>\n",
       "      <td>Gg CO2 equivalent</td>\n",
       "      <td>1994</td>\n",
       "      <td>12.62568</td>\n",
       "      <td>NaN</td>\n",
       "      <td>20231006</td>\n",
       "      <td>EEA</td>\n",
       "    </tr>\n",
       "    <tr>\n",
       "      <th>1</th>\n",
       "      <td>AT</td>\n",
       "      <td>Austria</td>\n",
       "      <td>IPCC Common Reporting Format</td>\n",
       "      <td>All greenhouse gases - (CO2 equivalent)</td>\n",
       "      <td>-</td>\n",
       "      <td>- 4(IV)  Indirect N2O Emissions from Managed S...</td>\n",
       "      <td>4</td>\n",
       "      <td>Gg CO2 equivalent</td>\n",
       "      <td>1999</td>\n",
       "      <td>11.86116</td>\n",
       "      <td>NaN</td>\n",
       "      <td>20231006</td>\n",
       "      <td>EEA</td>\n",
       "    </tr>\n",
       "    <tr>\n",
       "      <th>2</th>\n",
       "      <td>AT</td>\n",
       "      <td>Austria</td>\n",
       "      <td>IPCC Common Reporting Format</td>\n",
       "      <td>All greenhouse gases - (CO2 equivalent)</td>\n",
       "      <td>-</td>\n",
       "      <td>- 4(IV)  Indirect N2O Emissions from Managed S...</td>\n",
       "      <td>4</td>\n",
       "      <td>Gg CO2 equivalent</td>\n",
       "      <td>2010</td>\n",
       "      <td>12.66384</td>\n",
       "      <td>NaN</td>\n",
       "      <td>20231006</td>\n",
       "      <td>EEA</td>\n",
       "    </tr>\n",
       "    <tr>\n",
       "      <th>3</th>\n",
       "      <td>AT</td>\n",
       "      <td>Austria</td>\n",
       "      <td>IPCC Common Reporting Format</td>\n",
       "      <td>All greenhouse gases - (CO2 equivalent)</td>\n",
       "      <td>-</td>\n",
       "      <td>- 4(IV)  Indirect N2O Emissions from Managed S...</td>\n",
       "      <td>4</td>\n",
       "      <td>Gg CO2 equivalent</td>\n",
       "      <td>2011</td>\n",
       "      <td>12.59482</td>\n",
       "      <td>NaN</td>\n",
       "      <td>20231006</td>\n",
       "      <td>EEA</td>\n",
       "    </tr>\n",
       "    <tr>\n",
       "      <th>4</th>\n",
       "      <td>AT</td>\n",
       "      <td>Austria</td>\n",
       "      <td>IPCC Common Reporting Format</td>\n",
       "      <td>All greenhouse gases - (CO2 equivalent)</td>\n",
       "      <td>1</td>\n",
       "      <td>1 - Energy</td>\n",
       "      <td>Sectors/Totals_incl_incl</td>\n",
       "      <td>Gg CO2 equivalent</td>\n",
       "      <td>1993</td>\n",
       "      <td>52087.32124</td>\n",
       "      <td>NaN</td>\n",
       "      <td>20231006</td>\n",
       "      <td>EEA</td>\n",
       "    </tr>\n",
       "  </tbody>\n",
       "</table>\n",
       "</div>"
      ],
      "text/plain": [
       "  Country_code  Country                   Format_name  \\\n",
       "0           AT  Austria  IPCC Common Reporting Format   \n",
       "1           AT  Austria  IPCC Common Reporting Format   \n",
       "2           AT  Austria  IPCC Common Reporting Format   \n",
       "3           AT  Austria  IPCC Common Reporting Format   \n",
       "4           AT  Austria  IPCC Common Reporting Format   \n",
       "\n",
       "                            Pollutant_name Sector_code  \\\n",
       "0  All greenhouse gases - (CO2 equivalent)           -   \n",
       "1  All greenhouse gases - (CO2 equivalent)           -   \n",
       "2  All greenhouse gases - (CO2 equivalent)           -   \n",
       "3  All greenhouse gases - (CO2 equivalent)           -   \n",
       "4  All greenhouse gases - (CO2 equivalent)           1   \n",
       "\n",
       "                                         Sector_name  \\\n",
       "0  - 4(IV)  Indirect N2O Emissions from Managed S...   \n",
       "1  - 4(IV)  Indirect N2O Emissions from Managed S...   \n",
       "2  - 4(IV)  Indirect N2O Emissions from Managed S...   \n",
       "3  - 4(IV)  Indirect N2O Emissions from Managed S...   \n",
       "4                                         1 - Energy   \n",
       "\n",
       "         Parent_sector_code               Unit  Year    emissions Notation  \\\n",
       "0                         4  Gg CO2 equivalent  1994     12.62568      NaN   \n",
       "1                         4  Gg CO2 equivalent  1999     11.86116      NaN   \n",
       "2                         4  Gg CO2 equivalent  2010     12.66384      NaN   \n",
       "3                         4  Gg CO2 equivalent  2011     12.59482      NaN   \n",
       "4  Sectors/Totals_incl_incl  Gg CO2 equivalent  1993  52087.32124      NaN   \n",
       "\n",
       "  PublicationDate DataSource  \n",
       "0        20231006        EEA  \n",
       "1        20231006        EEA  \n",
       "2        20231006        EEA  \n",
       "3        20231006        EEA  \n",
       "4        20231006        EEA  "
      ]
     },
     "execution_count": 30,
     "metadata": {},
     "output_type": "execute_result"
    }
   ],
   "source": [
    "input_data.head()"
   ]
  },
  {
   "cell_type": "code",
   "execution_count": null,
   "id": "b34c4bc5",
   "metadata": {},
   "outputs": [
    {
     "data": {
      "text/plain": [
       "8726068"
      ]
     },
     "execution_count": 31,
     "metadata": {},
     "output_type": "execute_result"
    }
   ],
   "source": [
    "input_data.size"
   ]
  }
 ],
 "metadata": {
  "kernelspec": {
   "display_name": "Python 3.10.6 ('dabs_venv': venv)",
   "language": "python",
   "name": "python3"
  },
  "language_info": {
   "codemirror_mode": {
    "name": "ipython",
    "version": 3
   },
   "file_extension": ".py",
   "mimetype": "text/x-python",
   "name": "python",
   "nbconvert_exporter": "python",
   "pygments_lexer": "ipython3",
   "version": "3.10.6"
  },
  "vscode": {
   "interpreter": {
    "hash": "7e6d6e820f3581dac8fa172373a8b5335c82ce34cb10cbc3340c5ea72ba4335f"
   }
  }
 },
 "nbformat": 4,
 "nbformat_minor": 5
}
